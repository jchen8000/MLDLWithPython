{
  "nbformat": 4,
  "nbformat_minor": 0,
  "metadata": {
    "colab": {
      "name": "Matrices.ipynb",
      "provenance": [],
      "authorship_tag": "ABX9TyP+P8nmj5PQUEjqYgQnR3ax",
      "include_colab_link": true
    },
    "kernelspec": {
      "name": "python3",
      "display_name": "Python 3"
    },
    "language_info": {
      "name": "python"
    }
  },
  "cells": [
    {
      "cell_type": "markdown",
      "metadata": {
        "id": "view-in-github",
        "colab_type": "text"
      },
      "source": [
        "<a href=\"https://colab.research.google.com/github/jchen8000/MachineLearning/blob/master/0%20Math%20Fondamental/Matrices.ipynb\" target=\"_parent\"><img src=\"https://colab.research.google.com/assets/colab-badge.svg\" alt=\"Open In Colab\"/></a>"
      ]
    },
    {
      "cell_type": "code",
      "execution_count": 1,
      "metadata": {
        "id": "1RTCSM_8oC7p"
      },
      "outputs": [],
      "source": [
        "import numpy as np\n"
      ]
    },
    {
      "cell_type": "markdown",
      "source": [
        "# 1. Matrices\n",
        "\n",
        "## 1.1 An example of a matrix.\n",
        "\n",
        "A matrix is a rectangular, or square, array of numbers, expressions, or symbols, which are arranged in rows and columns. If a matrix has $m$ rows and $n$ columns, it's called a $m \\times n$ matrix.\n",
        "\n",
        "$\\space $\n",
        "\n",
        "As an example: \n",
        "\n",
        "$ A = \\begin{bmatrix}3&8&5&12\\\\-5&28&3&10\\\\6&2&15&3\\end{bmatrix} $\n",
        "\n",
        "This matrix has 3 rows and 4 columns, this is called a $3 × 4$ matrix.\n",
        "\n",
        "In Python *numpy.array()* function is used to define a matrix, there is no  built-in type for matrices in Python. \n",
        "\n",
        "For example:"
      ],
      "metadata": {
        "id": "xpMINsUnokHF"
      }
    },
    {
      "cell_type": "code",
      "source": [
        "A = np.array([[3, 8, 5, 12], \n",
        "              [-5, 28, 3, 10],\n",
        "              [-6, 2, 15, 3]\n",
        "              ])\n",
        "print(\"A =\", A) \n"
      ],
      "metadata": {
        "colab": {
          "base_uri": "https://localhost:8080/"
        },
        "id": "LrptKEQTpAJ3",
        "outputId": "77d87c21-7eef-47ef-c71e-686953ccdff4"
      },
      "execution_count": 2,
      "outputs": [
        {
          "output_type": "stream",
          "name": "stdout",
          "text": [
            "A = [[ 3  8  5 12]\n",
            " [-5 28  3 10]\n",
            " [-6  2 15  3]]\n"
          ]
        }
      ]
    },
    {
      "cell_type": "markdown",
      "source": [
        "In general, a $m × n$ matrix is shown as below\n",
        "\n",
        "$ A =  \\begin{bmatrix}\n",
        " a_{11}&a_{12}&a_{13}&...&a_{1n}\\\\\n",
        " a_{21}&a_{22}&a_{23}&...&a_{2n}\\\\\n",
        " a_{31}&a_{32}&a_{33}&...&a_{3n}\\\\\n",
        " ...&...&...&...&a_{4n}\\\\\n",
        " a_{m1}&a_{m2}&a_{m3}&...&a_{mn}\n",
        " \\end{bmatrix} $"
      ],
      "metadata": {
        "id": "eoqXT-YhtVV1"
      }
    },
    {
      "cell_type": "markdown",
      "source": [
        "**Equality of Matrices**\n",
        "\n",
        "The two matrices A and B are equal if: 1) the rows and columns of matrix A is same as that of matrix B, and 2) the elements of the matrix A should be equal to the corresponding elements of B.\n",
        "\n",
        "\n",
        "Python provides some functions to check the equality of two matrices. *numpy.array_equal()* function returns True two matrices are the equal, and False if not."
      ],
      "metadata": {
        "id": "5XRT9QLSHdD_"
      }
    },
    {
      "cell_type": "code",
      "source": [
        "A = np.array([[3, 8, 5, 12], \n",
        "              [-5, 28, 3, 10],\n",
        "              [-6, 2, 15, 3]\n",
        "              ])\n",
        "B = np.array([[3, 8, 5, 12], \n",
        "              [-5, 28, 3, 10],\n",
        "              [-6, 2, 15, 3]\n",
        "              ])\n",
        "print(\"A = B?\", np.array_equal(A,B))\n",
        "\n",
        "C = np.array([[2, 8, 5, 12], \n",
        "              [-5, 28, 3, 10],\n",
        "              [-6, 2, 15, 3]\n",
        "              ])\n",
        "print(\"A = C?\", np.array_equal(A,C))"
      ],
      "metadata": {
        "id": "nt9p3uy4G5Xo",
        "outputId": "82aaa882-b4bd-407c-f6eb-dc01cb58edd2",
        "colab": {
          "base_uri": "https://localhost:8080/"
        }
      },
      "execution_count": 3,
      "outputs": [
        {
          "output_type": "stream",
          "name": "stdout",
          "text": [
            "A = B? True\n",
            "A = C? False\n"
          ]
        }
      ]
    },
    {
      "cell_type": "markdown",
      "source": [
        "Another Python function to check equality is *numpy.equal()*, it checks  element by element and gives the result of each element."
      ],
      "metadata": {
        "id": "Yu1BgOcdJwfz"
      }
    },
    {
      "cell_type": "code",
      "source": [
        "print(\"A = B?\\n\", np.equal(A,B))\n",
        "print(\"\\nA = C?\\n\", np.equal(A,C))"
      ],
      "metadata": {
        "id": "J-Zjj3RRKZMw",
        "outputId": "cbfdeda9-a45b-4146-e9b6-5472fe8d9dd9",
        "colab": {
          "base_uri": "https://localhost:8080/"
        }
      },
      "execution_count": 4,
      "outputs": [
        {
          "output_type": "stream",
          "name": "stdout",
          "text": [
            "A = B?\n",
            " [[ True  True  True  True]\n",
            " [ True  True  True  True]\n",
            " [ True  True  True  True]]\n",
            "\n",
            "A = C?\n",
            " [[False  True  True  True]\n",
            " [ True  True  True  True]\n",
            " [ True  True  True  True]]\n"
          ]
        }
      ]
    },
    {
      "cell_type": "markdown",
      "source": [
        "In machine learning the matrices contain the calculated numbers, in most of cases it's difficult to get exact same matrices, instead, the two matrices are considered equal if they are close enough. *numpy.isclose()* function uses a tolerance limit to decide if two matrices are equal, if the differences between the elements less than the tolerance limit value, they are considered close enough and said to be equal.\n",
        "\n",
        "Below example uses tolerance = 1e-2 to compare two matrices, the results are True for all elements. You can adjust the tolerance value to change the threshold to define how you consider they are equal."
      ],
      "metadata": {
        "id": "mQV0P_WUK8Yr"
      }
    },
    {
      "cell_type": "code",
      "source": [
        "A = np.array([[3.005, 8.492, 4.996, 12.001], \n",
        "              [-5.002, 27.993, 3.002, 10.0045],\n",
        "              [-6.0034, 2.00012, 15.003, 2.9995]\n",
        "              ])\n",
        "B = np.array([[2.998, 8.5, 5.001, 11.997], \n",
        "              [-4.992, 28.0004, 3.0015, 9.9994],\n",
        "              [-6.0023, 2.00045, 14.9996, 3.0001]\n",
        "              ])\n",
        "print(np.isclose(A,B,atol=1e-2))"
      ],
      "metadata": {
        "id": "vBdzQonZMjjx",
        "outputId": "4ff42a89-5fab-4b6c-d0de-8e64bc34686b",
        "colab": {
          "base_uri": "https://localhost:8080/"
        }
      },
      "execution_count": 5,
      "outputs": [
        {
          "output_type": "stream",
          "name": "stdout",
          "text": [
            "[[ True  True  True  True]\n",
            " [ True  True  True  True]\n",
            " [ True  True  True  True]]\n"
          ]
        }
      ]
    },
    {
      "cell_type": "markdown",
      "source": [
        "## 1.2 Addition and Subtraction of Matrices\n",
        "\n",
        "**Addition:**\n",
        "\n",
        "$A + B =  \\begin{bmatrix}\n",
        " a_{11}&a_{12}&...&a_{1n}\\\\\n",
        " a_{21}&a_{22}&...&a_{2n}\\\\\n",
        " ...&...&...&...\\\\\n",
        " a_{m1}&a_{m2}&...&a_{mn}\n",
        " \\end{bmatrix} + \n",
        "\\begin{bmatrix}\n",
        " b_{11}&b_{12}&...&b_{1n}\\\\\n",
        " b_{21}&b_{22}&...&b_{2n}\\\\\n",
        " ...&...&...&...\\\\\n",
        " b_{m1}&b_{m2}&...&b_{mn}\n",
        " \\end{bmatrix} = \n",
        "\\begin{bmatrix}\n",
        " a_{11}+b_{11}&a_{12}+b_{12}&...&a_{1n}+b_{1n}\\\\\n",
        " a_{21}+b_{21}&a_{22}+b_{22}&...&a_{2n}+b_{2n}\\\\\n",
        " ...&...&...&...\\\\\n",
        " a_{m1}+b_{m1}&a_{m2}+b_{m2}&...&a_{mn}+b_{mn}\n",
        " \\end{bmatrix}$\n",
        "\n",
        "\n",
        "**Subtraction:**\n",
        "\n",
        "$ A - B =  \\begin{bmatrix}\n",
        " a_{11}&a_{12}&...&a_{1n}\\\\\n",
        " a_{21}&a_{22}&...&a_{2n}\\\\\n",
        " ...&...&...&...\\\\\n",
        " a_{m1}&a_{m2}&...&a_{mn}\n",
        " \\end{bmatrix} - \n",
        "\\begin{bmatrix}\n",
        " b_{11}&b_{12}&...&b_{1n}\\\\\n",
        " b_{21}&b_{22}&...&b_{2n}\\\\\n",
        " ...&...&...&...\\\\\n",
        " b_{m1}&b_{m2}&...&b_{mn}\n",
        " \\end{bmatrix} = \n",
        "\\begin{bmatrix}\n",
        " a_{11}-b_{11}&a_{12}-b_{12}&...&a_{1n}-b_{1n}\\\\\n",
        " a_{21}-b_{21}&a_{22}-b_{22}&...&a_{2n}-b_{2n}\\\\\n",
        " ...&...&...&...\\\\\n",
        " a_{m1}-b_{m1}&a_{m2}-b_{m2}&...&a_{mn}-b_{mn}\n",
        " \\end{bmatrix}$\n",
        "\n",
        "Matrices A and B must be in the same size in order to perform addition and subtraction operations, there will be errors otherwise.\n",
        "\n",
        "**Properties of Addition and Subtraction:**\n",
        "1. Commutative Law: A + B = B + A\n",
        "2. Associative Law:  (A + B) + C = A + (B + C)\n",
        "3. Identity of the Matrix: A + O =  O + A = A, where O is zero matrix\n",
        "4. Additive Inverse: A + (-A) = 0 = (-A) + A\n",
        "5. A - B = A + (-B)"
      ],
      "metadata": {
        "id": "bn6jJB2GSLOX"
      }
    },
    {
      "cell_type": "markdown",
      "source": [
        "In Python, the numpy.add() is used for matrix addition and numpy.subtract() for subtraction.\n",
        "\n",
        "For example:"
      ],
      "metadata": {
        "id": "vrTn4teYbflu"
      }
    },
    {
      "cell_type": "code",
      "source": [
        "A = np.array([[3, -1, 2], [-16, 2, -3]])\n",
        "B = np.array([[8, 2, -8], [2, 1, 10]])\n",
        "print (\"A =\\n\", A) \n",
        "print (\"\\nB =\\n\", B) \n",
        "    \n",
        "C = np.add(A, B) \n",
        "print (\"\\nC = A + B =\\n\", C) \n",
        "\n",
        "D = np.subtract(A, B) \n",
        "print (\"\\nD = A = B =\\n\", D) "
      ],
      "metadata": {
        "colab": {
          "base_uri": "https://localhost:8080/"
        },
        "id": "UurgyBJFZdap",
        "outputId": "f32989e2-edf7-4f66-a6a4-26d32d4322ca"
      },
      "execution_count": 6,
      "outputs": [
        {
          "output_type": "stream",
          "name": "stdout",
          "text": [
            "A =\n",
            " [[  3  -1   2]\n",
            " [-16   2  -3]]\n",
            "\n",
            "B =\n",
            " [[ 8  2 -8]\n",
            " [ 2  1 10]]\n",
            "\n",
            "C = A + B =\n",
            " [[ 11   1  -6]\n",
            " [-14   3   7]]\n",
            "\n",
            "D = A = B =\n",
            " [[ -5  -3  10]\n",
            " [-18   1 -13]]\n"
          ]
        }
      ]
    },
    {
      "cell_type": "markdown",
      "source": [
        "The two matrices must be in the same size to perform addition and subtraction, otherwise error will occur. Below example shows an error when doing addition for a 2 x 2 and 3 x 3 matrices."
      ],
      "metadata": {
        "id": "5xzsdmTocijk"
      }
    },
    {
      "cell_type": "code",
      "source": [
        "A = np.array([[3, -1], [-16, 2]])\n",
        "B = np.array([[8, 2, -8], [2, 1, 10]])\n",
        "print (\"A =\\n\", A) \n",
        "print (\"\\nB =\\n\", B) \n",
        "\n",
        "# Below two lines show an error when adding different size of matrix\n",
        "# C = np.add(A, B) \n",
        "# print (\"\\nC = A + B =\\n\", C) "
      ],
      "metadata": {
        "colab": {
          "base_uri": "https://localhost:8080/"
        },
        "id": "DypG5FOkcM09",
        "outputId": "bbb53edc-c973-463c-ffdc-54310ed66901"
      },
      "execution_count": 7,
      "outputs": [
        {
          "output_type": "stream",
          "name": "stdout",
          "text": [
            "A =\n",
            " [[  3  -1]\n",
            " [-16   2]]\n",
            "\n",
            "B =\n",
            " [[ 8  2 -8]\n",
            " [ 2  1 10]]\n"
          ]
        }
      ]
    },
    {
      "cell_type": "markdown",
      "source": [
        "**Scalar Addition and Subtraction**\n",
        "\n",
        "The Addition and Subtraction can be performed between a matrix and a scalar (or a number), the result is the matrix with each item added to or subtracted by the scaler.\n",
        "\n",
        "$C = k \\pm A = k \\pm  \\begin{bmatrix}\n",
        " a_{11}&a_{12}&...&a_{1n}\\\\\n",
        " a_{21}&a_{22}&...&a_{2n}\\\\\n",
        " ...&...&...&...\\\\\n",
        " a_{m1}&a_{m2}&...&a_{mn}\n",
        " \\end{bmatrix} = \n",
        "\\begin{bmatrix}\n",
        " k \\pm a_{11}&k \\pm a_{12}&...&k \\pm a_{1n}\\\\\n",
        " k \\pm a_{21}&k \\pm a_{22}&...&k \\pm a_{2n}\\\\\n",
        " ...&...&...&...\\\\\n",
        " k \\pm a_{m1}&k \\pm a_{m2}&...&k \\pm a_{mn}\n",
        " \\end{bmatrix}\n",
        "$\n",
        "\n",
        "For example,  "
      ],
      "metadata": {
        "id": "4c-qPf_2wdrp"
      }
    },
    {
      "cell_type": "code",
      "source": [
        "A = np.array([[3, -1], [-16, 2]])\n",
        "k = 5\n",
        "print (\"A =\\n\", A) \n",
        "print (\"\\nk =\", k)\n",
        "\n",
        "C = np.add(A, k)\n",
        "print (\"\\nC = A + k =\\n\", C) \n",
        "\n",
        "D = np.subtract(A, k)\n",
        "print (\"\\nD = A - k =\\n\", D) "
      ],
      "metadata": {
        "id": "1RYQ69OZeIHC",
        "outputId": "cb260e83-8b3d-401e-f12b-33dd4dec3af7",
        "colab": {
          "base_uri": "https://localhost:8080/"
        }
      },
      "execution_count": 8,
      "outputs": [
        {
          "output_type": "stream",
          "name": "stdout",
          "text": [
            "A =\n",
            " [[  3  -1]\n",
            " [-16   2]]\n",
            "\n",
            "k = 5\n",
            "\n",
            "C = A + k =\n",
            " [[  8   4]\n",
            " [-11   7]]\n",
            "\n",
            "D = A - k =\n",
            " [[ -2  -6]\n",
            " [-21  -3]]\n"
          ]
        }
      ]
    },
    {
      "cell_type": "markdown",
      "source": [
        "## 1.3 Multiplication of Matrices\n",
        "\n",
        "Two matrices can be multiplied only when the number of columns in the first matrix equals to the number of rows in the second. I.e.\n",
        "\n",
        "The first matrix is $m \\times n$, and the second is $n × k$.\n",
        "\n",
        "The resulting of the multiplication has the number of rows the same as the first matrix and the number of columns the same as the second matrix. I.e.\n",
        "\n",
        "$(m \\times n)(n \\times k) = (m \\times k)$\n",
        "\n",
        "$\\space$\n",
        "\n",
        "In Python, the numpy.matmul() is used for matrix multiplication.\n",
        "For example,\n",
        "\n",
        "$\\begin{bmatrix}\n",
        " 3&-1&2\\\\\n",
        " -16&2&-3\n",
        " \\end{bmatrix} \\cdot\n",
        "\\begin{bmatrix}\n",
        " 8&2&\\\\\n",
        " 2&1\\\\\n",
        " 3&2\n",
        " \\end{bmatrix} = \n",
        "\\begin{bmatrix}\n",
        " 28&9\\\\\n",
        " -133&-36\n",
        " \\end{bmatrix}$\n",
        "\n"
      ],
      "metadata": {
        "id": "nOs8UjXqAd59"
      }
    },
    {
      "cell_type": "markdown",
      "source": [
        "The matrices multiplication involves dot products between rows of first matrix and columns of the second matrix. As shown below, the first step is the dot product between the first row of the first matrix and the first column of the second matrix. The result of this dot product is the element of resulting matrix at the first row and first column.\n",
        "\n",
        "i.e. dot product of $\\begin{bmatrix}\n",
        " 3&-1&2\\\\\n",
        " \\end{bmatrix} \\cdot\n",
        "\\begin{bmatrix}\n",
        " 8\\\\\n",
        " 2\\\\\n",
        " 3\n",
        " \\end{bmatrix} = 3 \\times 8 + (-1) \\times 2 + 2 \\times 3 = 28\n",
        "$\n",
        "\n",
        "Then the dot product between the same row of first matrix and the second column of the second matrix, and the result is positioned at first row and second column. \n",
        "\n",
        "i.e. dot product of $\\begin{bmatrix}\n",
        " 3&-1&2\\\\\n",
        " \\end{bmatrix} \\cdot\n",
        "\\begin{bmatrix}\n",
        " 2\\\\\n",
        " 1\\\\\n",
        " 2\n",
        " \\end{bmatrix} = 3 \\times 2 + (-1) \\times 1 + 2 \\times 2 = 9\n",
        "$\n",
        "\n",
        "And so on.\n",
        "\n",
        "<div>\n",
        "<img src=\"https://raw.githubusercontent.com/jchen8000/MachineLearning/master/images/matrices_multiply.svg?token=GHSAT0AAAAAABT5MJMXQKOXQTB2CA6MCNU2YTISXCQ\" width=\"480\"/>\n",
        "</div>"
      ],
      "metadata": {
        "id": "9sZmCpMUb_A8"
      }
    },
    {
      "cell_type": "code",
      "source": [
        "A = np.array([[3, -1, 2], [-16, 2, -3]])\n",
        "B = np.array([[8, 2], [2, 1], [3, 2]])\n",
        "print (\"A(2x3) =\\n\", A) \n",
        "print (\"\\nB(3x2) =\\n\", B) \n",
        "    \n",
        "C = np.matmul(A, B) \n",
        "print (\"\\nC(2x2) = A x B =\\n\", C) "
      ],
      "metadata": {
        "id": "6g7onuh_I7BO",
        "outputId": "df9d316b-46de-491b-d613-f943d532b60a",
        "colab": {
          "base_uri": "https://localhost:8080/"
        }
      },
      "execution_count": 9,
      "outputs": [
        {
          "output_type": "stream",
          "name": "stdout",
          "text": [
            "A(2x3) =\n",
            " [[  3  -1   2]\n",
            " [-16   2  -3]]\n",
            "\n",
            "B(3x2) =\n",
            " [[8 2]\n",
            " [2 1]\n",
            " [3 2]]\n",
            "\n",
            "C(2x2) = A x B =\n",
            " [[  28    9]\n",
            " [-133  -36]]\n"
          ]
        }
      ]
    },
    {
      "cell_type": "markdown",
      "source": [
        "Sum of square can be calculated by dot product or multiplication for a vector.\n",
        "\n",
        "$A =  \\begin{bmatrix}\n",
        " a_{1}&a_{2}&...&a_{n}\n",
        " \\end{bmatrix}$\n",
        "\n",
        "$\\begin{array}{rcl}\n",
        "\\displaystyle\\sum_{i=1}^{n}a_i^2 & = & a_1^2 + a_2^2 +...+ a_n^2 \\\\\n",
        " & = & \\begin{bmatrix}a_{1}&a_{2}&...&a_{n}\\end{bmatrix} \\cdot \\begin{bmatrix}\n",
        " a_1\\\\ a_2\\\\ ...\\\\ a_n\\end{bmatrix}\\\\\n",
        " & = & A \\cdot A^T\n",
        "\\end{array}$\n",
        "\n",
        "Either *np.dot()* or *np.matmul()* can be used for this purpose."
      ],
      "metadata": {
        "id": "ujsjZvZyomYT"
      }
    },
    {
      "cell_type": "code",
      "source": [
        "A = np.array([3, -1, 2, -6, 2, -3])\n",
        "B = np.array([1,  2, 3, 2, -1, 5])\n",
        "print(\"Sum of square:\", np.matmul(A, np.transpose(A)) )\n",
        "print(\"Sum of multiply:\", np.dot(A, np.transpose(B)) )"
      ],
      "metadata": {
        "colab": {
          "base_uri": "https://localhost:8080/"
        },
        "id": "Msaywy6epW7g",
        "outputId": "cfd4ff9f-f6c4-4fe8-a048-3f3a449a5267"
      },
      "execution_count": 10,
      "outputs": [
        {
          "output_type": "stream",
          "name": "stdout",
          "text": [
            "Sum of square: 63\n",
            "Sum of multiply: -22\n"
          ]
        }
      ]
    },
    {
      "cell_type": "markdown",
      "source": [
        "\n",
        "$\\space$\n",
        "\n",
        "In general, \n",
        "\n",
        "$ C_{m \\times k} = A_{m \\times n} \\cdot B_{n \\times k} =  \\begin{bmatrix}\n",
        " a_{11}&a_{12}&...&a_{1n}\\\\\n",
        " a_{21}&a_{22}&...&a_{2n}\\\\\n",
        " ...&...&...&...\\\\\n",
        " a_{m1}&a_{m2}&...&a_{mn}\n",
        " \\end{bmatrix} \\cdot\n",
        "\\begin{bmatrix}\n",
        " b_{11}&b_{12}&...&b_{1k}\\\\\n",
        " b_{21}&b_{22}&...&b_{2k}\\\\\n",
        " ...&...&...&...\\\\\n",
        " b_{n1}&b_{n2}&...&b_{nk}\n",
        " \\end{bmatrix} = \n",
        "\\begin{bmatrix}\n",
        " c_{11}&a_{12}&...&c_{1k}\\\\\n",
        " c_{21}&a_{22}&...&c_{2k}\\\\\n",
        " ...&...&...&...\\\\\n",
        " c_{m1}&c_{m2}&...&c_{mk}\n",
        " \\end{bmatrix}$\n",
        "\n",
        "where \n",
        " \n",
        "$c_{ij} = a_{i1}  b_{1j} + a_{i2}b_{2j} + a_{i3}b_{3j} + ... + a_{in}b_{nj}$\n",
        "\n",
        "\n",
        "$\\space$\n",
        "\n",
        "**Properties of Matrix Multiplication**\n",
        "\n",
        "1. $(AB)C = A(BC)$\n",
        "2. $AB \\neq BA$\n",
        "3. $A(B+C) = AB + AC$\n",
        "4. $(A+B)C = AC + BC$"
      ],
      "metadata": {
        "id": "ZoG3lvlFI_si"
      }
    },
    {
      "cell_type": "markdown",
      "source": [
        "**Scalar Multiplication**\n",
        "\n",
        "Similar to scalar addition, the matrix can be multiplied by a scalar number, the resulting matrix is same size as the original matrix, and each element of the matrix is multiplied by the scalar.\n",
        "\n",
        "$C = \\lambda A = \\lambda \\begin{bmatrix}\n",
        " a_{11}&a_{12}&...&a_{1n}\\\\\n",
        " a_{21}&a_{22}&...&a_{2n}\\\\\n",
        " ...&...&...&...\\\\\n",
        " a_{m1}&a_{m2}&...&a_{mn}\n",
        " \\end{bmatrix} = \n",
        "\\begin{bmatrix}\n",
        " \\lambda a_{11}&\\lambda a_{12}&...&\\lambda a_{1n}\\\\\n",
        " \\lambda a_{21}&\\lambda a_{22}&...&\\lambda a_{2n}\\\\\n",
        " ...&...&...&...\\\\\n",
        " \\lambda a_{m1}&\\lambda a_{m2}&...&\\lambda a_{mn}\n",
        " \\end{bmatrix}$\n",
        "\n",
        "In Python, for example,"
      ],
      "metadata": {
        "id": "bXIB0R-4c7UX"
      }
    },
    {
      "cell_type": "code",
      "source": [
        "A = np.array([[3, -1, 2], [-16, 2, -3]])\n",
        "k = 3\n",
        "print (\"A =\\n\", A) \n",
        "print (\"\\nk =\", k) \n",
        "    \n",
        "C = k * A \n",
        "print (\"\\nC = k * A =\\n\", C) "
      ],
      "metadata": {
        "id": "j1o_qHpWe9fY",
        "outputId": "1b8d12a9-df72-4bd2-c798-b5642cd78fe5",
        "colab": {
          "base_uri": "https://localhost:8080/"
        }
      },
      "execution_count": 11,
      "outputs": [
        {
          "output_type": "stream",
          "name": "stdout",
          "text": [
            "A =\n",
            " [[  3  -1   2]\n",
            " [-16   2  -3]]\n",
            "\n",
            "k = 3\n",
            "\n",
            "C = k * A =\n",
            " [[  9  -3   6]\n",
            " [-48   6  -9]]\n"
          ]
        }
      ]
    },
    {
      "cell_type": "markdown",
      "source": [
        "## 1.4 Identity Matrix and Inverse of Matrices\n",
        "\n",
        "**What is an identity matrix?**\n",
        "\n",
        "An identity matrix is a square matrix where its diagonal elements have the value of one, while the rest of the matrix elements are zero.\n",
        "\n",
        "$I = \n",
        "\\begin{bmatrix}\n",
        " 1&0&\\cdots&0\\\\\n",
        " 0&1&\\cdots&0\\\\\n",
        " \\cdots&\\cdots&\\cdots&\\cdots \\\\\n",
        " 0&0&\\cdots&1\\\\\n",
        " \\end{bmatrix} $\n",
        "\n",
        "In Python, *numpy.identity()* function is used to initialize an identity matrix. \n",
        "\n",
        "E.g. below code defines a 5 x 5 identity matrix:"
      ],
      "metadata": {
        "id": "Uhql_WkXrBKx"
      }
    },
    {
      "cell_type": "code",
      "source": [
        "I = np.identity(5)\n",
        "print(\"I=\\n\", I)"
      ],
      "metadata": {
        "colab": {
          "base_uri": "https://localhost:8080/"
        },
        "id": "LFBb7ZzBuADU",
        "outputId": "8d78204f-b180-4910-e7ca-feab19f9a4c6"
      },
      "execution_count": 12,
      "outputs": [
        {
          "output_type": "stream",
          "name": "stdout",
          "text": [
            "I=\n",
            " [[1. 0. 0. 0. 0.]\n",
            " [0. 1. 0. 0. 0.]\n",
            " [0. 0. 1. 0. 0.]\n",
            " [0. 0. 0. 1. 0.]\n",
            " [0. 0. 0. 0. 1.]]\n"
          ]
        }
      ]
    },
    {
      "cell_type": "markdown",
      "source": [
        "**What is the Inverse of a Matrix?**\n",
        "\n",
        "The inverse of a matrix $A$, also called a reciprocal matrix, is a matrix denoted as $A^{-1}$, such as a reciprocal of number 5 is $\\frac{1}{5}$.\n",
        "\n",
        "A number multiplied by its reciprocal gets result of 1, \n",
        "\n",
        "$5 \\cdot \\frac{1}{5} = 1$\n",
        "\n",
        "Similarly, a matrix multiplied by its inverse gets identity matrix,\n",
        "\n",
        "$A \\cdot A^{-1} = I$\n",
        "\n",
        "Hopefully this explains the inverse of a matrix. It's complicated to calculate the inverse, and sometimes there is no inverse for some matrices. We do not introduce the methods to calculate it. Fortunately Python provide function numpy.linalg.inv() to calculate inverse.\n",
        "\n",
        "For example:"
      ],
      "metadata": {
        "id": "LHFVJDppvucl"
      }
    },
    {
      "cell_type": "code",
      "source": [
        "A = np.array([[3, -1, 2], [-16, 2, -3], [8, 1, 6]])\n",
        "A_1 = np.linalg.inv(A)\n",
        "I = np.matmul(A, A_1) \n",
        "print(\"A=\\n\", A)\n",
        "print(\"\\nInverse of A_1 = \\n\", A_1)\n",
        "print(\"\\nA multiply by A_1:\\n\", I)\n",
        "\n",
        "print(\"\\nCheck A multiply by A_1 with Identity:\\n\", np.isclose(I,np.identity(3)))"
      ],
      "metadata": {
        "colab": {
          "base_uri": "https://localhost:8080/"
        },
        "id": "aYCQBsY65Ak1",
        "outputId": "f8ece87f-45a6-4690-b2d6-706d81db48a5"
      },
      "execution_count": 13,
      "outputs": [
        {
          "output_type": "stream",
          "name": "stdout",
          "text": [
            "A=\n",
            " [[  3  -1   2]\n",
            " [-16   2  -3]\n",
            " [  8   1   6]]\n",
            "\n",
            "Inverse of A_1 = \n",
            " [[-0.16483516 -0.08791209  0.01098901]\n",
            " [-0.79120879 -0.02197802  0.25274725]\n",
            " [ 0.35164835  0.12087912  0.10989011]]\n",
            "\n",
            "A multiply by A_1:\n",
            " [[ 1.00000000e+00  5.55111512e-17  2.77555756e-17]\n",
            " [ 1.66533454e-16  1.00000000e+00  1.38777878e-17]\n",
            " [-3.33066907e-16  0.00000000e+00  1.00000000e+00]]\n",
            "\n",
            "Check A multiply by A_1 with Identity:\n",
            " [[ True  True  True]\n",
            " [ True  True  True]\n",
            " [ True  True  True]]\n"
          ]
        }
      ]
    },
    {
      "cell_type": "markdown",
      "source": [
        "There is no concept of matrix division, however the inverse can by used for this purpose. For example there is:\n",
        "\n",
        "$XA = B$\n",
        "\n",
        "We know $A$ and $B$, and want to find $X$\n",
        "\n",
        "First, multiply both sides by $A^{-1}$\n",
        "\n",
        "$XAA^{-1} = BA^{-1}$\n",
        "\n",
        "$XI = BA^{-1}$\n",
        "\n",
        "Because $XI = X$, so finally:\n",
        "\n",
        "$X = BA^{-1}$"
      ],
      "metadata": {
        "id": "GapL8qJ18FTR"
      }
    },
    {
      "cell_type": "markdown",
      "source": [
        "## 1.5 Matrix Transpose\n",
        "\n",
        "The transpose of matrix $A$ is denoted as $A^T$, and simply switches its rows with columns. \n",
        "\n",
        "In Python, *numpy.transpose()* is used for transpose."
      ],
      "metadata": {
        "id": "08YB5za9FGQG"
      }
    },
    {
      "cell_type": "code",
      "source": [
        "A = np.array([[3, -1, 2], [-16, 2, -3]])\n",
        "A_t = np.transpose(A)\n",
        "print(\"A=\\n\", A)\n",
        "print(\"\\nTranspose = \\n\", A_t)"
      ],
      "metadata": {
        "id": "hZmmeqRTGhBr",
        "outputId": "d0652aff-9329-461b-c6f1-a44bc0d6c34a",
        "colab": {
          "base_uri": "https://localhost:8080/"
        }
      },
      "execution_count": 14,
      "outputs": [
        {
          "output_type": "stream",
          "name": "stdout",
          "text": [
            "A=\n",
            " [[  3  -1   2]\n",
            " [-16   2  -3]]\n",
            "\n",
            "Transpose = \n",
            " [[  3 -16]\n",
            " [ -1   2]\n",
            " [  2  -3]]\n"
          ]
        }
      ]
    },
    {
      "cell_type": "markdown",
      "source": [
        "## 1.6 Matrix Determinant\n",
        "\n",
        "The determinant is a number that can be calculated from a square matrix. The matrix must be square which means it has the same number of rows as columns. It's denoted as:\n",
        "\n",
        "$det(A) = \\left| A \\right| = \\begin{vmatrix}\n",
        " a_{11}&a_{12}&...&a_{1n}\\\\\n",
        " a_{21}&a_{22}&...&a_{2n}\\\\\n",
        " ...&...&...&...\\\\\n",
        " a_{n1}&a_{n2}&...&a_{nn}\n",
        " \\end{vmatrix}$\n",
        "\n",
        "$\\space$\n",
        "\n",
        " **How to calculate the determinant?**\n",
        "\n",
        " Let's begin with an example of 2 x 2 matrix:\n",
        "\n",
        "$det(A) = \\left| A \\right| = \n",
        "\\begin{vmatrix}\n",
        " 3&-1\\\\\n",
        " 5&2\\\\\n",
        "\\end{vmatrix} = 3 \\times 2 - (-1) \\times 5 = 11$\n",
        "\n",
        "*numpy.linalg.det()* function is provided for calculating determinant."
      ],
      "metadata": {
        "id": "kD56TnTFU8pc"
      }
    },
    {
      "cell_type": "code",
      "source": [
        "A = np.array([[3, -1], [5, 2]])\n",
        "A_det = np.linalg.det(A)\n",
        "print(\"A=\\n\", A)\n",
        "print(\"\\nDeterminant = \\n\", A_det)"
      ],
      "metadata": {
        "id": "DKvFxgCyYN-8",
        "outputId": "848ea445-0d54-4ea2-a329-5e9be7cea46f",
        "colab": {
          "base_uri": "https://localhost:8080/"
        }
      },
      "execution_count": 15,
      "outputs": [
        {
          "output_type": "stream",
          "name": "stdout",
          "text": [
            "A=\n",
            " [[ 3 -1]\n",
            " [ 5  2]]\n",
            "\n",
            "Determinant = \n",
            " 11.000000000000002\n"
          ]
        }
      ]
    },
    {
      "cell_type": "markdown",
      "source": [
        "Calculate the determinant for a 3 x 3 matrix,\n",
        "\n",
        "$det(A) = \\left| A \\right| = \n",
        "\\begin{vmatrix}\n",
        " 3&-1&2\\\\\n",
        " -16&2&-3\\\\\n",
        " 8&1&6\\\\\n",
        "\\end{vmatrix}= 3 \\begin{vmatrix}\n",
        " 2&-3\\\\\n",
        " 1&6\\\\\n",
        "\\end{vmatrix} - (-1) \\begin{vmatrix}\n",
        " -16&-3\\\\\n",
        " 8&6\\\\\n",
        "\\end{vmatrix} + 2 \\begin{vmatrix}\n",
        " -16&2\\\\\n",
        " 8&1\\\\\n",
        "\\end{vmatrix}$\n",
        "\n",
        "$ = 3 × 15 - (-1) × (-72) + 2 \\times (-32) = -91$\n",
        "\n",
        "$\\space$\n",
        "\n",
        "Again, use numpy.linalg.det() to calculate it:\n"
      ],
      "metadata": {
        "id": "QT2Y14BzaPEk"
      }
    },
    {
      "cell_type": "code",
      "source": [
        "A = np.array([[3, -1, 2], [-16, 2, -3], [8, 1, 6]])\n",
        "A_det = np.linalg.det(A)\n",
        "print(\"A=\\n\", A)\n",
        "print(\"\\nDeterminant = \\n\", A_det)"
      ],
      "metadata": {
        "id": "tMz6zRR2acBT",
        "outputId": "f6b6c039-2140-4455-edbf-96811f8c6703",
        "colab": {
          "base_uri": "https://localhost:8080/"
        }
      },
      "execution_count": 16,
      "outputs": [
        {
          "output_type": "stream",
          "name": "stdout",
          "text": [
            "A=\n",
            " [[  3  -1   2]\n",
            " [-16   2  -3]\n",
            " [  8   1   6]]\n",
            "\n",
            "Determinant = \n",
            " -90.99999999999997\n"
          ]
        }
      ]
    },
    {
      "cell_type": "markdown",
      "source": [
        "## 1.7 Eigenvectors/Eigenvalues and Singular Value Decomposition (SVD)\n",
        "\n",
        "**Eigenvectors and Eigenvalues**\n",
        "\n",
        "There is a square matrix A, a scaler $\\lambda$ and a non-zero vector $\\vec{v}$, they satisfy the following relation,\n",
        "\n",
        "$A \\vec{v} = \\lambda \\vec{v}$\n",
        "\n",
        "Then $\\lambda$ is **Eigenvalue** and $\\vec{v}$ is **Eigenvector** of Matrix $A$."
      ],
      "metadata": {
        "id": "zs3fkrQwyF92"
      }
    },
    {
      "cell_type": "code",
      "source": [
        "import numpy as np\n",
        "\n",
        "a = np.array([[3, 1], [2, 2]])\n",
        "eigenvalue, eigenvector = np.linalg.eig(a)\n",
        "\n",
        "print(\"Eigenvalue = \", eigenvalue)\n",
        "print(\"Eigenvector = \\n\", eigenvector)\n"
      ],
      "metadata": {
        "colab": {
          "base_uri": "https://localhost:8080/"
        },
        "id": "3otylt5naLh2",
        "outputId": "01c8e867-2483-4d13-beba-005997df84e5"
      },
      "execution_count": 17,
      "outputs": [
        {
          "output_type": "stream",
          "name": "stdout",
          "text": [
            "Eigenvalue =  [4. 1.]\n",
            "Eigenvector = \n",
            " [[ 0.70710678 -0.4472136 ]\n",
            " [ 0.70710678  0.89442719]]\n"
          ]
        }
      ]
    },
    {
      "cell_type": "markdown",
      "source": [
        "w is the eigenvalue which has two number means there are two eigenvalues for the matrix; v is the eigenvector, its first column is the first eigenvector, and its second column is the second eigenvector.\n",
        "\n",
        "To verify the $A \\vec{v} = \\lambda \\vec{v}$ relationship:"
      ],
      "metadata": {
        "id": "GHPwKpSxbuyQ"
      }
    },
    {
      "cell_type": "code",
      "source": [
        "print(\"Verify first eigenvector:\", np.allclose(np.dot(a,eigenvector[:,0]),np.dot(eigenvalue[0],eigenvector[:,0])))\n",
        "print(\"Verify second eigenvector:\", np.allclose(np.dot(a,eigenvector[:,1]),np.dot(eigenvalue[1],eigenvector[:,1])))"
      ],
      "metadata": {
        "colab": {
          "base_uri": "https://localhost:8080/"
        },
        "id": "A90GDw5SeMt9",
        "outputId": "0481159a-0f72-42b7-8711-d0daca4dd483"
      },
      "execution_count": 18,
      "outputs": [
        {
          "output_type": "stream",
          "name": "stdout",
          "text": [
            "Verify first eigenvector: True\n",
            "Verify second eigenvector: True\n"
          ]
        }
      ]
    },
    {
      "cell_type": "markdown",
      "source": [
        "The eigenvectors returned by this function are normalized, below is to verify they are normalized by printing the norm of each eigenvector."
      ],
      "metadata": {
        "id": "6Hp_9bdme19S"
      }
    },
    {
      "cell_type": "code",
      "source": [
        "print(\"norm of first eigenvector:\", np.linalg.norm(eigenvector[:,0]))\n",
        "print(\"norm of second eigenvector:\", np.linalg.norm(eigenvector[:,1]))"
      ],
      "metadata": {
        "colab": {
          "base_uri": "https://localhost:8080/"
        },
        "id": "puhMajmHetKT",
        "outputId": "749391c5-4811-4406-e82e-8ba0e352633b"
      },
      "execution_count": 19,
      "outputs": [
        {
          "output_type": "stream",
          "name": "stdout",
          "text": [
            "norm of first eigenvector: 0.9999999999999999\n",
            "norm of second eigenvector: 0.9999999999999999\n"
          ]
        }
      ]
    },
    {
      "cell_type": "markdown",
      "source": [
        "**Singular Value Decomposition (SVD)**\n",
        "A matrix can be factorized as three matrices, it's denoted as:\n",
        "\n",
        "$A = U Σ V^T$\n",
        "\n",
        "The SVD has some algebraic properties and a lot of applications in data science and machine learning. Here we do not deep-dive into math details and not prove it from math perspective. We will introduce how to use Python to calculate it.\n",
        "\n",
        "$A$ is $m \\times n$ matrix,\n",
        "\n",
        "$U$ is $m \\times m$ orthogonal matrix,\n",
        "\n",
        "$\\Sigma$ is $m \\times n$ diagonal matrix, the singular values are in its diagonal, and all others are zero.\n",
        "\n",
        "$V$ is $n \\times n$ orthogonal matrix.\n",
        "\n",
        "$\\space$\n",
        "\n",
        "$U$ and $V$ are orthogonal matrices means:\n",
        "\n",
        "$U^TU = I_{m\\times m}$ and $V^TV = I_{n\\times n}$ \n",
        "\n"
      ],
      "metadata": {
        "id": "re8erBu2Wo9w"
      }
    },
    {
      "cell_type": "markdown",
      "source": [
        "Singular Value Decomposition (SVD) with Python scipy package. \n",
        "And reconstruct the original matrix."
      ],
      "metadata": {
        "id": "KPZWkifnFz97"
      }
    },
    {
      "cell_type": "code",
      "source": [
        "from scipy.linalg import svd\n",
        "\n",
        "A = np.array([[1, 2], [3, 4], [5, 6]])\n",
        "print(\"A=\\n\", A)\n",
        "# SVD\n",
        "U, s, VT = svd(A)\n",
        "sigma = np.zeros((A.shape[0], A.shape[1]))\n",
        "sigma[:A.shape[1], :A.shape[1]] = np.diag(s)\n",
        "print(\"\\nU=\\n\", U)\n",
        "print(\"\\nSigma=\\n\", sigma)\n",
        "print(\"\\nV^T=\\n\", VT)"
      ],
      "metadata": {
        "colab": {
          "base_uri": "https://localhost:8080/"
        },
        "id": "zrUX1VqxNNsk",
        "outputId": "cbc2792e-21f8-478a-f6f2-e1f8acff950f"
      },
      "execution_count": 20,
      "outputs": [
        {
          "output_type": "stream",
          "name": "stdout",
          "text": [
            "A=\n",
            " [[1 2]\n",
            " [3 4]\n",
            " [5 6]]\n",
            "\n",
            "U=\n",
            " [[-0.2298477   0.88346102  0.40824829]\n",
            " [-0.52474482  0.24078249 -0.81649658]\n",
            " [-0.81964194 -0.40189603  0.40824829]]\n",
            "\n",
            "Sigma=\n",
            " [[9.52551809 0.        ]\n",
            " [0.         0.51430058]\n",
            " [0.         0.        ]]\n",
            "\n",
            "V^T=\n",
            " [[-0.61962948 -0.78489445]\n",
            " [-0.78489445  0.61962948]]\n"
          ]
        }
      ]
    },
    {
      "cell_type": "code",
      "source": [
        "A_1 = (U.dot(sigma)).dot(VT)\n",
        "print(\"Re-construct A from SVD:\\n\", A_1)"
      ],
      "metadata": {
        "id": "guoxULEcHDiJ",
        "outputId": "f242f87e-7ff4-4582-dd19-bf9535844ac5",
        "colab": {
          "base_uri": "https://localhost:8080/"
        }
      },
      "execution_count": 21,
      "outputs": [
        {
          "output_type": "stream",
          "name": "stdout",
          "text": [
            "Re-construct A from SVD:\n",
            " [[1. 2.]\n",
            " [3. 4.]\n",
            " [5. 6.]]\n"
          ]
        }
      ]
    },
    {
      "cell_type": "markdown",
      "source": [
        "References:\n",
        "\n",
        "1. https://www.tntech.edu/cas/pdf/math/techreports/TR-2018-2.pdf\n",
        "2. http://www.cs.toronto.edu/~jepson/csc420/notes/introSVD.pdf\n",
        "3. https://www.cs.cmu.edu/~venkatg/teaching/CStheory-infoage/book-chapter-4.pdf\n"
      ],
      "metadata": {
        "id": "V63YwQMuORtN"
      }
    },
    {
      "cell_type": "markdown",
      "source": [
        "## 1.8 Rank of Matrices\n",
        "\n",
        "The rank of a matrix describes the Linear Dependence between its rows or columns. If a row in matrix is made of other rows by multiplying a scaler, then that row is dependent on other rows and not count towards the rank. \n",
        "\n",
        "For example:\n",
        "\n",
        "$A = \\begin{bmatrix}\n",
        " 3&-1&2\\\\\n",
        " 6&-2&4\n",
        " \\end{bmatrix} $\n",
        "\n",
        "The numbers in second row are made of the first row by multiplying 2. So the rank of this matrix is 1 not 2.\n",
        "\n",
        "Look at the columns of this matrix, the second column is made of first column by multiplying $-\\frac{1}{3}$, and the third column is also made of first column by multiplying $\\frac{2}{3}$. So from the columns the rank is also 1.\n",
        "\n",
        "$\\space$\n",
        "\n",
        "Rank is calculated by *numpy.linalg.matrix_rank()* function."
      ],
      "metadata": {
        "id": "iGYRzKIniayy"
      }
    },
    {
      "cell_type": "code",
      "source": [
        "a = np.array([[3,-1,2], [6,-2,4]])\n",
        "rank = np.linalg.matrix_rank(a)\n",
        "print('A = \\n', a)\n",
        "print('\\nRank of A = ',rank)"
      ],
      "metadata": {
        "id": "g-YWRJwji9Kb",
        "outputId": "bbd9b4dc-8d46-4f67-931e-00e77e5d181d",
        "colab": {
          "base_uri": "https://localhost:8080/"
        }
      },
      "execution_count": 22,
      "outputs": [
        {
          "output_type": "stream",
          "name": "stdout",
          "text": [
            "A = \n",
            " [[ 3 -1  2]\n",
            " [ 6 -2  4]]\n",
            "\n",
            "Rank of A =  1\n"
          ]
        }
      ]
    },
    {
      "cell_type": "code",
      "source": [
        "I = np.identity(4)\n",
        "print('I = \\n', I)\n",
        "print('\\nRank = ',np.linalg.matrix_rank(I))"
      ],
      "metadata": {
        "id": "ucJIDD5YVI22",
        "outputId": "32fbf4a3-acbd-48d1-8930-36d6ddfb1ad4",
        "colab": {
          "base_uri": "https://localhost:8080/"
        }
      },
      "execution_count": 23,
      "outputs": [
        {
          "output_type": "stream",
          "name": "stdout",
          "text": [
            "I = \n",
            " [[1. 0. 0. 0.]\n",
            " [0. 1. 0. 0.]\n",
            " [0. 0. 1. 0.]\n",
            " [0. 0. 0. 1.]]\n",
            "\n",
            "Rank =  4\n"
          ]
        }
      ]
    }
  ]
}