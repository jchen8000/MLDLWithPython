{
  "nbformat": 4,
  "nbformat_minor": 0,
  "metadata": {
    "colab": {
      "provenance": [],
      "authorship_tag": "ABX9TyMZUw3365xQHBHc+rBWpWfb",
      "include_colab_link": true
    },
    "kernelspec": {
      "name": "python3",
      "display_name": "Python 3"
    },
    "language_info": {
      "name": "python"
    },
    "accelerator": "GPU",
    "gpuClass": "standard"
  },
  "cells": [
    {
      "cell_type": "markdown",
      "metadata": {
        "id": "view-in-github",
        "colab_type": "text"
      },
      "source": [
        "<a href=\"https://colab.research.google.com/github/jchen8000/MachineLearning/blob/master/9%20Convolutional%20Neural%20Network/CNN_LeNet_5.ipynb\" target=\"_parent\"><img src=\"https://colab.research.google.com/assets/colab-badge.svg\" alt=\"Open In Colab\"/></a>"
      ]
    },
    {
      "cell_type": "markdown",
      "source": [
        "# Popular CNN Architectur -- LeNet-5"
      ],
      "metadata": {
        "id": "VW_fyu14RNzN"
      }
    },
    {
      "cell_type": "code",
      "execution_count": 1,
      "metadata": {
        "id": "hMyU5tU1pmDZ"
      },
      "outputs": [],
      "source": [
        "import tensorflow as tf\n",
        "import keras\n",
        "import keras.layers as layers\n",
        "from keras.models import Sequential\n",
        "from keras.utils.np_utils import to_categorical\n",
        "from keras.callbacks import TensorBoard\n",
        "from keras.datasets import mnist\n",
        "from sklearn import preprocessing\n",
        "from sklearn import metrics\n",
        "import matplotlib.pyplot as plt\n",
        "import numpy as np"
      ]
    },
    {
      "cell_type": "markdown",
      "source": [
        "### Load MNIST Dataset"
      ],
      "metadata": {
        "id": "flWmLHJYVhns"
      }
    },
    {
      "cell_type": "code",
      "source": [
        "# Load MNIST dataset\n",
        "np.random.seed(0)\n",
        "(X_train, y_train), (X_test, y_test) = mnist.load_data()\n",
        "print(\"X_train\", X_train.shape)\n",
        "print(\"y_train\", y_train.shape)\n",
        "print(\"X_test\", X_test.shape)\n",
        "print(\"y_test\", y_test.shape)"
      ],
      "metadata": {
        "colab": {
          "base_uri": "https://localhost:8080/"
        },
        "id": "JDbJPOCA5WSm",
        "outputId": "1017fe5b-8059-4f1c-b96f-5970ce89a93e"
      },
      "execution_count": 2,
      "outputs": [
        {
          "output_type": "stream",
          "name": "stdout",
          "text": [
            "Downloading data from https://storage.googleapis.com/tensorflow/tf-keras-datasets/mnist.npz\n",
            "11490434/11490434 [==============================] - 1s 0us/step\n",
            "X_train (60000, 28, 28)\n",
            "y_train (60000,)\n",
            "X_test (10000, 28, 28)\n",
            "y_test (10000,)\n"
          ]
        }
      ]
    },
    {
      "cell_type": "code",
      "source": [
        "# Normalize the data\n",
        "scaler = preprocessing.StandardScaler()\n",
        "X_train = scaler.fit_transform(X_train.reshape((-1, 784)))\n",
        "X_test = scaler.fit_transform(X_test.reshape((-1, 784)))\n",
        "X_train = X_train.reshape(X_train.shape[0], 28, 28, 1)\n",
        "X_test = X_test.reshape(X_test.shape[0], 28, 28, 1)\n",
        "input_shape = X_train.shape[1:]"
      ],
      "metadata": {
        "id": "zd3-lmSZZCqk"
      },
      "execution_count": 3,
      "outputs": []
    },
    {
      "cell_type": "markdown",
      "source": [
        "### Build LeNet-5"
      ],
      "metadata": {
        "id": "BvCYBZ7EYVYD"
      }
    },
    {
      "cell_type": "code",
      "source": [
        "lenet5 = keras.Sequential()\n",
        "lenet5.add(layers.Conv2D(filters=6, kernel_size=(3, 3), activation='relu', input_shape=input_shape))\n",
        "lenet5.add(layers.AveragePooling2D())\n",
        "lenet5.add(layers.Conv2D(filters=16, kernel_size=(3, 3), activation='relu'))\n",
        "lenet5.add(layers.AveragePooling2D())\n",
        "lenet5.add(layers.Flatten())\n",
        "lenet5.add(layers.Dense(units=120, activation='relu'))\n",
        "lenet5.add(layers.Dense(units=84, activation='relu'))\n",
        "lenet5.add(layers.Dense(units=10, activation = 'softmax'))\n",
        "\n",
        "lenet5.compile(optimizer='adam', loss='categorical_crossentropy', metrics=['accuracy'])\n",
        "lenet5.summary()"
      ],
      "metadata": {
        "id": "utuZ6Abkpnak",
        "colab": {
          "base_uri": "https://localhost:8080/"
        },
        "outputId": "558dfc05-c8b9-4cb1-d89f-061058c01b83"
      },
      "execution_count": 4,
      "outputs": [
        {
          "output_type": "stream",
          "name": "stdout",
          "text": [
            "Model: \"sequential\"\n",
            "_________________________________________________________________\n",
            " Layer (type)                Output Shape              Param #   \n",
            "=================================================================\n",
            " conv2d (Conv2D)             (None, 26, 26, 6)         60        \n",
            "                                                                 \n",
            " average_pooling2d (AverageP  (None, 13, 13, 6)        0         \n",
            " ooling2D)                                                       \n",
            "                                                                 \n",
            " conv2d_1 (Conv2D)           (None, 11, 11, 16)        880       \n",
            "                                                                 \n",
            " average_pooling2d_1 (Averag  (None, 5, 5, 16)         0         \n",
            " ePooling2D)                                                     \n",
            "                                                                 \n",
            " flatten (Flatten)           (None, 400)               0         \n",
            "                                                                 \n",
            " dense (Dense)               (None, 120)               48120     \n",
            "                                                                 \n",
            " dense_1 (Dense)             (None, 84)                10164     \n",
            "                                                                 \n",
            " dense_2 (Dense)             (None, 10)                850       \n",
            "                                                                 \n",
            "=================================================================\n",
            "Total params: 60,074\n",
            "Trainable params: 60,074\n",
            "Non-trainable params: 0\n",
            "_________________________________________________________________\n"
          ]
        }
      ]
    },
    {
      "cell_type": "code",
      "source": [
        "batch_size = 128\n",
        "epochs = 100\n",
        "\n",
        "# Train the CNN model\n",
        "history = lenet5.fit(X_train, to_categorical(y_train), \n",
        "                     batch_size = batch_size,\n",
        "                     epochs = epochs,\n",
        "                     verbose = 2,\n",
        "                     validation_data=(X_test, to_categorical(y_test)) )"
      ],
      "metadata": {
        "colab": {
          "base_uri": "https://localhost:8080/"
        },
        "id": "1cpRHJTGg7GX",
        "outputId": "bd57055f-6bc1-4159-89bd-16473b51980d"
      },
      "execution_count": 5,
      "outputs": [
        {
          "output_type": "stream",
          "name": "stdout",
          "text": [
            "Epoch 1/100\n",
            "469/469 - 15s - loss: 0.3336 - accuracy: 0.8997 - val_loss: 0.1139 - val_accuracy: 0.9645 - 15s/epoch - 31ms/step\n",
            "Epoch 2/100\n",
            "469/469 - 2s - loss: 0.0899 - accuracy: 0.9724 - val_loss: 0.0738 - val_accuracy: 0.9768 - 2s/epoch - 4ms/step\n",
            "Epoch 3/100\n",
            "469/469 - 2s - loss: 0.0625 - accuracy: 0.9806 - val_loss: 0.0528 - val_accuracy: 0.9842 - 2s/epoch - 4ms/step\n",
            "Epoch 4/100\n",
            "469/469 - 2s - loss: 0.0487 - accuracy: 0.9849 - val_loss: 0.0432 - val_accuracy: 0.9868 - 2s/epoch - 4ms/step\n",
            "Epoch 5/100\n",
            "469/469 - 2s - loss: 0.0395 - accuracy: 0.9875 - val_loss: 0.0456 - val_accuracy: 0.9855 - 2s/epoch - 4ms/step\n",
            "Epoch 6/100\n",
            "469/469 - 2s - loss: 0.0346 - accuracy: 0.9892 - val_loss: 0.0408 - val_accuracy: 0.9870 - 2s/epoch - 4ms/step\n",
            "Epoch 7/100\n",
            "469/469 - 2s - loss: 0.0287 - accuracy: 0.9912 - val_loss: 0.0461 - val_accuracy: 0.9838 - 2s/epoch - 4ms/step\n",
            "Epoch 8/100\n",
            "469/469 - 2s - loss: 0.0265 - accuracy: 0.9914 - val_loss: 0.0482 - val_accuracy: 0.9851 - 2s/epoch - 4ms/step\n",
            "Epoch 9/100\n",
            "469/469 - 2s - loss: 0.0225 - accuracy: 0.9926 - val_loss: 0.0402 - val_accuracy: 0.9882 - 2s/epoch - 4ms/step\n",
            "Epoch 10/100\n",
            "469/469 - 2s - loss: 0.0193 - accuracy: 0.9938 - val_loss: 0.0386 - val_accuracy: 0.9882 - 2s/epoch - 4ms/step\n",
            "Epoch 11/100\n",
            "469/469 - 2s - loss: 0.0181 - accuracy: 0.9941 - val_loss: 0.0388 - val_accuracy: 0.9886 - 2s/epoch - 4ms/step\n",
            "Epoch 12/100\n",
            "469/469 - 2s - loss: 0.0150 - accuracy: 0.9952 - val_loss: 0.0401 - val_accuracy: 0.9890 - 2s/epoch - 4ms/step\n",
            "Epoch 13/100\n",
            "469/469 - 2s - loss: 0.0144 - accuracy: 0.9953 - val_loss: 0.0412 - val_accuracy: 0.9893 - 2s/epoch - 4ms/step\n",
            "Epoch 14/100\n",
            "469/469 - 2s - loss: 0.0136 - accuracy: 0.9954 - val_loss: 0.0484 - val_accuracy: 0.9875 - 2s/epoch - 4ms/step\n",
            "Epoch 15/100\n",
            "469/469 - 2s - loss: 0.0115 - accuracy: 0.9960 - val_loss: 0.0380 - val_accuracy: 0.9896 - 2s/epoch - 4ms/step\n",
            "Epoch 16/100\n",
            "469/469 - 2s - loss: 0.0111 - accuracy: 0.9963 - val_loss: 0.0500 - val_accuracy: 0.9870 - 2s/epoch - 4ms/step\n",
            "Epoch 17/100\n",
            "469/469 - 2s - loss: 0.0105 - accuracy: 0.9967 - val_loss: 0.0458 - val_accuracy: 0.9868 - 2s/epoch - 4ms/step\n",
            "Epoch 18/100\n",
            "469/469 - 2s - loss: 0.0103 - accuracy: 0.9966 - val_loss: 0.0406 - val_accuracy: 0.9902 - 2s/epoch - 4ms/step\n",
            "Epoch 19/100\n",
            "469/469 - 2s - loss: 0.0079 - accuracy: 0.9974 - val_loss: 0.0469 - val_accuracy: 0.9880 - 2s/epoch - 4ms/step\n",
            "Epoch 20/100\n",
            "469/469 - 2s - loss: 0.0088 - accuracy: 0.9969 - val_loss: 0.0418 - val_accuracy: 0.9893 - 2s/epoch - 4ms/step\n",
            "Epoch 21/100\n",
            "469/469 - 2s - loss: 0.0075 - accuracy: 0.9974 - val_loss: 0.0431 - val_accuracy: 0.9886 - 2s/epoch - 4ms/step\n",
            "Epoch 22/100\n",
            "469/469 - 2s - loss: 0.0048 - accuracy: 0.9985 - val_loss: 0.0455 - val_accuracy: 0.9898 - 2s/epoch - 4ms/step\n",
            "Epoch 23/100\n",
            "469/469 - 2s - loss: 0.0074 - accuracy: 0.9976 - val_loss: 0.0571 - val_accuracy: 0.9871 - 2s/epoch - 4ms/step\n",
            "Epoch 24/100\n",
            "469/469 - 2s - loss: 0.0071 - accuracy: 0.9975 - val_loss: 0.0533 - val_accuracy: 0.9889 - 2s/epoch - 4ms/step\n",
            "Epoch 25/100\n",
            "469/469 - 2s - loss: 0.0057 - accuracy: 0.9981 - val_loss: 0.0459 - val_accuracy: 0.9905 - 2s/epoch - 4ms/step\n",
            "Epoch 26/100\n",
            "469/469 - 2s - loss: 0.0078 - accuracy: 0.9976 - val_loss: 0.0556 - val_accuracy: 0.9881 - 2s/epoch - 4ms/step\n",
            "Epoch 27/100\n",
            "469/469 - 2s - loss: 0.0065 - accuracy: 0.9978 - val_loss: 0.0470 - val_accuracy: 0.9884 - 2s/epoch - 4ms/step\n",
            "Epoch 28/100\n",
            "469/469 - 2s - loss: 0.0031 - accuracy: 0.9990 - val_loss: 0.0478 - val_accuracy: 0.9904 - 2s/epoch - 4ms/step\n",
            "Epoch 29/100\n",
            "469/469 - 2s - loss: 0.0059 - accuracy: 0.9981 - val_loss: 0.0547 - val_accuracy: 0.9867 - 2s/epoch - 4ms/step\n",
            "Epoch 30/100\n",
            "469/469 - 2s - loss: 0.0040 - accuracy: 0.9987 - val_loss: 0.0474 - val_accuracy: 0.9897 - 2s/epoch - 4ms/step\n",
            "Epoch 31/100\n",
            "469/469 - 2s - loss: 0.0029 - accuracy: 0.9988 - val_loss: 0.0473 - val_accuracy: 0.9898 - 2s/epoch - 4ms/step\n",
            "Epoch 32/100\n",
            "469/469 - 2s - loss: 0.0044 - accuracy: 0.9985 - val_loss: 0.0550 - val_accuracy: 0.9896 - 2s/epoch - 4ms/step\n",
            "Epoch 33/100\n",
            "469/469 - 2s - loss: 0.0056 - accuracy: 0.9981 - val_loss: 0.0655 - val_accuracy: 0.9884 - 2s/epoch - 4ms/step\n",
            "Epoch 34/100\n",
            "469/469 - 2s - loss: 0.0052 - accuracy: 0.9981 - val_loss: 0.0512 - val_accuracy: 0.9899 - 2s/epoch - 4ms/step\n",
            "Epoch 35/100\n",
            "469/469 - 2s - loss: 0.0038 - accuracy: 0.9988 - val_loss: 0.0556 - val_accuracy: 0.9892 - 2s/epoch - 5ms/step\n",
            "Epoch 36/100\n",
            "469/469 - 2s - loss: 0.0021 - accuracy: 0.9994 - val_loss: 0.0655 - val_accuracy: 0.9898 - 2s/epoch - 4ms/step\n",
            "Epoch 37/100\n",
            "469/469 - 2s - loss: 0.0054 - accuracy: 0.9981 - val_loss: 0.0641 - val_accuracy: 0.9885 - 2s/epoch - 4ms/step\n",
            "Epoch 38/100\n",
            "469/469 - 2s - loss: 0.0041 - accuracy: 0.9989 - val_loss: 0.0544 - val_accuracy: 0.9894 - 2s/epoch - 4ms/step\n",
            "Epoch 39/100\n",
            "469/469 - 2s - loss: 0.0027 - accuracy: 0.9990 - val_loss: 0.0672 - val_accuracy: 0.9870 - 2s/epoch - 4ms/step\n",
            "Epoch 40/100\n",
            "469/469 - 2s - loss: 0.0038 - accuracy: 0.9986 - val_loss: 0.0584 - val_accuracy: 0.9896 - 2s/epoch - 4ms/step\n",
            "Epoch 41/100\n",
            "469/469 - 2s - loss: 0.0036 - accuracy: 0.9987 - val_loss: 0.0609 - val_accuracy: 0.9894 - 2s/epoch - 4ms/step\n",
            "Epoch 42/100\n",
            "469/469 - 2s - loss: 0.0022 - accuracy: 0.9993 - val_loss: 0.0526 - val_accuracy: 0.9904 - 2s/epoch - 4ms/step\n",
            "Epoch 43/100\n",
            "469/469 - 2s - loss: 8.4306e-04 - accuracy: 0.9998 - val_loss: 0.0518 - val_accuracy: 0.9903 - 2s/epoch - 4ms/step\n",
            "Epoch 44/100\n",
            "469/469 - 2s - loss: 7.8927e-04 - accuracy: 0.9998 - val_loss: 0.0554 - val_accuracy: 0.9909 - 2s/epoch - 4ms/step\n",
            "Epoch 45/100\n",
            "469/469 - 2s - loss: 0.0082 - accuracy: 0.9974 - val_loss: 0.0775 - val_accuracy: 0.9869 - 2s/epoch - 4ms/step\n",
            "Epoch 46/100\n",
            "469/469 - 2s - loss: 0.0025 - accuracy: 0.9993 - val_loss: 0.0599 - val_accuracy: 0.9900 - 2s/epoch - 4ms/step\n",
            "Epoch 47/100\n",
            "469/469 - 2s - loss: 5.6889e-04 - accuracy: 0.9999 - val_loss: 0.0618 - val_accuracy: 0.9907 - 2s/epoch - 4ms/step\n",
            "Epoch 48/100\n",
            "469/469 - 2s - loss: 0.0020 - accuracy: 0.9994 - val_loss: 0.0794 - val_accuracy: 0.9882 - 2s/epoch - 4ms/step\n",
            "Epoch 49/100\n",
            "469/469 - 2s - loss: 0.0049 - accuracy: 0.9984 - val_loss: 0.0618 - val_accuracy: 0.9892 - 2s/epoch - 4ms/step\n",
            "Epoch 50/100\n",
            "469/469 - 2s - loss: 0.0012 - accuracy: 0.9996 - val_loss: 0.0605 - val_accuracy: 0.9907 - 2s/epoch - 4ms/step\n",
            "Epoch 51/100\n",
            "469/469 - 2s - loss: 0.0019 - accuracy: 0.9995 - val_loss: 0.0783 - val_accuracy: 0.9879 - 2s/epoch - 4ms/step\n",
            "Epoch 52/100\n",
            "469/469 - 2s - loss: 0.0055 - accuracy: 0.9983 - val_loss: 0.0592 - val_accuracy: 0.9903 - 2s/epoch - 4ms/step\n",
            "Epoch 53/100\n",
            "469/469 - 2s - loss: 0.0015 - accuracy: 0.9995 - val_loss: 0.0603 - val_accuracy: 0.9904 - 2s/epoch - 4ms/step\n",
            "Epoch 54/100\n",
            "469/469 - 2s - loss: 0.0031 - accuracy: 0.9989 - val_loss: 0.0638 - val_accuracy: 0.9892 - 2s/epoch - 4ms/step\n",
            "Epoch 55/100\n",
            "469/469 - 2s - loss: 0.0021 - accuracy: 0.9994 - val_loss: 0.0629 - val_accuracy: 0.9896 - 2s/epoch - 4ms/step\n",
            "Epoch 56/100\n",
            "469/469 - 2s - loss: 3.7847e-04 - accuracy: 0.9998 - val_loss: 0.0605 - val_accuracy: 0.9906 - 2s/epoch - 4ms/step\n",
            "Epoch 57/100\n",
            "469/469 - 2s - loss: 0.0018 - accuracy: 0.9994 - val_loss: 0.0889 - val_accuracy: 0.9872 - 2s/epoch - 4ms/step\n",
            "Epoch 58/100\n",
            "469/469 - 2s - loss: 0.0052 - accuracy: 0.9984 - val_loss: 0.0585 - val_accuracy: 0.9895 - 2s/epoch - 4ms/step\n",
            "Epoch 59/100\n",
            "469/469 - 2s - loss: 0.0022 - accuracy: 0.9995 - val_loss: 0.0625 - val_accuracy: 0.9895 - 2s/epoch - 4ms/step\n",
            "Epoch 60/100\n",
            "469/469 - 2s - loss: 0.0016 - accuracy: 0.9995 - val_loss: 0.0689 - val_accuracy: 0.9890 - 2s/epoch - 4ms/step\n",
            "Epoch 61/100\n",
            "469/469 - 2s - loss: 0.0040 - accuracy: 0.9990 - val_loss: 0.0640 - val_accuracy: 0.9900 - 2s/epoch - 4ms/step\n",
            "Epoch 62/100\n",
            "469/469 - 2s - loss: 0.0018 - accuracy: 0.9995 - val_loss: 0.0601 - val_accuracy: 0.9905 - 2s/epoch - 4ms/step\n",
            "Epoch 63/100\n",
            "469/469 - 2s - loss: 0.0019 - accuracy: 0.9995 - val_loss: 0.0644 - val_accuracy: 0.9894 - 2s/epoch - 4ms/step\n",
            "Epoch 64/100\n",
            "469/469 - 2s - loss: 0.0027 - accuracy: 0.9991 - val_loss: 0.0603 - val_accuracy: 0.9903 - 2s/epoch - 4ms/step\n",
            "Epoch 65/100\n",
            "469/469 - 2s - loss: 0.0024 - accuracy: 0.9994 - val_loss: 0.0608 - val_accuracy: 0.9912 - 2s/epoch - 4ms/step\n",
            "Epoch 66/100\n",
            "469/469 - 2s - loss: 0.0012 - accuracy: 0.9996 - val_loss: 0.0773 - val_accuracy: 0.9903 - 2s/epoch - 4ms/step\n",
            "Epoch 67/100\n",
            "469/469 - 2s - loss: 9.9443e-04 - accuracy: 0.9997 - val_loss: 0.0744 - val_accuracy: 0.9894 - 2s/epoch - 4ms/step\n",
            "Epoch 68/100\n",
            "469/469 - 2s - loss: 0.0029 - accuracy: 0.9992 - val_loss: 0.0746 - val_accuracy: 0.9887 - 2s/epoch - 4ms/step\n",
            "Epoch 69/100\n",
            "469/469 - 2s - loss: 0.0033 - accuracy: 0.9990 - val_loss: 0.0742 - val_accuracy: 0.9886 - 2s/epoch - 4ms/step\n",
            "Epoch 70/100\n",
            "469/469 - 2s - loss: 0.0015 - accuracy: 0.9995 - val_loss: 0.0716 - val_accuracy: 0.9901 - 2s/epoch - 4ms/step\n",
            "Epoch 71/100\n",
            "469/469 - 2s - loss: 0.0015 - accuracy: 0.9995 - val_loss: 0.0811 - val_accuracy: 0.9887 - 2s/epoch - 4ms/step\n",
            "Epoch 72/100\n",
            "469/469 - 2s - loss: 0.0014 - accuracy: 0.9995 - val_loss: 0.0724 - val_accuracy: 0.9903 - 2s/epoch - 4ms/step\n",
            "Epoch 73/100\n",
            "469/469 - 2s - loss: 0.0028 - accuracy: 0.9993 - val_loss: 0.0783 - val_accuracy: 0.9889 - 2s/epoch - 4ms/step\n",
            "Epoch 74/100\n",
            "469/469 - 2s - loss: 0.0041 - accuracy: 0.9986 - val_loss: 0.0922 - val_accuracy: 0.9871 - 2s/epoch - 4ms/step\n",
            "Epoch 75/100\n",
            "469/469 - 2s - loss: 0.0013 - accuracy: 0.9996 - val_loss: 0.0733 - val_accuracy: 0.9894 - 2s/epoch - 4ms/step\n",
            "Epoch 76/100\n",
            "469/469 - 2s - loss: 5.4614e-05 - accuracy: 1.0000 - val_loss: 0.0698 - val_accuracy: 0.9904 - 2s/epoch - 4ms/step\n",
            "Epoch 77/100\n",
            "469/469 - 2s - loss: 1.8125e-05 - accuracy: 1.0000 - val_loss: 0.0700 - val_accuracy: 0.9907 - 2s/epoch - 4ms/step\n",
            "Epoch 78/100\n",
            "469/469 - 2s - loss: 1.2204e-05 - accuracy: 1.0000 - val_loss: 0.0703 - val_accuracy: 0.9905 - 2s/epoch - 4ms/step\n",
            "Epoch 79/100\n",
            "469/469 - 2s - loss: 9.4476e-06 - accuracy: 1.0000 - val_loss: 0.0707 - val_accuracy: 0.9905 - 2s/epoch - 4ms/step\n",
            "Epoch 80/100\n",
            "469/469 - 2s - loss: 7.3935e-06 - accuracy: 1.0000 - val_loss: 0.0711 - val_accuracy: 0.9909 - 2s/epoch - 4ms/step\n",
            "Epoch 81/100\n",
            "469/469 - 2s - loss: 5.9679e-06 - accuracy: 1.0000 - val_loss: 0.0716 - val_accuracy: 0.9908 - 2s/epoch - 4ms/step\n",
            "Epoch 82/100\n",
            "469/469 - 2s - loss: 4.8015e-06 - accuracy: 1.0000 - val_loss: 0.0721 - val_accuracy: 0.9910 - 2s/epoch - 4ms/step\n",
            "Epoch 83/100\n",
            "469/469 - 2s - loss: 3.8533e-06 - accuracy: 1.0000 - val_loss: 0.0728 - val_accuracy: 0.9910 - 2s/epoch - 4ms/step\n",
            "Epoch 84/100\n",
            "469/469 - 2s - loss: 3.0766e-06 - accuracy: 1.0000 - val_loss: 0.0734 - val_accuracy: 0.9908 - 2s/epoch - 4ms/step\n",
            "Epoch 85/100\n",
            "469/469 - 2s - loss: 2.4933e-06 - accuracy: 1.0000 - val_loss: 0.0742 - val_accuracy: 0.9909 - 2s/epoch - 4ms/step\n",
            "Epoch 86/100\n",
            "469/469 - 2s - loss: 2.0135e-06 - accuracy: 1.0000 - val_loss: 0.0749 - val_accuracy: 0.9909 - 2s/epoch - 4ms/step\n",
            "Epoch 87/100\n",
            "469/469 - 2s - loss: 1.6157e-06 - accuracy: 1.0000 - val_loss: 0.0756 - val_accuracy: 0.9909 - 2s/epoch - 4ms/step\n",
            "Epoch 88/100\n",
            "469/469 - 2s - loss: 1.2995e-06 - accuracy: 1.0000 - val_loss: 0.0762 - val_accuracy: 0.9909 - 2s/epoch - 4ms/step\n",
            "Epoch 89/100\n",
            "469/469 - 2s - loss: 1.0450e-06 - accuracy: 1.0000 - val_loss: 0.0771 - val_accuracy: 0.9909 - 2s/epoch - 4ms/step\n",
            "Epoch 90/100\n",
            "469/469 - 2s - loss: 8.2826e-07 - accuracy: 1.0000 - val_loss: 0.0779 - val_accuracy: 0.9910 - 2s/epoch - 4ms/step\n",
            "Epoch 91/100\n",
            "469/469 - 2s - loss: 6.7338e-07 - accuracy: 1.0000 - val_loss: 0.0789 - val_accuracy: 0.9910 - 2s/epoch - 4ms/step\n",
            "Epoch 92/100\n",
            "469/469 - 2s - loss: 5.2815e-07 - accuracy: 1.0000 - val_loss: 0.0799 - val_accuracy: 0.9910 - 2s/epoch - 4ms/step\n",
            "Epoch 93/100\n",
            "469/469 - 2s - loss: 4.1664e-07 - accuracy: 1.0000 - val_loss: 0.0808 - val_accuracy: 0.9913 - 2s/epoch - 4ms/step\n",
            "Epoch 94/100\n",
            "469/469 - 2s - loss: 3.3757e-07 - accuracy: 1.0000 - val_loss: 0.0817 - val_accuracy: 0.9913 - 2s/epoch - 4ms/step\n",
            "Epoch 95/100\n",
            "469/469 - 2s - loss: 2.6458e-07 - accuracy: 1.0000 - val_loss: 0.0826 - val_accuracy: 0.9912 - 2s/epoch - 4ms/step\n",
            "Epoch 96/100\n",
            "469/469 - 2s - loss: 2.0709e-07 - accuracy: 1.0000 - val_loss: 0.0835 - val_accuracy: 0.9912 - 2s/epoch - 4ms/step\n",
            "Epoch 97/100\n",
            "469/469 - 2s - loss: 1.6957e-07 - accuracy: 1.0000 - val_loss: 0.0847 - val_accuracy: 0.9914 - 2s/epoch - 4ms/step\n",
            "Epoch 98/100\n",
            "469/469 - 2s - loss: 1.3170e-07 - accuracy: 1.0000 - val_loss: 0.0857 - val_accuracy: 0.9913 - 2s/epoch - 4ms/step\n",
            "Epoch 99/100\n",
            "469/469 - 2s - loss: 1.0435e-07 - accuracy: 1.0000 - val_loss: 0.0867 - val_accuracy: 0.9912 - 2s/epoch - 4ms/step\n",
            "Epoch 100/100\n",
            "469/469 - 2s - loss: 8.2218e-08 - accuracy: 1.0000 - val_loss: 0.0884 - val_accuracy: 0.9912 - 2s/epoch - 4ms/step\n"
          ]
        }
      ]
    },
    {
      "cell_type": "markdown",
      "source": [
        "### Evaluate LeNet-5"
      ],
      "metadata": {
        "id": "P-rD3ZGQYczU"
      }
    },
    {
      "cell_type": "code",
      "source": [
        "# plot history for accuracy and history for loss\n",
        "fig = plt.figure(1, figsize=(16,6))\n",
        "plt.subplot(1, 2, 1)\n",
        "plt.title('Accuracy', fontsize=16)\n",
        "plt.plot(history.history['accuracy'], label=\"Trainset\", c='blue')\n",
        "plt.plot(history.history['val_accuracy'], label=\"Testset\", c='blue', ls='--')\n",
        "plt.ylabel('Accuracy', fontsize=12)\n",
        "plt.xlabel('Epoch', fontsize=12)\n",
        "plt.legend(loc='best', fontsize=12)\n",
        "\n",
        "plt.subplot(1, 2, 2)\n",
        "plt.plot(history.history['loss'], label=\"Trainset\", c='k')\n",
        "plt.plot(history.history['val_loss'], label=\"Testset\", c='k', ls='--')\n",
        "plt.title('Loss', fontsize=16)\n",
        "plt.ylabel('Loss', fontsize=12)\n",
        "plt.xlabel('Epoch', fontsize=12)\n",
        "plt.legend(loc='best', fontsize=12)\n",
        "plt.savefig(\"lenet5_on_cifar-10.svg\", format=\"svg\", transparent=True, bbox_inches='tight')\n",
        "plt.show()"
      ],
      "metadata": {
        "colab": {
          "base_uri": "https://localhost:8080/",
          "height": 409
        },
        "id": "n1YMWDDrioUM",
        "outputId": "4989d3a9-282c-465a-f7ee-6de0df4a5683"
      },
      "execution_count": 6,
      "outputs": [
        {
          "output_type": "display_data",
          "data": {
            "text/plain": [
              "<Figure size 1152x432 with 2 Axes>"
            ],
            "image/png": "[encoded data removed]"
          },
          "metadata": {
            "needs_background": "light"
          }
        }
      ]
    },
    {
      "cell_type": "code",
      "source": [
        "score = lenet5.evaluate(X_test, to_categorical(y_test))\n",
        "print('Test loss:', score[0])\n",
        "print('Test accuracy:', score[1])"
      ],
      "metadata": {
        "colab": {
          "base_uri": "https://localhost:8080/"
        },
        "id": "XSJjBPT-i6Sg",
        "outputId": "8b4af0e4-e4c0-404b-9260-607657468968"
      },
      "execution_count": 9,
      "outputs": [
        {
          "output_type": "stream",
          "name": "stdout",
          "text": [
            "313/313 [==============================] - 1s 4ms/step - loss: 0.0884 - accuracy: 0.9912\n",
            "Test loss: 0.08838732540607452\n",
            "Test accuracy: 0.9911999702453613\n"
          ]
        }
      ]
    },
    {
      "cell_type": "code",
      "source": [
        "y_pred = lenet5.predict(X_test)\n",
        "y_pred = np.argmax(y_pred, axis=1)\n",
        "\n",
        "a_score = metrics.accuracy_score(y_test, y_pred)\n",
        "c_matrix = metrics.confusion_matrix(y_test, y_pred)\n",
        "c_report = metrics.classification_report(y_test, y_pred)\n",
        "print(\"Accuracy Score:\\n\", a_score)\n",
        "print(\"Confusion matrix:\\n\", c_matrix)\n",
        "print(\"Classification Report:\\n\", c_report)"
      ],
      "metadata": {
        "colab": {
          "base_uri": "https://localhost:8080/"
        },
        "id": "wbhcfV0kjDEM",
        "outputId": "33295a71-d1cc-49c5-ec05-64dbf6b621e6"
      },
      "execution_count": 8,
      "outputs": [
        {
          "output_type": "stream",
          "name": "stdout",
          "text": [
            "313/313 [==============================] - 1s 2ms/step\n",
            "Accuracy Score:\n",
            " 0.9912\n",
            "Confusion matrix:\n",
            " [[ 974    0    0    0    0    0    3    1    2    0]\n",
            " [   0 1132    1    1    0    0    1    0    0    0]\n",
            " [   0    1 1024    1    0    0    1    3    2    0]\n",
            " [   0    0    2 1004    0    2    0    0    1    1]\n",
            " [   0    0    1    0  974    0    3    0    0    4]\n",
            " [   2    0    0    5    0  883    1    0    0    1]\n",
            " [   2    3    0    0    2    3  946    0    2    0]\n",
            " [   0    1    4    1    0    0    0 1019    1    2]\n",
            " [   2    0    1    2    0    3    0    1  961    4]\n",
            " [   0    0    0    0    7    3    0    2    2  995]]\n",
            "Classification Report:\n",
            "               precision    recall  f1-score   support\n",
            "\n",
            "           0       0.99      0.99      0.99       980\n",
            "           1       1.00      1.00      1.00      1135\n",
            "           2       0.99      0.99      0.99      1032\n",
            "           3       0.99      0.99      0.99      1010\n",
            "           4       0.99      0.99      0.99       982\n",
            "           5       0.99      0.99      0.99       892\n",
            "           6       0.99      0.99      0.99       958\n",
            "           7       0.99      0.99      0.99      1028\n",
            "           8       0.99      0.99      0.99       974\n",
            "           9       0.99      0.99      0.99      1009\n",
            "\n",
            "    accuracy                           0.99     10000\n",
            "   macro avg       0.99      0.99      0.99     10000\n",
            "weighted avg       0.99      0.99      0.99     10000\n",
            "\n"
          ]
        }
      ]
    }
  ]
}