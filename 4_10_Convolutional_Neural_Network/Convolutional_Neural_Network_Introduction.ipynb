{
  "nbformat": 4,
  "nbformat_minor": 0,
  "metadata": {
    "colab": {
      "provenance": [],
      "authorship_tag": "ABX9TyNeecp5A1fq6TV8Hf9XQspx",
      "include_colab_link": true
    },
    "kernelspec": {
      "name": "python3",
      "display_name": "Python 3"
    },
    "language_info": {
      "name": "python"
    },
    "gpuClass": "standard"
  },
  "cells": [
    {
      "cell_type": "markdown",
      "metadata": {
        "id": "view-in-github",
        "colab_type": "text"
      },
      "source": [
        "<a href=\"https://colab.research.google.com/github/jchen8000/MachineLearning/blob/master/9%20Convolutional%20Neural%20Network/Convolutional_Neural_Network_Introduction.ipynb\" target=\"_parent\"><img src=\"https://colab.research.google.com/assets/colab-badge.svg\" alt=\"Open In Colab\"/></a>"
      ]
    },
    {
      "cell_type": "markdown",
      "source": [
        "# Introduction to Convolution"
      ],
      "metadata": {
        "id": "1oJiBLIz7QnW"
      }
    },
    {
      "cell_type": "code",
      "execution_count": 1,
      "metadata": {
        "id": "uRvSg49L7PqZ"
      },
      "outputs": [],
      "source": [
        "import numpy as np"
      ]
    },
    {
      "cell_type": "markdown",
      "source": [
        "## Convolution"
      ],
      "metadata": {
        "id": "TfN9X5QAn3BL"
      }
    },
    {
      "cell_type": "markdown",
      "source": [
        "### Convolution for 1-dimensional array\n",
        "\n",
        "For example:\n",
        "\n",
        "$\\begin{bmatrix}3 & 4 & 1 &0  & 2 & 5\\end{bmatrix} \\ast \\begin{bmatrix}2 & 3 & 1 \\end{bmatrix} = \\begin{bmatrix}17 & 7 & 5 & 16\\end{bmatrix}$"
      ],
      "metadata": {
        "id": "LDZ2Hvy38Pvg"
      }
    },
    {
      "cell_type": "markdown",
      "source": [
        "$\\begin{bmatrix}3 & 4 & 1 &0  & 2 & 5\\end{bmatrix}$\n",
        "\n",
        "$\\begin{bmatrix}1 & 3 & 2 \\end{bmatrix}\\rightarrow $\n",
        "\n",
        "First item of convolution result:\n",
        "\n",
        "$2 \\times 1 + 3 \\times 4 + 1 \\times 3  =  17$"
      ],
      "metadata": {
        "id": "dVOLdXhOHKzT"
      }
    },
    {
      "cell_type": "markdown",
      "source": [
        "$\\begin{bmatrix}3 & 4 & 1 &0  & 2 & 5\\end{bmatrix}$\n",
        "\n",
        "$\\quad\\  \\begin{bmatrix}1 & 3 & 2 \\end{bmatrix}\\rightarrow $\n",
        "\n",
        "Seconde item of convolution result:\n",
        "\n",
        "$2 \\times 0 + 3 \\times 1 + 1 \\times 4  =  7$\n",
        "\n",
        "\n",
        "... And so on."
      ],
      "metadata": {
        "id": "IZLgUTR4Iy2s"
      }
    },
    {
      "cell_type": "code",
      "source": [
        "f = np.array([2, 3, 1])\n",
        "g = np.array([3, 4, 1, 0, 2, 5])\n",
        "conv = np.convolve(f, g, mode = 'valid')\n",
        "print(conv)"
      ],
      "metadata": {
        "colab": {
          "base_uri": "https://localhost:8080/"
        },
        "id": "5ok5wH3kqP28",
        "outputId": "a6227665-4d6b-4e38-b819-3fc4ef17339b"
      },
      "execution_count": 2,
      "outputs": [
        {
          "output_type": "stream",
          "name": "stdout",
          "text": [
            "[17  7  5 16]\n"
          ]
        }
      ]
    },
    {
      "cell_type": "markdown",
      "source": [
        "### Convolution for 2-dimensional array"
      ],
      "metadata": {
        "id": "ZLncKi0n7VPa"
      }
    },
    {
      "cell_type": "code",
      "source": [
        "def convolution2d(image, kernel, stride=[1,1], padding=[0,0]):\n",
        "    p_h, p_w = padding\n",
        "    s_h, s_w = stride\n",
        "    image = np.pad(image, \n",
        "                   [(p_h, p_h), (p_w, p_w)], \n",
        "                   mode='constant', \n",
        "                   constant_values=0)\n",
        "\n",
        "    k_h, k_w = kernel.shape\n",
        "    i_h, i_w = image.shape\n",
        "\n",
        "    output_h = (i_h - k_h) // s_h + 1\n",
        "    output_w = (i_w - k_w) // s_w + 1\n",
        "\n",
        "    output = np.zeros((output_h, output_w))\n",
        "\n",
        "    for y in range(0, output_h):\n",
        "        for x in range(0, output_w):\n",
        "            c = image[y*s_h : y*s_h+k_h, x*s_w : x*s_w+k_w]\n",
        "            c = np.multiply(c, kernel)\n",
        "            output[y][x] = np.sum(c)\n",
        "    return output"
      ],
      "metadata": {
        "id": "5hZ_le4KmPKN"
      },
      "execution_count": 3,
      "outputs": []
    },
    {
      "cell_type": "markdown",
      "source": [
        "Example of 2D convolution:\n",
        "\n",
        "$\\begin{bmatrix}\n",
        "1 & 3 & 1 & 0 & 2 & 1 & 0 \\\\ \n",
        "1 & 1 & 1 & 2 & 1 & 2 & 1 \\\\ \n",
        "2 & 1 & 9 & 9 & 8 & 2 & 0 \\\\ \n",
        "0 & 2 & 9 & 1 & 9 & 0 & 1 \\\\ \n",
        "1 & 0 & 9 & 0 & 8 & 2 & 1 \\\\ \n",
        "3 & 1 & 1 & 2 & 0 & 2 & 2 \\\\ \n",
        "1 & 3 & 1 & 3 & 3 & 2 & 0\n",
        "\\end{bmatrix} \\ast \\begin{bmatrix}\n",
        "1 & 1 & 1\\\\ \n",
        "1 & 0 & 1\\\\ \n",
        "1 & 0 & 1\n",
        "\\end{bmatrix} = \\begin{bmatrix}\n",
        " 18 & 17 & 22 & 18 & 13\\\\\n",
        " 23 & 17 & 39 & 17 & 22\\\\\n",
        " 31 & 22 & 61 & 22 & 29\\\\\n",
        " 25 & 15 & 37 & 16 & 21\\\\\n",
        " 16 & 18 & 22 & 19 & 16\n",
        "\\end{bmatrix}$"
      ],
      "metadata": {
        "id": "Q_5ngGxTLxYX"
      }
    },
    {
      "cell_type": "markdown",
      "source": [
        "The first item in convolution result is the sum of multiplication of each items highlighted below:\n",
        "\n",
        "$\\begin{bmatrix}\n",
        "1 & 3 & 1 & . & . & . & . \\\\ \n",
        "1 & 1 & 1 & . & . & . & . \\\\ \n",
        "2 & 1 & 9 & . & . & . & . \\\\ \n",
        ". & . & . & . & . & . & . \\\\\n",
        ". & . & . & . & . & . & . \\\\\n",
        ". & . & . & . & . & . & . \\\\\n",
        ". & . & . & . & . & . & . \n",
        "\\end{bmatrix} \\ast \\begin{bmatrix}\n",
        "1 & 1 & 1\\\\ \n",
        "1 & 0 & 1\\\\ \n",
        "1 & 0 & 1\n",
        "\\end{bmatrix} = \\begin{bmatrix}\n",
        " 18  & . & . & . & .\\\\\n",
        " . & . & . & . & .\\\\\n",
        " . & . & . & . & .\\\\\n",
        " . & . & . & . & .\\\\\n",
        " . & . & . & . & .\n",
        "\\end{bmatrix}$"
      ],
      "metadata": {
        "id": "ArTCyJdCObyj"
      }
    },
    {
      "cell_type": "markdown",
      "source": [
        "The second item in convolution result is the sum of multiplication of each items highlighted below:\n",
        "\n",
        "$\\begin{bmatrix}\n",
        ". & 3 & 1 & 0 & . & . & . \\\\ \n",
        ". & 1 & 1 & 2 & . & . & . \\\\ \n",
        ". & 1 & 9 & 9 & . & . & . \\\\ \n",
        ". & . & . & . & . & . & . \\\\\n",
        ". & . & . & . & . & . & . \\\\\n",
        ". & . & . & . & . & . & . \\\\\n",
        ". & . & . & . & . & . & . \n",
        "\\end{bmatrix} \\ast \\begin{bmatrix}\n",
        "1 & 1 & 1\\\\ \n",
        "1 & 0 & 1\\\\ \n",
        "1 & 0 & 1\n",
        "\\end{bmatrix} = \\begin{bmatrix}\n",
        " 18  & 17 & . & . & .\\\\\n",
        " . & . & . & . & .\\\\\n",
        " . & . & . & . & .\\\\\n",
        " . & . & . & . & .\\\\\n",
        " . & . & . & . & .\n",
        "\\end{bmatrix}$\n",
        "\n",
        "and so on."
      ],
      "metadata": {
        "id": "927FCCnfPi3G"
      }
    },
    {
      "cell_type": "code",
      "source": [
        "image = np.array([[1, 3, 1, 0, 2, 1 ,0],\n",
        "                  [1, 1, 1, 2, 1, 2 ,1],\n",
        "                  [2, 1, 9, 9, 8, 2 ,0],\n",
        "                  [0, 2, 9, 1, 9, 0 ,1],\n",
        "                  [1, 0, 9, 0, 8, 2 ,1],\n",
        "                  [3, 1, 1, 2, 0, 2 ,2],\n",
        "                  [1, 3, 1, 3, 3, 2 ,0]])\n",
        "\n",
        "kernel = np.array([[1, 1, 1],\n",
        "                   [1, 0, 1],\n",
        "                   [1, 0, 1]])\n",
        "\n",
        "conv2d = convolution2d(image, kernel)\n",
        "print(conv2d)"
      ],
      "metadata": {
        "colab": {
          "base_uri": "https://localhost:8080/"
        },
        "id": "R2Q3-cibmSdS",
        "outputId": "85a4d93b-5bbb-48c1-99c1-1881fb30e0cb"
      },
      "execution_count": 4,
      "outputs": [
        {
          "output_type": "stream",
          "name": "stdout",
          "text": [
            "[[18. 17. 22. 18. 13.]\n",
            " [23. 17. 39. 17. 22.]\n",
            " [31. 22. 61. 22. 29.]\n",
            " [25. 15. 37. 16. 21.]\n",
            " [16. 18. 22. 19. 16.]]\n"
          ]
        }
      ]
    },
    {
      "cell_type": "markdown",
      "source": [
        "Padding = [1, 1]:"
      ],
      "metadata": {
        "id": "--ULUfXccfyq"
      }
    },
    {
      "cell_type": "code",
      "source": [
        "conv2d = convolution2d(image, kernel, padding=[1,1])\n",
        "print(conv2d)"
      ],
      "metadata": {
        "id": "w4OC_JxrccLd",
        "outputId": "80a652f7-d325-4206-d299-ec76588f266e",
        "colab": {
          "base_uri": "https://localhost:8080/"
        }
      },
      "execution_count": 5,
      "outputs": [
        {
          "output_type": "stream",
          "name": "stdout",
          "text": [
            "[[ 4.  4.  6.  5.  5.  4.  3.]\n",
            " [ 6. 18. 17. 22. 18. 13.  5.]\n",
            " [ 5. 23. 17. 39. 17. 22.  5.]\n",
            " [ 5. 31. 22. 61. 22. 29.  4.]\n",
            " [ 3. 25. 15. 37. 16. 21.  5.]\n",
            " [ 5. 16. 18. 22. 19. 16.  7.]\n",
            " [ 7.  7. 10.  7.  9.  7.  6.]]\n"
          ]
        }
      ]
    },
    {
      "cell_type": "markdown",
      "source": [
        "Padding = [0,0]; Stride = [2, 2]:"
      ],
      "metadata": {
        "id": "UGF1m4HyXgko"
      }
    },
    {
      "cell_type": "code",
      "source": [
        "conv2d = convolution2d(image, kernel, stride=[2,2])\n",
        "print(conv2d)"
      ],
      "metadata": {
        "id": "NZT9WbyzXkOA",
        "outputId": "4f1df957-6d11-49d4-8626-53d02f762467",
        "colab": {
          "base_uri": "https://localhost:8080/"
        }
      },
      "execution_count": 6,
      "outputs": [
        {
          "output_type": "stream",
          "name": "stdout",
          "text": [
            "[[18. 22. 13.]\n",
            " [31. 61. 29.]\n",
            " [16. 22. 16.]]\n"
          ]
        }
      ]
    },
    {
      "cell_type": "markdown",
      "source": [],
      "metadata": {
        "id": "MyHkcKek7TLz"
      }
    },
    {
      "cell_type": "markdown",
      "source": [
        "## Max Pooling"
      ],
      "metadata": {
        "id": "CKniL65Kjr97"
      }
    },
    {
      "cell_type": "markdown",
      "source": [
        "Example of Max Pooling, kernel = [3, 3]:\n",
        "\n",
        "$\\begin{bmatrix}\n",
        "4 & 4 & 6 & 5 & 5 & 4 & 3 \\\\ \n",
        "6 & 18 & 17 & 22 & 18 & 13 & 5 \\\\ \n",
        "5 & 23 & 17 & 39 & 17 & 22 & 5 \\\\ \n",
        "5 & 31 & 22 & 61 & 22 & 29 & 4 \\\\ \n",
        "3 & 25 & 15 & 37 & 16 & 21 & 5 \\\\ \n",
        "5 & 16 & 18 & 22 & 19 & 16 & 7 \\\\ \n",
        "7 & 7 & 10 & 7 & 9 & 7 & 6\n",
        "\\end{bmatrix} \\Rightarrow  \\begin{bmatrix}\n",
        " 23 & 39 & 5\\\\\n",
        " 31 & 61 & 7\\\\\n",
        " 10 & 9 & 6\n",
        "\\end{bmatrix}$"
      ],
      "metadata": {
        "id": "Y1BoWnoF7Phx"
      }
    },
    {
      "cell_type": "markdown",
      "source": [
        "The first item in max pooling result is the max value of the area covered by the 3 x 3 kernel at the upper-left corner:\n",
        "\n",
        "$\\begin{bmatrix}\n",
        "4 & 4 & 6 & . & . & . & . \\\\ \n",
        "6 & 18 & 17 & . & . & . & . \\\\ \n",
        "5 & 23 & 17 & . & . & . & . \\\\ \n",
        ". & . & . & . & . & . & . \\\\ \n",
        ". & . & . & . & . & . & . \\\\ \n",
        "\\end{bmatrix} \\Rightarrow  \\begin{bmatrix}\n",
        " 23 & . & .\\\\\n",
        " . & . & .\\\\\n",
        " . & . & .\n",
        "\\end{bmatrix}$"
      ],
      "metadata": {
        "id": "rdSCu-uD-Alp"
      }
    },
    {
      "cell_type": "markdown",
      "source": [
        "Then the kernel moves to right, and skip the already covered area, the second item in max pooling result is the max value of the area covered by the kernel:\n",
        "\n",
        "$\\begin{bmatrix}\n",
        ". & . & . & 5 & 5 & 4 & . \\\\ \n",
        ". & . & . & 22 & 18 & 13 & . \\\\ \n",
        ". & . & . & 39 & 17 & 22 & . \\\\ \n",
        ". & . & . & . & . & . & . \\\\ \n",
        ". & . & . & . & . & . & . \\\\ \n",
        "\\end{bmatrix} \\Rightarrow  \\begin{bmatrix}\n",
        " 23 & 39 & .\\\\\n",
        " . & . & .\\\\\n",
        " . & . & .\n",
        "\\end{bmatrix}$"
      ],
      "metadata": {
        "id": "2sWx0Ojy-7AJ"
      }
    },
    {
      "cell_type": "markdown",
      "source": [
        "and so on, until the kernel traverses the entire input matrix."
      ],
      "metadata": {
        "id": "koIhl_lO_wXB"
      }
    },
    {
      "cell_type": "code",
      "source": [
        "def maxpooling2d(image, kernel=[3,3], stride=[0,0], padding=[0,0]):\n",
        "    p_h, p_w = padding\n",
        "    s_h, s_w = stride\n",
        "    k_h, k_w = kernel\n",
        "    image = np.pad(image, \n",
        "                   [(p_h, p_h), (p_w, p_w)], \n",
        "                   mode='constant', \n",
        "                   constant_values=0)\n",
        "\n",
        "    i_h, i_w = image.shape\n",
        "\n",
        "    output_h = -(-i_h // (k_h + s_h))\n",
        "    output_w = -(-i_w // (k_w + s_w))\n",
        "\n",
        "    output = np.zeros((output_h, output_w))\n",
        "\n",
        "    for y in range(0, output_h):\n",
        "        for x in range(0, output_w):\n",
        "            y_, x_ = y*(s_h+k_h), x*(s_w+k_w)\n",
        "            c = image[y_: y_+k_h, x_ : x_+k_w]\n",
        "            output[y][x] = np.amax(c)\n",
        "    return output"
      ],
      "metadata": {
        "id": "tp_rlodKOHdt"
      },
      "execution_count": 7,
      "outputs": []
    },
    {
      "cell_type": "code",
      "source": [
        "conv2d = convolution2d(image, kernel, padding=[1,1])\n",
        "maxp2d = maxpooling2d(conv2d, kernel=[3,3])\n",
        "print(maxp2d)"
      ],
      "metadata": {
        "colab": {
          "base_uri": "https://localhost:8080/"
        },
        "id": "vFewunonTJQD",
        "outputId": "3df97ae5-1437-4e22-9114-b6ab3945d6df"
      },
      "execution_count": 8,
      "outputs": [
        {
          "output_type": "stream",
          "name": "stdout",
          "text": [
            "[[23. 39.  5.]\n",
            " [31. 61.  7.]\n",
            " [10.  9.  6.]]\n"
          ]
        }
      ]
    }
  ]
}