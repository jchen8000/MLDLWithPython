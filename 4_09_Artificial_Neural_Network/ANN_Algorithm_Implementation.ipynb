{
  "nbformat": 4,
  "nbformat_minor": 0,
  "metadata": {
    "colab": {
      "provenance": [],
      "authorship_tag": "ABX9TyNEzJmMe8b9Gwduk+bofofx",
      "include_colab_link": true
    },
    "kernelspec": {
      "name": "python3",
      "display_name": "Python 3"
    },
    "language_info": {
      "name": "python"
    }
  },
  "cells": [
    {
      "cell_type": "markdown",
      "metadata": {
        "id": "view-in-github",
        "colab_type": "text"
      },
      "source": [
        "<a href=\"https://colab.research.google.com/github/jchen8000/MLDLwithPython/blob/main/4_09_Artificial_Neural_Network/ANN_Algorithm_Implementation.ipynb\" target=\"_parent\"><img src=\"https://colab.research.google.com/assets/colab-badge.svg\" alt=\"Open In Colab\"/></a>"
      ]
    },
    {
      "cell_type": "markdown",
      "source": [
        "# ANN Algorithm and Implement from Scratch"
      ],
      "metadata": {
        "id": "LIaKyvIzgNeU"
      }
    },
    {
      "cell_type": "markdown",
      "source": [
        "### Load IRIS Dataset"
      ],
      "metadata": {
        "id": "xzckQCclud80"
      }
    },
    {
      "cell_type": "code",
      "execution_count": null,
      "metadata": {
        "id": "-Dwbikt-gLRL"
      },
      "outputs": [],
      "source": [
        "import numpy as np\n",
        "from sklearn import datasets\n",
        "from sklearn.preprocessing import OneHotEncoder\n",
        "from sklearn.model_selection import train_test_split\n",
        "import matplotlib.pyplot as plt\n",
        "\n",
        "iris = datasets.load_iris()\n",
        "X = iris.data\n",
        "y = iris.target\n",
        "\n",
        "X_train, X_test, y_train, y_test = \\\n",
        "train_test_split(X, y, test_size=0.2, \n",
        "                 random_state=1)\n",
        "\n",
        "enc = OneHotEncoder(sparse=False)\n",
        "y_train = enc.fit_transform(np.array(y_train).reshape(-1, 1))"
      ]
    },
    {
      "cell_type": "markdown",
      "source": [
        "### Define Artificial Neural Network"
      ],
      "metadata": {
        "id": "Cqqe7lmHuhfB"
      }
    },
    {
      "cell_type": "code",
      "source": [
        "class ArtificialNeuralNetwork:\n",
        "\n",
        "    def __init__(self, nodes=[]):\n",
        "        np.random.seed(27)\n",
        "        self.theta = self.initialize(nodes)\n",
        "        self.layers = len(self.theta)\n",
        "        self.history = []\n",
        "\n",
        "    def initialize(self, nodes):\n",
        "        theta = []\n",
        "        for i in range(1, len(nodes)):\n",
        "            w = np.random.uniform(-1,1,(nodes[i-1]+1, nodes[i]))\n",
        "            theta.append(w)\n",
        "        return theta\n",
        "\n",
        "    def sigmoid(self, z):\n",
        "        return 1 / (1 + np.exp(-z))\n",
        "\n",
        "    def sigmoid_derivative(self, z):\n",
        "        return np.multiply(z, 1-z)\n",
        "\n",
        "    def cost(self, h, y):\n",
        "        return (-np.mean(np.sum(np.log(h) * (y), axis=1)))\n",
        "\n",
        "    def add_intercept(self, x):\n",
        "        return np.hstack((np.ones((x.shape[0],1)), x))\n",
        "\n",
        "    def forward_propagation(self, X):\n",
        "        outputs = [X]\n",
        "        x_ = X\n",
        "        for j in range(self.layers):\n",
        "            x_ = self.add_intercept(x_)\n",
        "            output = self.sigmoid(np.dot(x_, self.theta[j]))\n",
        "            outputs.append(output)\n",
        "            x_ = output\n",
        "        return outputs\n",
        "\n",
        "    def back_propagation(self, y, outputs, alpha):\n",
        "        error = np.matrix(y - outputs[-1]) #output layer (final) error\n",
        "        for j in range(self.layers, 0, -1):\n",
        "            curr_out = outputs[j]\n",
        "            prev_out = self.add_intercept(outputs[j-1])\n",
        "            delta = np.multiply(error, self.sigmoid_derivative(curr_out))\n",
        "            self.theta[j-1] += alpha * np.dot(prev_out.T, delta)\n",
        "            adj_theta = np.delete(self.theta[j-1], [0], axis=0)\n",
        "            error = np.dot(delta, adj_theta.T) #current layer error\n",
        "        return self.theta\n",
        "\n",
        "    def fit(self, X, y, epochs=100, alpha=0.01, verbose=1 ):\n",
        "        for epoch in range(1, epochs+1):\n",
        "          outputs = self.forward_propagation(X)\n",
        "          self.theta = self.back_propagation(y, outputs, alpha)\n",
        "          if(epoch % 10 == 0):\n",
        "              accuracy_ = self.accuracy(X_train, y_train)\n",
        "              cost_ = self.cost( outputs[-1], y_train )              \n",
        "              self.history.append([accuracy_, cost_])\n",
        "              if verbose != 0:\n",
        "                print(\"Epoch {}\".format(epoch), end = ': ')\n",
        "                print(\"Accuracy: %.6f\"%accuracy_, end = ', ')\n",
        "                print(\"Cost: %.6f\"%cost_)\n",
        "        return np.array(self.history)\n",
        "\n",
        "    def predict(self, X):\n",
        "        outputs = self.forward_propagation(X)\n",
        "        f_output = outputs[-1]\n",
        "        return (f_output == f_output.max(axis=1, keepdims=True)).astype(float)\n",
        "\n",
        "    def accuracy(self, X, y):\n",
        "        y_ = self.predict(X)\n",
        "        acc = np.sum(np.equal(y, y_), axis=1)\n",
        "        return np.sum(acc == y.shape[1])/y.shape[0]\n"
      ],
      "metadata": {
        "id": "eZ-STM1dHtGU"
      },
      "execution_count": null,
      "outputs": []
    },
    {
      "cell_type": "markdown",
      "source": [
        "### Build and Train the ANN"
      ],
      "metadata": {
        "id": "BaL6nsrxuoVk"
      }
    },
    {
      "cell_type": "code",
      "source": [
        "input_layer = len(X_train[0])\n",
        "output_layer = len(y_train[0])\n",
        "hidden_layer_1 = 8\n",
        "hidden_layer_2 = 8\n",
        "layers = [input_layer, hidden_layer_1, hidden_layer_2, output_layer]\n",
        "epochs = 2000\n",
        "ann = ArtificialNeuralNetwork(nodes=layers)\n",
        "history = ann.fit(X_train, y_train, epochs=epochs, alpha=0.01, verbose=0 )\n",
        "\n",
        "fig = plt.figure(figsize=(8,6))\n",
        "plt.title('Loss and Accuracy vs Epochs')\n",
        "plt.plot(list(range(0, epochs, 10)), history[:,1], color='k', label=\"Loss --> %f\"%history[:,1][-1])\n",
        "plt.plot(list(range(0, epochs, 10)), history[:,0], color='b', label=\"Accuracy --> %f\"%history[:,0][-1])\n",
        "plt.xlabel(r'Epoch', fontsize=12)\n",
        "plt.ylabel(r'Loss and Accuracy', fontsize=12)\n",
        "plt.legend(loc='best')\n",
        "plt.savefig(\"ann_from_scratch.svg\", format=\"svg\", transparent=True, bbox_inches='tight')\n",
        "plt.show()"
      ],
      "metadata": {
        "id": "lDP_0BikVNN6",
        "outputId": "adf9ac9b-75b5-45d5-e77e-04b03a9f6822",
        "colab": {
          "base_uri": "https://localhost:8080/",
          "height": 407
        }
      },
      "execution_count": null,
      "outputs": [
        {
          "output_type": "display_data",
          "data": {
            "text/plain": [
              "<Figure size 576x432 with 1 Axes>"
            ],
            "image/png": "[encoded data removed]"
          },
          "metadata": {
            "needs_background": "light"
          }
        }
      ]
    },
    {
      "cell_type": "markdown",
      "source": [
        "### Evaluate Accuracy on Test set"
      ],
      "metadata": {
        "id": "kExsWLrAuuxj"
      }
    },
    {
      "cell_type": "code",
      "source": [
        "acc = ann.accuracy( X_test, \n",
        "                    enc.fit_transform(np.array(y_test).reshape(-1, 1)) )\n",
        "print(\"Accuracy:\", acc)"
      ],
      "metadata": {
        "id": "NaY0JoGbtMWN",
        "outputId": "3fbee150-ba70-4a07-9327-6adc77406875",
        "colab": {
          "base_uri": "https://localhost:8080/"
        }
      },
      "execution_count": null,
      "outputs": [
        {
          "output_type": "stream",
          "name": "stdout",
          "text": [
            "Accuracy: 1.0\n"
          ]
        }
      ]
    },
    {
      "cell_type": "markdown",
      "source": [
        "### Evaluate with sklearn metrics"
      ],
      "metadata": {
        "id": "ol8tSoNXu4cL"
      }
    },
    {
      "cell_type": "code",
      "source": [
        "from sklearn import metrics\n",
        "y_pred = ann.predict(X_test)\n",
        "y_pred = np.argmax(y_pred, axis=1)\n",
        "y_pred = np.squeeze(np.asarray(y_pred))\n",
        "\n",
        "a_score = metrics.accuracy_score(y_test, y_pred)\n",
        "c_matrix = metrics.confusion_matrix(y_test, y_pred)\n",
        "c_report = metrics.classification_report(y_test, y_pred)\n",
        "print(\"Accuracy Score:\\n\", a_score)\n",
        "print(\"Confusion matrix:\\n\", c_matrix)\n",
        "print(\"Classification Report:\\n\", c_report)"
      ],
      "metadata": {
        "colab": {
          "base_uri": "https://localhost:8080/"
        },
        "id": "RwQHzFi0hJgv",
        "outputId": "3042f055-f455-4421-a793-064b1b053683"
      },
      "execution_count": null,
      "outputs": [
        {
          "output_type": "stream",
          "name": "stdout",
          "text": [
            "Accuracy Score:\n",
            " 1.0\n",
            "Confusion matrix:\n",
            " [[11  0  0]\n",
            " [ 0 13  0]\n",
            " [ 0  0  6]]\n",
            "Classification Report:\n",
            "               precision    recall  f1-score   support\n",
            "\n",
            "           0       1.00      1.00      1.00        11\n",
            "           1       1.00      1.00      1.00        13\n",
            "           2       1.00      1.00      1.00         6\n",
            "\n",
            "    accuracy                           1.00        30\n",
            "   macro avg       1.00      1.00      1.00        30\n",
            "weighted avg       1.00      1.00      1.00        30\n",
            "\n"
          ]
        }
      ]
    },
    {
      "cell_type": "markdown",
      "source": [
        "### Notes"
      ],
      "metadata": {
        "id": "geJRJblQETXT"
      }
    },
    {
      "cell_type": "markdown",
      "source": [
        "\n",
        "\n",
        "```\n",
        "4       8       8      3\n",
        "  (5x8)   (9x8)   (9x3)\n",
        "theta\n",
        "0: (5, 8)\n",
        "1: (9, 8)\n",
        "2: (9, 3)\n",
        "\n",
        "self.theta[j-1] += alpha * np.dot(prevOp.T, delta)\n",
        " prevOp     prevOp.T      delta     theta    \n",
        "(120, 9) -> (9, 120) dot (120, 3) = (9, 3)\n",
        "(120, 9) -> (9, 120) dot (120, 8) = (9, 8)\n",
        "(120, 5) -> (5, 120) dot (120, 8) = (5, 8)\n",
        "\n",
        "wc = np.delete(self.theta[j-1], [0], axis=0)\n",
        "  wc       theta\n",
        "(8, 3) <- (9, 3)\n",
        "(8, 8) <- (9, 8)\n",
        "(4, 8) <- (5, 8)\n",
        "\n",
        "error = np.dot(delta, wc.T) #current layer error\n",
        " error       delta        wc.T       wc\n",
        "(120, 8) <- (120, 3) dot (3, 8) <= (8, 3)\n",
        "(120, 8) <- (120, 8) dot (8, 8) <= (8, 8)\n",
        "(120, 4) <- (120, 8) dot (8, 4) <= (4, 8)\n",
        "```\n"
      ],
      "metadata": {
        "id": "nMKzyKtx_vvt"
      }
    }
  ]
}