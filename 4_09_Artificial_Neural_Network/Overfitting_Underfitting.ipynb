{
  "nbformat": 4,
  "nbformat_minor": 0,
  "metadata": {
    "colab": {
      "provenance": [],
      "authorship_tag": "ABX9TyPm+IL49tbt/QodsWuvKzDc",
      "include_colab_link": true
    },
    "kernelspec": {
      "name": "python3",
      "display_name": "Python 3"
    },
    "language_info": {
      "name": "python"
    }
  },
  "cells": [
    {
      "cell_type": "markdown",
      "metadata": {
        "id": "view-in-github",
        "colab_type": "text"
      },
      "source": [
        "<a href=\"https://colab.research.google.com/github/jchen8000/MachineLearning/blob/master/8%20Artificial%20Neural%20Network/Overfitting_Underfitting.ipynb\" target=\"_parent\"><img src=\"https://colab.research.google.com/assets/colab-badge.svg\" alt=\"Open In Colab\"/></a>"
      ]
    },
    {
      "cell_type": "markdown",
      "source": [
        "# Overfitting and Underfitting"
      ],
      "metadata": {
        "id": "7UkibAnCXL4k"
      }
    },
    {
      "cell_type": "code",
      "execution_count": 1,
      "metadata": {
        "id": "MqiM8ApaW7c6"
      },
      "outputs": [],
      "source": [
        "import numpy as np\n",
        "import matplotlib.pyplot as plt\n",
        "from sklearn import datasets\n",
        "from sklearn import model_selection \n",
        "from sklearn import metrics\n",
        "from sklearn import preprocessing\n",
        "import matplotlib.pyplot as plt\n",
        "\n",
        "from keras.datasets import mnist\n",
        "from tensorflow import keras\n",
        "from tensorflow.keras import layers\n",
        "from tensorflow.keras.models import Sequential\n",
        "from tensorflow.keras.layers import Dense\n",
        "from tensorflow.keras.layers import Dropout\n",
        "from tensorflow.keras.utils import to_categorical"
      ]
    },
    {
      "cell_type": "code",
      "source": [
        "np.random.seed(0)\n",
        "(X_train, y_train), (X_test, y_test) = mnist.load_data()\n",
        "print('X_train: ' + str(X_train.shape))\n",
        "print('y_train: ' + str(y_train.shape))\n",
        "print('X_test:  ' + str(X_test.shape))\n",
        "print('y_test:  ' + str(y_test.shape))\n",
        "\n",
        "# # Flatten the images.\n",
        "X_train = X_train.reshape((-1, 784))\n",
        "X_test = X_test.reshape((-1, 784))\n",
        "\n",
        "# # Normalize the images.\n",
        "scaler = preprocessing.StandardScaler()\n",
        "X_train = scaler.fit_transform(X_train)\n",
        "X_test = scaler.fit_transform(X_test) \n"
      ],
      "metadata": {
        "colab": {
          "base_uri": "https://localhost:8080/"
        },
        "id": "QaOzS-ClX0qH",
        "outputId": "1014519a-b10c-4959-d89d-d9a94207c27a"
      },
      "execution_count": 2,
      "outputs": [
        {
          "output_type": "stream",
          "name": "stdout",
          "text": [
            "X_train: (60000, 28, 28)\n",
            "y_train: (60000,)\n",
            "X_test:  (10000, 28, 28)\n",
            "y_test:  (10000,)\n"
          ]
        }
      ]
    },
    {
      "cell_type": "markdown",
      "source": [
        "## Overfitting"
      ],
      "metadata": {
        "id": "_dueGjYwUJ68"
      }
    },
    {
      "cell_type": "code",
      "source": [
        "# Build the model.\n",
        "model = Sequential([\n",
        "  Dense(128, activation='sigmoid', input_shape=(784,)),\n",
        "  Dense(128, activation='sigmoid'),\n",
        "  Dense(128, activation='sigmoid'),\n",
        "  Dense(64, activation='sigmoid'),\n",
        "  Dense(10, activation='softmax') ])\n",
        "\n",
        "# Compile the model.\n",
        "model.compile(\n",
        "  optimizer='adam',\n",
        "  loss='categorical_crossentropy',\n",
        "  metrics=['categorical_accuracy'],\n",
        ")\n",
        "\n",
        "# Train the model.\n",
        "history = model.fit(\n",
        "  X_train, to_categorical(y_train),\n",
        "  validation_data=(X_test, to_categorical(y_test)),\n",
        "  verbose=2,\n",
        "  epochs=50,\n",
        "  batch_size=64 )"
      ],
      "metadata": {
        "colab": {
          "base_uri": "https://localhost:8080/"
        },
        "id": "oIl3izCWYFtr",
        "outputId": "8ad8416a-e7a4-42f3-a945-fde2f8161cc2"
      },
      "execution_count": 3,
      "outputs": [
        {
          "output_type": "stream",
          "name": "stdout",
          "text": [
            "Epoch 1/50\n",
            "938/938 - 8s - loss: 0.6920 - categorical_accuracy: 0.8154 - val_loss: 0.2644 - val_categorical_accuracy: 0.9295 - 8s/epoch - 9ms/step\n",
            "Epoch 2/50\n",
            "938/938 - 4s - loss: 0.1932 - categorical_accuracy: 0.9474 - val_loss: 0.1823 - val_categorical_accuracy: 0.9468 - 4s/epoch - 5ms/step\n",
            "Epoch 3/50\n",
            "938/938 - 4s - loss: 0.1201 - categorical_accuracy: 0.9663 - val_loss: 0.1447 - val_categorical_accuracy: 0.9597 - 4s/epoch - 4ms/step\n",
            "Epoch 4/50\n",
            "938/938 - 4s - loss: 0.0843 - categorical_accuracy: 0.9768 - val_loss: 0.1412 - val_categorical_accuracy: 0.9628 - 4s/epoch - 4ms/step\n",
            "Epoch 5/50\n",
            "938/938 - 3s - loss: 0.0607 - categorical_accuracy: 0.9835 - val_loss: 0.1431 - val_categorical_accuracy: 0.9620 - 3s/epoch - 4ms/step\n",
            "Epoch 6/50\n",
            "938/938 - 4s - loss: 0.0449 - categorical_accuracy: 0.9876 - val_loss: 0.1569 - val_categorical_accuracy: 0.9599 - 4s/epoch - 4ms/step\n",
            "Epoch 7/50\n",
            "938/938 - 4s - loss: 0.0342 - categorical_accuracy: 0.9908 - val_loss: 0.1485 - val_categorical_accuracy: 0.9620 - 4s/epoch - 4ms/step\n",
            "Epoch 8/50\n",
            "938/938 - 4s - loss: 0.0290 - categorical_accuracy: 0.9920 - val_loss: 0.1508 - val_categorical_accuracy: 0.9628 - 4s/epoch - 5ms/step\n",
            "Epoch 9/50\n",
            "938/938 - 4s - loss: 0.0235 - categorical_accuracy: 0.9935 - val_loss: 0.1632 - val_categorical_accuracy: 0.9631 - 4s/epoch - 4ms/step\n",
            "Epoch 10/50\n",
            "938/938 - 4s - loss: 0.0211 - categorical_accuracy: 0.9939 - val_loss: 0.1629 - val_categorical_accuracy: 0.9634 - 4s/epoch - 5ms/step\n",
            "Epoch 11/50\n",
            "938/938 - 4s - loss: 0.0159 - categorical_accuracy: 0.9956 - val_loss: 0.1606 - val_categorical_accuracy: 0.9649 - 4s/epoch - 5ms/step\n",
            "Epoch 12/50\n",
            "938/938 - 4s - loss: 0.0162 - categorical_accuracy: 0.9954 - val_loss: 0.1662 - val_categorical_accuracy: 0.9636 - 4s/epoch - 4ms/step\n",
            "Epoch 13/50\n",
            "938/938 - 4s - loss: 0.0141 - categorical_accuracy: 0.9958 - val_loss: 0.1731 - val_categorical_accuracy: 0.9636 - 4s/epoch - 4ms/step\n",
            "Epoch 14/50\n",
            "938/938 - 4s - loss: 0.0140 - categorical_accuracy: 0.9959 - val_loss: 0.1969 - val_categorical_accuracy: 0.9601 - 4s/epoch - 4ms/step\n",
            "Epoch 15/50\n",
            "938/938 - 5s - loss: 0.0112 - categorical_accuracy: 0.9967 - val_loss: 0.1726 - val_categorical_accuracy: 0.9662 - 5s/epoch - 5ms/step\n",
            "Epoch 16/50\n",
            "938/938 - 4s - loss: 0.0118 - categorical_accuracy: 0.9962 - val_loss: 0.1882 - val_categorical_accuracy: 0.9618 - 4s/epoch - 4ms/step\n",
            "Epoch 17/50\n",
            "938/938 - 4s - loss: 0.0115 - categorical_accuracy: 0.9963 - val_loss: 0.2085 - val_categorical_accuracy: 0.9574 - 4s/epoch - 4ms/step\n",
            "Epoch 18/50\n",
            "938/938 - 5s - loss: 0.0100 - categorical_accuracy: 0.9968 - val_loss: 0.1951 - val_categorical_accuracy: 0.9627 - 5s/epoch - 5ms/step\n",
            "Epoch 19/50\n",
            "938/938 - 4s - loss: 0.0083 - categorical_accuracy: 0.9973 - val_loss: 0.1962 - val_categorical_accuracy: 0.9631 - 4s/epoch - 5ms/step\n",
            "Epoch 20/50\n",
            "938/938 - 4s - loss: 0.0055 - categorical_accuracy: 0.9984 - val_loss: 0.1815 - val_categorical_accuracy: 0.9664 - 4s/epoch - 4ms/step\n",
            "Epoch 21/50\n",
            "938/938 - 3s - loss: 0.0107 - categorical_accuracy: 0.9964 - val_loss: 0.1959 - val_categorical_accuracy: 0.9630 - 3s/epoch - 4ms/step\n",
            "Epoch 22/50\n",
            "938/938 - 4s - loss: 0.0081 - categorical_accuracy: 0.9973 - val_loss: 0.2179 - val_categorical_accuracy: 0.9622 - 4s/epoch - 4ms/step\n",
            "Epoch 23/50\n",
            "938/938 - 4s - loss: 0.0062 - categorical_accuracy: 0.9979 - val_loss: 0.1922 - val_categorical_accuracy: 0.9641 - 4s/epoch - 4ms/step\n",
            "Epoch 24/50\n",
            "938/938 - 3s - loss: 0.0063 - categorical_accuracy: 0.9981 - val_loss: 0.2107 - val_categorical_accuracy: 0.9635 - 3s/epoch - 4ms/step\n",
            "Epoch 25/50\n",
            "938/938 - 3s - loss: 0.0072 - categorical_accuracy: 0.9975 - val_loss: 0.2050 - val_categorical_accuracy: 0.9657 - 3s/epoch - 4ms/step\n",
            "Epoch 26/50\n",
            "938/938 - 3s - loss: 0.0084 - categorical_accuracy: 0.9970 - val_loss: 0.2088 - val_categorical_accuracy: 0.9639 - 3s/epoch - 3ms/step\n",
            "Epoch 27/50\n",
            "938/938 - 4s - loss: 0.0040 - categorical_accuracy: 0.9988 - val_loss: 0.1970 - val_categorical_accuracy: 0.9654 - 4s/epoch - 4ms/step\n",
            "Epoch 28/50\n",
            "938/938 - 4s - loss: 0.0062 - categorical_accuracy: 0.9979 - val_loss: 0.2229 - val_categorical_accuracy: 0.9631 - 4s/epoch - 5ms/step\n",
            "Epoch 29/50\n",
            "938/938 - 3s - loss: 0.0069 - categorical_accuracy: 0.9976 - val_loss: 0.2065 - val_categorical_accuracy: 0.9652 - 3s/epoch - 4ms/step\n",
            "Epoch 30/50\n",
            "938/938 - 4s - loss: 0.0072 - categorical_accuracy: 0.9977 - val_loss: 0.2063 - val_categorical_accuracy: 0.9637 - 4s/epoch - 4ms/step\n",
            "Epoch 31/50\n",
            "938/938 - 4s - loss: 0.0050 - categorical_accuracy: 0.9984 - val_loss: 0.2129 - val_categorical_accuracy: 0.9642 - 4s/epoch - 4ms/step\n",
            "Epoch 32/50\n",
            "938/938 - 4s - loss: 0.0034 - categorical_accuracy: 0.9990 - val_loss: 0.2385 - val_categorical_accuracy: 0.9628 - 4s/epoch - 5ms/step\n",
            "Epoch 33/50\n",
            "938/938 - 4s - loss: 0.0068 - categorical_accuracy: 0.9977 - val_loss: 0.2242 - val_categorical_accuracy: 0.9627 - 4s/epoch - 4ms/step\n",
            "Epoch 34/50\n",
            "938/938 - 3s - loss: 0.0061 - categorical_accuracy: 0.9979 - val_loss: 0.2222 - val_categorical_accuracy: 0.9629 - 3s/epoch - 4ms/step\n",
            "Epoch 35/50\n",
            "938/938 - 3s - loss: 0.0051 - categorical_accuracy: 0.9984 - val_loss: 0.2243 - val_categorical_accuracy: 0.9642 - 3s/epoch - 4ms/step\n",
            "Epoch 36/50\n",
            "938/938 - 4s - loss: 0.0046 - categorical_accuracy: 0.9984 - val_loss: 0.2228 - val_categorical_accuracy: 0.9638 - 4s/epoch - 4ms/step\n",
            "Epoch 37/50\n",
            "938/938 - 5s - loss: 0.0059 - categorical_accuracy: 0.9979 - val_loss: 0.2161 - val_categorical_accuracy: 0.9650 - 5s/epoch - 5ms/step\n",
            "Epoch 38/50\n",
            "938/938 - 4s - loss: 0.0051 - categorical_accuracy: 0.9981 - val_loss: 0.2230 - val_categorical_accuracy: 0.9644 - 4s/epoch - 4ms/step\n",
            "Epoch 39/50\n",
            "938/938 - 4s - loss: 0.0041 - categorical_accuracy: 0.9987 - val_loss: 0.2320 - val_categorical_accuracy: 0.9632 - 4s/epoch - 4ms/step\n",
            "Epoch 40/50\n",
            "938/938 - 4s - loss: 0.0031 - categorical_accuracy: 0.9991 - val_loss: 0.2375 - val_categorical_accuracy: 0.9643 - 4s/epoch - 4ms/step\n",
            "Epoch 41/50\n",
            "938/938 - 4s - loss: 0.0043 - categorical_accuracy: 0.9987 - val_loss: 0.2360 - val_categorical_accuracy: 0.9641 - 4s/epoch - 5ms/step\n",
            "Epoch 42/50\n",
            "938/938 - 4s - loss: 0.0054 - categorical_accuracy: 0.9986 - val_loss: 0.2164 - val_categorical_accuracy: 0.9662 - 4s/epoch - 4ms/step\n",
            "Epoch 43/50\n",
            "938/938 - 4s - loss: 0.0059 - categorical_accuracy: 0.9982 - val_loss: 0.2178 - val_categorical_accuracy: 0.9646 - 4s/epoch - 4ms/step\n",
            "Epoch 44/50\n",
            "938/938 - 4s - loss: 0.0029 - categorical_accuracy: 0.9991 - val_loss: 0.2207 - val_categorical_accuracy: 0.9646 - 4s/epoch - 4ms/step\n",
            "Epoch 45/50\n",
            "938/938 - 4s - loss: 0.0032 - categorical_accuracy: 0.9990 - val_loss: 0.2300 - val_categorical_accuracy: 0.9650 - 4s/epoch - 4ms/step\n",
            "Epoch 46/50\n",
            "938/938 - 3s - loss: 0.0047 - categorical_accuracy: 0.9984 - val_loss: 0.2355 - val_categorical_accuracy: 0.9644 - 3s/epoch - 4ms/step\n",
            "Epoch 47/50\n",
            "938/938 - 3s - loss: 0.0031 - categorical_accuracy: 0.9991 - val_loss: 0.2396 - val_categorical_accuracy: 0.9633 - 3s/epoch - 3ms/step\n",
            "Epoch 48/50\n",
            "938/938 - 3s - loss: 0.0061 - categorical_accuracy: 0.9981 - val_loss: 0.2273 - val_categorical_accuracy: 0.9651 - 3s/epoch - 3ms/step\n",
            "Epoch 49/50\n",
            "938/938 - 4s - loss: 0.0018 - categorical_accuracy: 0.9994 - val_loss: 0.2207 - val_categorical_accuracy: 0.9644 - 4s/epoch - 4ms/step\n",
            "Epoch 50/50\n",
            "938/938 - 4s - loss: 0.0055 - categorical_accuracy: 0.9985 - val_loss: 0.2406 - val_categorical_accuracy: 0.9631 - 4s/epoch - 4ms/step\n"
          ]
        }
      ]
    },
    {
      "cell_type": "code",
      "source": [
        "print(history.history.keys())"
      ],
      "metadata": {
        "colab": {
          "base_uri": "https://localhost:8080/"
        },
        "id": "wCDrpZHbYqP_",
        "outputId": "931066e8-d4cc-4085-bc20-615ed67e4219"
      },
      "execution_count": 4,
      "outputs": [
        {
          "output_type": "stream",
          "name": "stdout",
          "text": [
            "dict_keys(['loss', 'categorical_accuracy', 'val_loss', 'val_categorical_accuracy'])\n"
          ]
        }
      ]
    },
    {
      "cell_type": "code",
      "source": [
        "fig = plt.figure(figsize=(8,6))\n",
        "plt.title('Overfitting')\n",
        "plt.plot(history.history['loss'], label=\"Train Loss\", c='k')\n",
        "plt.plot(history.history['val_loss'], label=\"Validation Loss\", c='k', ls='--')\n",
        "plt.plot(history.history['categorical_accuracy'], label=\"Train Accuracy\", c='blue')\n",
        "plt.plot(history.history['val_categorical_accuracy'], label=\"Validation Accuracy\", c='blue', ls='--')\n",
        "plt.xlabel(r'Epoch', fontsize=12)\n",
        "plt.ylabel(r'Loss and Accuracy', fontsize=12)\n",
        "plt.legend(loc='best', fontsize=12)\n",
        "plt.savefig(\"overfitting.svg\", format=\"svg\", transparent=True, bbox_inches='tight')\n",
        "plt.show()"
      ],
      "metadata": {
        "colab": {
          "base_uri": "https://localhost:8080/",
          "height": 407
        },
        "id": "3uzLvUlEZnAG",
        "outputId": "e104cbc1-d274-4274-90e5-0327d4b9c79d"
      },
      "execution_count": 5,
      "outputs": [
        {
          "output_type": "display_data",
          "data": {
            "text/plain": [
              "<Figure size 576x432 with 1 Axes>"
            ],
            "image/png": "[encoded data removed]"
          },
          "metadata": {
            "needs_background": "light"
          }
        }
      ]
    },
    {
      "cell_type": "markdown",
      "source": [
        "## Underfitting"
      ],
      "metadata": {
        "id": "HGRiidTsUYa2"
      }
    },
    {
      "cell_type": "code",
      "source": [
        "X_train1 = X_train[0:10000]\n",
        "y_train1 = y_train[0:10000]"
      ],
      "metadata": {
        "id": "ux-l8LUC_3N0"
      },
      "execution_count": 6,
      "outputs": []
    },
    {
      "cell_type": "code",
      "source": [
        "# Build the model.\n",
        "model1 = Sequential([\n",
        "  Dense(16, activation='sigmoid', input_shape=(784,)),\n",
        "  Dense(10, activation='softmax') ])\n",
        "\n",
        "# Compile the model.\n",
        "model1.compile(\n",
        "  optimizer='adam',\n",
        "  loss='categorical_crossentropy',\n",
        "  metrics=['categorical_accuracy'],\n",
        ")\n",
        "\n",
        "# Train the model.\n",
        "history1 = model1.fit(\n",
        "  X_train1, to_categorical(y_train1),\n",
        "  validation_data=(X_test, to_categorical(y_test)),\n",
        "  verbose=2,\n",
        "  epochs=50,\n",
        "  batch_size=64 )"
      ],
      "metadata": {
        "colab": {
          "base_uri": "https://localhost:8080/"
        },
        "id": "DsGseN9QU6ff",
        "outputId": "5d1e455d-79b7-4942-9d7e-8fb71a47578d"
      },
      "execution_count": 7,
      "outputs": [
        {
          "output_type": "stream",
          "name": "stdout",
          "text": [
            "Epoch 1/50\n",
            "157/157 - 1s - loss: 1.4802 - categorical_accuracy: 0.6616 - val_loss: 1.1461 - val_categorical_accuracy: 0.8083 - 1s/epoch - 7ms/step\n",
            "Epoch 2/50\n",
            "157/157 - 1s - loss: 0.9626 - categorical_accuracy: 0.8402 - val_loss: 0.8503 - val_categorical_accuracy: 0.8369 - 521ms/epoch - 3ms/step\n",
            "Epoch 3/50\n",
            "157/157 - 1s - loss: 0.7253 - categorical_accuracy: 0.8653 - val_loss: 0.6796 - val_categorical_accuracy: 0.8631 - 546ms/epoch - 3ms/step\n",
            "Epoch 4/50\n",
            "157/157 - 1s - loss: 0.5793 - categorical_accuracy: 0.8911 - val_loss: 0.5747 - val_categorical_accuracy: 0.8802 - 541ms/epoch - 3ms/step\n",
            "Epoch 5/50\n",
            "157/157 - 0s - loss: 0.4828 - categorical_accuracy: 0.9062 - val_loss: 0.5061 - val_categorical_accuracy: 0.8877 - 409ms/epoch - 3ms/step\n",
            "Epoch 6/50\n",
            "157/157 - 0s - loss: 0.4162 - categorical_accuracy: 0.9153 - val_loss: 0.4581 - val_categorical_accuracy: 0.8909 - 354ms/epoch - 2ms/step\n",
            "Epoch 7/50\n",
            "157/157 - 0s - loss: 0.3675 - categorical_accuracy: 0.9211 - val_loss: 0.4252 - val_categorical_accuracy: 0.8931 - 404ms/epoch - 3ms/step\n",
            "Epoch 8/50\n",
            "157/157 - 1s - loss: 0.3310 - categorical_accuracy: 0.9273 - val_loss: 0.4001 - val_categorical_accuracy: 0.8978 - 525ms/epoch - 3ms/step\n",
            "Epoch 9/50\n",
            "157/157 - 1s - loss: 0.3021 - categorical_accuracy: 0.9315 - val_loss: 0.3830 - val_categorical_accuracy: 0.8984 - 569ms/epoch - 4ms/step\n",
            "Epoch 10/50\n",
            "157/157 - 1s - loss: 0.2784 - categorical_accuracy: 0.9356 - val_loss: 0.3678 - val_categorical_accuracy: 0.9019 - 502ms/epoch - 3ms/step\n",
            "Epoch 11/50\n",
            "157/157 - 1s - loss: 0.2587 - categorical_accuracy: 0.9390 - val_loss: 0.3551 - val_categorical_accuracy: 0.9033 - 658ms/epoch - 4ms/step\n",
            "Epoch 12/50\n",
            "157/157 - 1s - loss: 0.2415 - categorical_accuracy: 0.9442 - val_loss: 0.3468 - val_categorical_accuracy: 0.9054 - 521ms/epoch - 3ms/step\n",
            "Epoch 13/50\n",
            "157/157 - 1s - loss: 0.2269 - categorical_accuracy: 0.9473 - val_loss: 0.3395 - val_categorical_accuracy: 0.9032 - 649ms/epoch - 4ms/step\n",
            "Epoch 14/50\n",
            "157/157 - 1s - loss: 0.2136 - categorical_accuracy: 0.9501 - val_loss: 0.3338 - val_categorical_accuracy: 0.9055 - 568ms/epoch - 4ms/step\n",
            "Epoch 15/50\n",
            "157/157 - 0s - loss: 0.2025 - categorical_accuracy: 0.9526 - val_loss: 0.3289 - val_categorical_accuracy: 0.9063 - 378ms/epoch - 2ms/step\n",
            "Epoch 16/50\n",
            "157/157 - 0s - loss: 0.1921 - categorical_accuracy: 0.9544 - val_loss: 0.3250 - val_categorical_accuracy: 0.9063 - 363ms/epoch - 2ms/step\n",
            "Epoch 17/50\n",
            "157/157 - 1s - loss: 0.1827 - categorical_accuracy: 0.9565 - val_loss: 0.3218 - val_categorical_accuracy: 0.9066 - 556ms/epoch - 4ms/step\n",
            "Epoch 18/50\n",
            "157/157 - 0s - loss: 0.1739 - categorical_accuracy: 0.9581 - val_loss: 0.3191 - val_categorical_accuracy: 0.9081 - 414ms/epoch - 3ms/step\n",
            "Epoch 19/50\n",
            "157/157 - 1s - loss: 0.1663 - categorical_accuracy: 0.9621 - val_loss: 0.3165 - val_categorical_accuracy: 0.9087 - 558ms/epoch - 4ms/step\n",
            "Epoch 20/50\n",
            "157/157 - 1s - loss: 0.1592 - categorical_accuracy: 0.9619 - val_loss: 0.3164 - val_categorical_accuracy: 0.9076 - 546ms/epoch - 3ms/step\n",
            "Epoch 21/50\n",
            "157/157 - 0s - loss: 0.1522 - categorical_accuracy: 0.9646 - val_loss: 0.3159 - val_categorical_accuracy: 0.9063 - 467ms/epoch - 3ms/step\n",
            "Epoch 22/50\n",
            "157/157 - 1s - loss: 0.1457 - categorical_accuracy: 0.9663 - val_loss: 0.3129 - val_categorical_accuracy: 0.9072 - 703ms/epoch - 4ms/step\n",
            "Epoch 23/50\n",
            "157/157 - 1s - loss: 0.1402 - categorical_accuracy: 0.9671 - val_loss: 0.3137 - val_categorical_accuracy: 0.9075 - 513ms/epoch - 3ms/step\n",
            "Epoch 24/50\n",
            "157/157 - 1s - loss: 0.1342 - categorical_accuracy: 0.9694 - val_loss: 0.3143 - val_categorical_accuracy: 0.9071 - 690ms/epoch - 4ms/step\n",
            "Epoch 25/50\n",
            "157/157 - 1s - loss: 0.1295 - categorical_accuracy: 0.9699 - val_loss: 0.3139 - val_categorical_accuracy: 0.9061 - 514ms/epoch - 3ms/step\n",
            "Epoch 26/50\n",
            "157/157 - 0s - loss: 0.1248 - categorical_accuracy: 0.9722 - val_loss: 0.3140 - val_categorical_accuracy: 0.9076 - 417ms/epoch - 3ms/step\n",
            "Epoch 27/50\n",
            "157/157 - 1s - loss: 0.1201 - categorical_accuracy: 0.9724 - val_loss: 0.3131 - val_categorical_accuracy: 0.9071 - 511ms/epoch - 3ms/step\n",
            "Epoch 28/50\n",
            "157/157 - 1s - loss: 0.1159 - categorical_accuracy: 0.9737 - val_loss: 0.3117 - val_categorical_accuracy: 0.9084 - 539ms/epoch - 3ms/step\n",
            "Epoch 29/50\n",
            "157/157 - 1s - loss: 0.1117 - categorical_accuracy: 0.9764 - val_loss: 0.3137 - val_categorical_accuracy: 0.9077 - 563ms/epoch - 4ms/step\n",
            "Epoch 30/50\n",
            "157/157 - 0s - loss: 0.1077 - categorical_accuracy: 0.9772 - val_loss: 0.3125 - val_categorical_accuracy: 0.9088 - 388ms/epoch - 2ms/step\n",
            "Epoch 31/50\n",
            "157/157 - 0s - loss: 0.1047 - categorical_accuracy: 0.9769 - val_loss: 0.3141 - val_categorical_accuracy: 0.9067 - 373ms/epoch - 2ms/step\n",
            "Epoch 32/50\n",
            "157/157 - 0s - loss: 0.1012 - categorical_accuracy: 0.9779 - val_loss: 0.3161 - val_categorical_accuracy: 0.9075 - 381ms/epoch - 2ms/step\n",
            "Epoch 33/50\n",
            "157/157 - 1s - loss: 0.0979 - categorical_accuracy: 0.9789 - val_loss: 0.3153 - val_categorical_accuracy: 0.9073 - 541ms/epoch - 3ms/step\n",
            "Epoch 34/50\n",
            "157/157 - 1s - loss: 0.0946 - categorical_accuracy: 0.9795 - val_loss: 0.3168 - val_categorical_accuracy: 0.9063 - 535ms/epoch - 3ms/step\n",
            "Epoch 35/50\n",
            "157/157 - 1s - loss: 0.0920 - categorical_accuracy: 0.9803 - val_loss: 0.3179 - val_categorical_accuracy: 0.9059 - 522ms/epoch - 3ms/step\n",
            "Epoch 36/50\n",
            "157/157 - 0s - loss: 0.0893 - categorical_accuracy: 0.9814 - val_loss: 0.3191 - val_categorical_accuracy: 0.9071 - 424ms/epoch - 3ms/step\n",
            "Epoch 37/50\n",
            "157/157 - 0s - loss: 0.0868 - categorical_accuracy: 0.9818 - val_loss: 0.3208 - val_categorical_accuracy: 0.9073 - 391ms/epoch - 2ms/step\n",
            "Epoch 38/50\n",
            "157/157 - 0s - loss: 0.0840 - categorical_accuracy: 0.9829 - val_loss: 0.3212 - val_categorical_accuracy: 0.9067 - 370ms/epoch - 2ms/step\n",
            "Epoch 39/50\n",
            "157/157 - 1s - loss: 0.0817 - categorical_accuracy: 0.9833 - val_loss: 0.3235 - val_categorical_accuracy: 0.9067 - 531ms/epoch - 3ms/step\n",
            "Epoch 40/50\n",
            "157/157 - 1s - loss: 0.0792 - categorical_accuracy: 0.9838 - val_loss: 0.3238 - val_categorical_accuracy: 0.9067 - 508ms/epoch - 3ms/step\n",
            "Epoch 41/50\n",
            "157/157 - 1s - loss: 0.0768 - categorical_accuracy: 0.9845 - val_loss: 0.3257 - val_categorical_accuracy: 0.9051 - 551ms/epoch - 4ms/step\n",
            "Epoch 42/50\n",
            "157/157 - 1s - loss: 0.0748 - categorical_accuracy: 0.9855 - val_loss: 0.3252 - val_categorical_accuracy: 0.9060 - 568ms/epoch - 4ms/step\n",
            "Epoch 43/50\n",
            "157/157 - 1s - loss: 0.0728 - categorical_accuracy: 0.9854 - val_loss: 0.3283 - val_categorical_accuracy: 0.9061 - 614ms/epoch - 4ms/step\n",
            "Epoch 44/50\n",
            "157/157 - 1s - loss: 0.0707 - categorical_accuracy: 0.9863 - val_loss: 0.3278 - val_categorical_accuracy: 0.9071 - 629ms/epoch - 4ms/step\n",
            "Epoch 45/50\n",
            "157/157 - 0s - loss: 0.0687 - categorical_accuracy: 0.9867 - val_loss: 0.3314 - val_categorical_accuracy: 0.9063 - 465ms/epoch - 3ms/step\n",
            "Epoch 46/50\n",
            "157/157 - 1s - loss: 0.0668 - categorical_accuracy: 0.9867 - val_loss: 0.3310 - val_categorical_accuracy: 0.9061 - 521ms/epoch - 3ms/step\n",
            "Epoch 47/50\n",
            "157/157 - 0s - loss: 0.0652 - categorical_accuracy: 0.9873 - val_loss: 0.3322 - val_categorical_accuracy: 0.9054 - 411ms/epoch - 3ms/step\n",
            "Epoch 48/50\n",
            "157/157 - 1s - loss: 0.0632 - categorical_accuracy: 0.9877 - val_loss: 0.3349 - val_categorical_accuracy: 0.9063 - 554ms/epoch - 4ms/step\n",
            "Epoch 49/50\n",
            "157/157 - 1s - loss: 0.0618 - categorical_accuracy: 0.9882 - val_loss: 0.3372 - val_categorical_accuracy: 0.9056 - 545ms/epoch - 3ms/step\n",
            "Epoch 50/50\n",
            "157/157 - 0s - loss: 0.0598 - categorical_accuracy: 0.9886 - val_loss: 0.3379 - val_categorical_accuracy: 0.9060 - 400ms/epoch - 3ms/step\n"
          ]
        }
      ]
    },
    {
      "cell_type": "code",
      "source": [
        "fig = plt.figure(figsize=(8,6))\n",
        "plt.title('Underfitting')\n",
        "plt.plot(history1.history['loss'], label=\"Train Loss\", c='k')\n",
        "plt.plot(history1.history['val_loss'], label=\"Validation Loss\", c='k', ls='--')\n",
        "plt.plot(history1.history['categorical_accuracy'], label=\"Train Accuracy\", c='blue')\n",
        "plt.plot(history1.history['val_categorical_accuracy'], label=\"Validation Accuracy\", c='blue', ls='--')\n",
        "plt.xlabel(r'Epoch', fontsize=12)\n",
        "plt.ylabel(r'Loss and Accuracy', fontsize=12)\n",
        "plt.legend(loc='best', fontsize=12)\n",
        "plt.savefig(\"underfitting.svg\", format=\"svg\", transparent=True, bbox_inches='tight')\n",
        "plt.show()"
      ],
      "metadata": {
        "colab": {
          "base_uri": "https://localhost:8080/",
          "height": 407
        },
        "id": "lHaQJ9PHU0P4",
        "outputId": "4f97f333-1e02-4b6e-da0c-790025168142"
      },
      "execution_count": 8,
      "outputs": [
        {
          "output_type": "display_data",
          "data": {
            "text/plain": [
              "<Figure size 576x432 with 1 Axes>"
            ],
            "image/png": "[encoded data removed]"
          },
          "metadata": {
            "needs_background": "light"
          }
        }
      ]
    },
    {
      "cell_type": "markdown",
      "source": [
        "## Appropirate Fitting"
      ],
      "metadata": {
        "id": "H2TNFNehUQNw"
      }
    },
    {
      "cell_type": "code",
      "source": [
        "# Build the model.\n",
        "model2 = Sequential([\n",
        "  Dense(64, activation='sigmoid', input_shape=(784,)),\n",
        "  Dropout(0.35),\n",
        "  Dense(10, activation='softmax') ])\n",
        "\n",
        "# Compile the model.\n",
        "model2.compile(\n",
        "  optimizer='adam',\n",
        "  loss='categorical_crossentropy',\n",
        "  metrics=['categorical_accuracy'],\n",
        ")\n",
        "\n",
        "# Train the model.\n",
        "history2 = model2.fit(\n",
        "  X_train, to_categorical(y_train),\n",
        "  validation_data=(X_test, to_categorical(y_test)),\n",
        "  verbose=2,\n",
        "  epochs=50,\n",
        "  batch_size=64 )"
      ],
      "metadata": {
        "colab": {
          "base_uri": "https://localhost:8080/"
        },
        "id": "d_QoNdGGwOgR",
        "outputId": "f54d59ef-48f7-4de6-dc1c-c488d1227064"
      },
      "execution_count": 9,
      "outputs": [
        {
          "output_type": "stream",
          "name": "stdout",
          "text": [
            "Epoch 1/50\n",
            "938/938 - 3s - loss: 0.5612 - categorical_accuracy: 0.8437 - val_loss: 0.2740 - val_categorical_accuracy: 0.9202 - 3s/epoch - 3ms/step\n",
            "Epoch 2/50\n",
            "938/938 - 2s - loss: 0.3204 - categorical_accuracy: 0.9069 - val_loss: 0.2261 - val_categorical_accuracy: 0.9361 - 2s/epoch - 2ms/step\n",
            "Epoch 3/50\n",
            "938/938 - 2s - loss: 0.2762 - categorical_accuracy: 0.9196 - val_loss: 0.2056 - val_categorical_accuracy: 0.9398 - 2s/epoch - 2ms/step\n",
            "Epoch 4/50\n",
            "938/938 - 2s - loss: 0.2508 - categorical_accuracy: 0.9268 - val_loss: 0.1920 - val_categorical_accuracy: 0.9429 - 2s/epoch - 2ms/step\n",
            "Epoch 5/50\n",
            "938/938 - 2s - loss: 0.2328 - categorical_accuracy: 0.9314 - val_loss: 0.1811 - val_categorical_accuracy: 0.9466 - 2s/epoch - 2ms/step\n",
            "Epoch 6/50\n",
            "938/938 - 2s - loss: 0.2187 - categorical_accuracy: 0.9359 - val_loss: 0.1739 - val_categorical_accuracy: 0.9496 - 2s/epoch - 2ms/step\n",
            "Epoch 7/50\n",
            "938/938 - 2s - loss: 0.2065 - categorical_accuracy: 0.9398 - val_loss: 0.1698 - val_categorical_accuracy: 0.9504 - 2s/epoch - 2ms/step\n",
            "Epoch 8/50\n",
            "938/938 - 2s - loss: 0.1957 - categorical_accuracy: 0.9427 - val_loss: 0.1628 - val_categorical_accuracy: 0.9536 - 2s/epoch - 2ms/step\n",
            "Epoch 9/50\n",
            "938/938 - 3s - loss: 0.1867 - categorical_accuracy: 0.9440 - val_loss: 0.1614 - val_categorical_accuracy: 0.9556 - 3s/epoch - 3ms/step\n",
            "Epoch 10/50\n",
            "938/938 - 2s - loss: 0.1825 - categorical_accuracy: 0.9456 - val_loss: 0.1553 - val_categorical_accuracy: 0.9562 - 2s/epoch - 2ms/step\n",
            "Epoch 11/50\n",
            "938/938 - 2s - loss: 0.1764 - categorical_accuracy: 0.9477 - val_loss: 0.1544 - val_categorical_accuracy: 0.9563 - 2s/epoch - 2ms/step\n",
            "Epoch 12/50\n",
            "938/938 - 2s - loss: 0.1700 - categorical_accuracy: 0.9495 - val_loss: 0.1545 - val_categorical_accuracy: 0.9571 - 2s/epoch - 2ms/step\n",
            "Epoch 13/50\n",
            "938/938 - 2s - loss: 0.1673 - categorical_accuracy: 0.9498 - val_loss: 0.1530 - val_categorical_accuracy: 0.9576 - 2s/epoch - 2ms/step\n",
            "Epoch 14/50\n",
            "938/938 - 2s - loss: 0.1616 - categorical_accuracy: 0.9514 - val_loss: 0.1508 - val_categorical_accuracy: 0.9597 - 2s/epoch - 2ms/step\n",
            "Epoch 15/50\n",
            "938/938 - 2s - loss: 0.1569 - categorical_accuracy: 0.9525 - val_loss: 0.1478 - val_categorical_accuracy: 0.9596 - 2s/epoch - 2ms/step\n",
            "Epoch 16/50\n",
            "938/938 - 2s - loss: 0.1521 - categorical_accuracy: 0.9546 - val_loss: 0.1509 - val_categorical_accuracy: 0.9592 - 2s/epoch - 2ms/step\n",
            "Epoch 17/50\n",
            "938/938 - 2s - loss: 0.1491 - categorical_accuracy: 0.9547 - val_loss: 0.1494 - val_categorical_accuracy: 0.9595 - 2s/epoch - 2ms/step\n",
            "Epoch 18/50\n",
            "938/938 - 2s - loss: 0.1464 - categorical_accuracy: 0.9546 - val_loss: 0.1509 - val_categorical_accuracy: 0.9599 - 2s/epoch - 2ms/step\n",
            "Epoch 19/50\n",
            "938/938 - 3s - loss: 0.1453 - categorical_accuracy: 0.9556 - val_loss: 0.1485 - val_categorical_accuracy: 0.9605 - 3s/epoch - 3ms/step\n",
            "Epoch 20/50\n",
            "938/938 - 2s - loss: 0.1402 - categorical_accuracy: 0.9567 - val_loss: 0.1468 - val_categorical_accuracy: 0.9617 - 2s/epoch - 3ms/step\n",
            "Epoch 21/50\n",
            "938/938 - 2s - loss: 0.1374 - categorical_accuracy: 0.9585 - val_loss: 0.1485 - val_categorical_accuracy: 0.9596 - 2s/epoch - 2ms/step\n",
            "Epoch 22/50\n",
            "938/938 - 2s - loss: 0.1351 - categorical_accuracy: 0.9592 - val_loss: 0.1495 - val_categorical_accuracy: 0.9606 - 2s/epoch - 2ms/step\n",
            "Epoch 23/50\n",
            "938/938 - 2s - loss: 0.1358 - categorical_accuracy: 0.9581 - val_loss: 0.1488 - val_categorical_accuracy: 0.9607 - 2s/epoch - 2ms/step\n",
            "Epoch 24/50\n",
            "938/938 - 2s - loss: 0.1309 - categorical_accuracy: 0.9592 - val_loss: 0.1465 - val_categorical_accuracy: 0.9609 - 2s/epoch - 2ms/step\n",
            "Epoch 25/50\n",
            "938/938 - 2s - loss: 0.1315 - categorical_accuracy: 0.9590 - val_loss: 0.1468 - val_categorical_accuracy: 0.9611 - 2s/epoch - 2ms/step\n",
            "Epoch 26/50\n",
            "938/938 - 2s - loss: 0.1289 - categorical_accuracy: 0.9601 - val_loss: 0.1460 - val_categorical_accuracy: 0.9630 - 2s/epoch - 2ms/step\n",
            "Epoch 27/50\n",
            "938/938 - 2s - loss: 0.1277 - categorical_accuracy: 0.9600 - val_loss: 0.1488 - val_categorical_accuracy: 0.9618 - 2s/epoch - 2ms/step\n",
            "Epoch 28/50\n",
            "938/938 - 2s - loss: 0.1259 - categorical_accuracy: 0.9617 - val_loss: 0.1469 - val_categorical_accuracy: 0.9623 - 2s/epoch - 2ms/step\n",
            "Epoch 29/50\n",
            "938/938 - 2s - loss: 0.1243 - categorical_accuracy: 0.9619 - val_loss: 0.1462 - val_categorical_accuracy: 0.9630 - 2s/epoch - 2ms/step\n",
            "Epoch 30/50\n",
            "938/938 - 2s - loss: 0.1231 - categorical_accuracy: 0.9618 - val_loss: 0.1487 - val_categorical_accuracy: 0.9619 - 2s/epoch - 2ms/step\n",
            "Epoch 31/50\n",
            "938/938 - 2s - loss: 0.1220 - categorical_accuracy: 0.9629 - val_loss: 0.1479 - val_categorical_accuracy: 0.9616 - 2s/epoch - 2ms/step\n",
            "Epoch 32/50\n",
            "938/938 - 2s - loss: 0.1179 - categorical_accuracy: 0.9631 - val_loss: 0.1484 - val_categorical_accuracy: 0.9626 - 2s/epoch - 3ms/step\n",
            "Epoch 33/50\n",
            "938/938 - 2s - loss: 0.1175 - categorical_accuracy: 0.9634 - val_loss: 0.1474 - val_categorical_accuracy: 0.9639 - 2s/epoch - 2ms/step\n",
            "Epoch 34/50\n",
            "938/938 - 2s - loss: 0.1156 - categorical_accuracy: 0.9650 - val_loss: 0.1476 - val_categorical_accuracy: 0.9632 - 2s/epoch - 2ms/step\n",
            "Epoch 35/50\n",
            "938/938 - 2s - loss: 0.1167 - categorical_accuracy: 0.9644 - val_loss: 0.1482 - val_categorical_accuracy: 0.9623 - 2s/epoch - 2ms/step\n",
            "Epoch 36/50\n",
            "938/938 - 2s - loss: 0.1181 - categorical_accuracy: 0.9634 - val_loss: 0.1489 - val_categorical_accuracy: 0.9622 - 2s/epoch - 2ms/step\n",
            "Epoch 37/50\n",
            "938/938 - 2s - loss: 0.1114 - categorical_accuracy: 0.9656 - val_loss: 0.1490 - val_categorical_accuracy: 0.9633 - 2s/epoch - 2ms/step\n",
            "Epoch 38/50\n",
            "938/938 - 2s - loss: 0.1143 - categorical_accuracy: 0.9643 - val_loss: 0.1471 - val_categorical_accuracy: 0.9637 - 2s/epoch - 2ms/step\n",
            "Epoch 39/50\n",
            "938/938 - 2s - loss: 0.1110 - categorical_accuracy: 0.9649 - val_loss: 0.1490 - val_categorical_accuracy: 0.9636 - 2s/epoch - 2ms/step\n",
            "Epoch 40/50\n",
            "938/938 - 2s - loss: 0.1093 - categorical_accuracy: 0.9661 - val_loss: 0.1472 - val_categorical_accuracy: 0.9645 - 2s/epoch - 2ms/step\n",
            "Epoch 41/50\n",
            "938/938 - 2s - loss: 0.1083 - categorical_accuracy: 0.9667 - val_loss: 0.1510 - val_categorical_accuracy: 0.9645 - 2s/epoch - 2ms/step\n",
            "Epoch 42/50\n",
            "938/938 - 2s - loss: 0.1085 - categorical_accuracy: 0.9655 - val_loss: 0.1511 - val_categorical_accuracy: 0.9637 - 2s/epoch - 2ms/step\n",
            "Epoch 43/50\n",
            "938/938 - 2s - loss: 0.1085 - categorical_accuracy: 0.9661 - val_loss: 0.1507 - val_categorical_accuracy: 0.9634 - 2s/epoch - 2ms/step\n",
            "Epoch 44/50\n",
            "938/938 - 2s - loss: 0.1079 - categorical_accuracy: 0.9674 - val_loss: 0.1514 - val_categorical_accuracy: 0.9638 - 2s/epoch - 2ms/step\n",
            "Epoch 45/50\n",
            "938/938 - 2s - loss: 0.1063 - categorical_accuracy: 0.9667 - val_loss: 0.1526 - val_categorical_accuracy: 0.9642 - 2s/epoch - 2ms/step\n",
            "Epoch 46/50\n",
            "938/938 - 2s - loss: 0.1023 - categorical_accuracy: 0.9676 - val_loss: 0.1525 - val_categorical_accuracy: 0.9641 - 2s/epoch - 2ms/step\n",
            "Epoch 47/50\n",
            "938/938 - 2s - loss: 0.1074 - categorical_accuracy: 0.9663 - val_loss: 0.1513 - val_categorical_accuracy: 0.9635 - 2s/epoch - 2ms/step\n",
            "Epoch 48/50\n",
            "938/938 - 2s - loss: 0.1048 - categorical_accuracy: 0.9672 - val_loss: 0.1535 - val_categorical_accuracy: 0.9625 - 2s/epoch - 2ms/step\n",
            "Epoch 49/50\n",
            "938/938 - 2s - loss: 0.1049 - categorical_accuracy: 0.9676 - val_loss: 0.1530 - val_categorical_accuracy: 0.9623 - 2s/epoch - 2ms/step\n",
            "Epoch 50/50\n",
            "938/938 - 2s - loss: 0.1012 - categorical_accuracy: 0.9685 - val_loss: 0.1531 - val_categorical_accuracy: 0.9631 - 2s/epoch - 2ms/step\n"
          ]
        }
      ]
    },
    {
      "cell_type": "code",
      "source": [
        "fig = plt.figure(figsize=(8,6))\n",
        "plt.title('Appropirate-fitting')\n",
        "plt.plot(history2.history['loss'], label=\"Train Loss\", c='k')\n",
        "plt.plot(history2.history['val_loss'], label=\"Validation Loss\", c='k', ls='--')\n",
        "plt.plot(history2.history['categorical_accuracy'], label=\"Train Accuracy\", c='blue')\n",
        "plt.plot(history2.history['val_categorical_accuracy'], label=\"Validation Accuracy\", c='blue', ls='--')\n",
        "plt.xlabel(r'Epoch', fontsize=12)\n",
        "plt.ylabel(r'Loss and Accuracy', fontsize=12)\n",
        "plt.legend(loc='best', fontsize=12)\n",
        "plt.savefig(\"appropirate.svg\", format=\"svg\", transparent=True, bbox_inches='tight')\n",
        "plt.show()"
      ],
      "metadata": {
        "colab": {
          "base_uri": "https://localhost:8080/",
          "height": 407
        },
        "id": "wIjAL8GnxCeB",
        "outputId": "4b2ff3e7-858d-4221-9273-29df734af5e4"
      },
      "execution_count": 10,
      "outputs": [
        {
          "output_type": "display_data",
          "data": {
            "text/plain": [
              "<Figure size 576x432 with 1 Axes>"
            ],
            "image/png": "[encoded data removed]"
          },
          "metadata": {
            "needs_background": "light"
          }
        }
      ]
    }
  ]
}