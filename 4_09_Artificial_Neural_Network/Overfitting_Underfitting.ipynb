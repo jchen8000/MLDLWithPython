{
  "nbformat": 4,
  "nbformat_minor": 0,
  "metadata": {
    "colab": {
      "provenance": [],
      "authorship_tag": "ABX9TyPqB+FjRL6Q1zcNo/53wUw/",
      "include_colab_link": true
    },
    "kernelspec": {
      "name": "python3",
      "display_name": "Python 3"
    },
    "language_info": {
      "name": "python"
    },
    "accelerator": "GPU",
    "gpuClass": "standard"
  },
  "cells": [
    {
      "cell_type": "markdown",
      "metadata": {
        "id": "view-in-github",
        "colab_type": "text"
      },
      "source": [
        "<a href=\"https://colab.research.google.com/github/jchen8000/MLDLwithPython/blob/main/4_09_Artificial_Neural_Network/Overfitting_Underfitting.ipynb\" target=\"_parent\"><img src=\"https://colab.research.google.com/assets/colab-badge.svg\" alt=\"Open In Colab\"/></a>"
      ]
    },
    {
      "cell_type": "markdown",
      "source": [
        "# Overfitting and Underfitting"
      ],
      "metadata": {
        "id": "7UkibAnCXL4k"
      }
    },
    {
      "cell_type": "code",
      "execution_count": 1,
      "metadata": {
        "id": "MqiM8ApaW7c6"
      },
      "outputs": [],
      "source": [
        "import numpy as np\n",
        "import matplotlib.pyplot as plt\n",
        "from sklearn import datasets\n",
        "from sklearn import model_selection \n",
        "from sklearn import metrics\n",
        "from sklearn import preprocessing\n",
        "import matplotlib.pyplot as plt\n",
        "\n",
        "from keras.datasets import mnist\n",
        "from tensorflow import keras\n",
        "from tensorflow.keras import layers\n",
        "from tensorflow.keras.models import Sequential\n",
        "from tensorflow.keras.layers import Dense\n",
        "from tensorflow.keras.layers import Dropout\n",
        "from tensorflow.keras.utils import to_categorical"
      ]
    },
    {
      "cell_type": "code",
      "source": [
        "np.random.seed(0)\n",
        "(X_train, y_train), (X_test, y_test) = mnist.load_data()\n",
        "print('X_train: ' + str(X_train.shape))\n",
        "print('y_train: ' + str(y_train.shape))\n",
        "print('X_test:  ' + str(X_test.shape))\n",
        "print('y_test:  ' + str(y_test.shape))\n",
        "\n",
        "# # Flatten the images.\n",
        "X_train = X_train.reshape((-1, 784))\n",
        "X_test = X_test.reshape((-1, 784))\n",
        "\n",
        "# # Normalize the images.\n",
        "scaler = preprocessing.StandardScaler()\n",
        "X_train = scaler.fit_transform(X_train)\n",
        "X_test = scaler.fit_transform(X_test) \n"
      ],
      "metadata": {
        "colab": {
          "base_uri": "https://localhost:8080/"
        },
        "id": "QaOzS-ClX0qH",
        "outputId": "07a710e5-cd37-4c05-c612-0dbd01bc325d"
      },
      "execution_count": 2,
      "outputs": [
        {
          "output_type": "stream",
          "name": "stdout",
          "text": [
            "X_train: (60000, 28, 28)\n",
            "y_train: (60000,)\n",
            "X_test:  (10000, 28, 28)\n",
            "y_test:  (10000,)\n"
          ]
        }
      ]
    },
    {
      "cell_type": "markdown",
      "source": [
        "## Overfitting"
      ],
      "metadata": {
        "id": "_dueGjYwUJ68"
      }
    },
    {
      "cell_type": "code",
      "source": [
        "# Build the model.\n",
        "model = Sequential([\n",
        "  Dense(128, activation='sigmoid', input_shape=(784,)),\n",
        "  Dense(128, activation='sigmoid'),\n",
        "  Dense(128, activation='sigmoid'),\n",
        "  Dense(64, activation='sigmoid'),\n",
        "  Dense(10, activation='softmax') ])\n",
        "\n",
        "# Compile the model.\n",
        "model.compile(\n",
        "  optimizer='adam',\n",
        "  loss='categorical_crossentropy',\n",
        "  metrics=['categorical_accuracy'],\n",
        ")\n",
        "\n",
        "# Train the model.\n",
        "history = model.fit(\n",
        "  X_train, to_categorical(y_train),\n",
        "  validation_data=(X_test, to_categorical(y_test)),\n",
        "  verbose=2,\n",
        "  epochs=50,\n",
        "  batch_size=64 )"
      ],
      "metadata": {
        "colab": {
          "base_uri": "https://localhost:8080/"
        },
        "id": "oIl3izCWYFtr",
        "outputId": "f56db7ec-6b4c-4507-8381-78478cb4b384"
      },
      "execution_count": 3,
      "outputs": [
        {
          "output_type": "stream",
          "name": "stdout",
          "text": [
            "Epoch 1/50\n",
            "938/938 - 9s - loss: 0.6584 - categorical_accuracy: 0.8153 - val_loss: 0.2633 - val_categorical_accuracy: 0.9307 - 9s/epoch - 10ms/step\n",
            "Epoch 2/50\n",
            "938/938 - 3s - loss: 0.2001 - categorical_accuracy: 0.9463 - val_loss: 0.1801 - val_categorical_accuracy: 0.9500 - 3s/epoch - 4ms/step\n",
            "Epoch 3/50\n",
            "938/938 - 3s - loss: 0.1281 - categorical_accuracy: 0.9649 - val_loss: 0.1603 - val_categorical_accuracy: 0.9543 - 3s/epoch - 3ms/step\n",
            "Epoch 4/50\n",
            "938/938 - 3s - loss: 0.0904 - categorical_accuracy: 0.9751 - val_loss: 0.1582 - val_categorical_accuracy: 0.9565 - 3s/epoch - 3ms/step\n",
            "Epoch 5/50\n",
            "938/938 - 4s - loss: 0.0665 - categorical_accuracy: 0.9810 - val_loss: 0.1443 - val_categorical_accuracy: 0.9594 - 4s/epoch - 4ms/step\n",
            "Epoch 6/50\n",
            "938/938 - 4s - loss: 0.0506 - categorical_accuracy: 0.9858 - val_loss: 0.1440 - val_categorical_accuracy: 0.9620 - 4s/epoch - 4ms/step\n",
            "Epoch 7/50\n",
            "938/938 - 3s - loss: 0.0384 - categorical_accuracy: 0.9892 - val_loss: 0.1580 - val_categorical_accuracy: 0.9588 - 3s/epoch - 3ms/step\n",
            "Epoch 8/50\n",
            "938/938 - 3s - loss: 0.0292 - categorical_accuracy: 0.9917 - val_loss: 0.1475 - val_categorical_accuracy: 0.9631 - 3s/epoch - 4ms/step\n",
            "Epoch 9/50\n",
            "938/938 - 4s - loss: 0.0258 - categorical_accuracy: 0.9924 - val_loss: 0.1566 - val_categorical_accuracy: 0.9643 - 4s/epoch - 4ms/step\n",
            "Epoch 10/50\n",
            "938/938 - 3s - loss: 0.0202 - categorical_accuracy: 0.9941 - val_loss: 0.1537 - val_categorical_accuracy: 0.9653 - 3s/epoch - 3ms/step\n",
            "Epoch 11/50\n",
            "938/938 - 3s - loss: 0.0172 - categorical_accuracy: 0.9950 - val_loss: 0.1679 - val_categorical_accuracy: 0.9617 - 3s/epoch - 3ms/step\n",
            "Epoch 12/50\n",
            "938/938 - 3s - loss: 0.0164 - categorical_accuracy: 0.9950 - val_loss: 0.1940 - val_categorical_accuracy: 0.9578 - 3s/epoch - 3ms/step\n",
            "Epoch 13/50\n",
            "938/938 - 4s - loss: 0.0147 - categorical_accuracy: 0.9955 - val_loss: 0.1709 - val_categorical_accuracy: 0.9654 - 4s/epoch - 4ms/step\n",
            "Epoch 14/50\n",
            "938/938 - 3s - loss: 0.0124 - categorical_accuracy: 0.9963 - val_loss: 0.1782 - val_categorical_accuracy: 0.9640 - 3s/epoch - 4ms/step\n",
            "Epoch 15/50\n",
            "938/938 - 3s - loss: 0.0102 - categorical_accuracy: 0.9970 - val_loss: 0.1775 - val_categorical_accuracy: 0.9638 - 3s/epoch - 3ms/step\n",
            "Epoch 16/50\n",
            "938/938 - 3s - loss: 0.0114 - categorical_accuracy: 0.9966 - val_loss: 0.1812 - val_categorical_accuracy: 0.9652 - 3s/epoch - 3ms/step\n",
            "Epoch 17/50\n",
            "938/938 - 3s - loss: 0.0104 - categorical_accuracy: 0.9965 - val_loss: 0.1919 - val_categorical_accuracy: 0.9631 - 3s/epoch - 4ms/step\n",
            "Epoch 18/50\n",
            "938/938 - 3s - loss: 0.0113 - categorical_accuracy: 0.9963 - val_loss: 0.1954 - val_categorical_accuracy: 0.9606 - 3s/epoch - 4ms/step\n",
            "Epoch 19/50\n",
            "938/938 - 3s - loss: 0.0088 - categorical_accuracy: 0.9973 - val_loss: 0.1866 - val_categorical_accuracy: 0.9647 - 3s/epoch - 3ms/step\n",
            "Epoch 20/50\n",
            "938/938 - 4s - loss: 0.0062 - categorical_accuracy: 0.9980 - val_loss: 0.1890 - val_categorical_accuracy: 0.9658 - 4s/epoch - 4ms/step\n",
            "Epoch 21/50\n",
            "938/938 - 3s - loss: 0.0086 - categorical_accuracy: 0.9972 - val_loss: 0.2013 - val_categorical_accuracy: 0.9637 - 3s/epoch - 3ms/step\n",
            "Epoch 22/50\n",
            "938/938 - 3s - loss: 0.0085 - categorical_accuracy: 0.9972 - val_loss: 0.1980 - val_categorical_accuracy: 0.9640 - 3s/epoch - 3ms/step\n",
            "Epoch 23/50\n",
            "938/938 - 3s - loss: 0.0071 - categorical_accuracy: 0.9976 - val_loss: 0.1840 - val_categorical_accuracy: 0.9663 - 3s/epoch - 3ms/step\n",
            "Epoch 24/50\n",
            "938/938 - 4s - loss: 0.0040 - categorical_accuracy: 0.9990 - val_loss: 0.1981 - val_categorical_accuracy: 0.9631 - 4s/epoch - 4ms/step\n",
            "Epoch 25/50\n",
            "938/938 - 3s - loss: 0.0093 - categorical_accuracy: 0.9970 - val_loss: 0.2138 - val_categorical_accuracy: 0.9596 - 3s/epoch - 4ms/step\n",
            "Epoch 26/50\n",
            "938/938 - 3s - loss: 0.0070 - categorical_accuracy: 0.9977 - val_loss: 0.1813 - val_categorical_accuracy: 0.9666 - 3s/epoch - 3ms/step\n",
            "Epoch 27/50\n",
            "938/938 - 3s - loss: 0.0060 - categorical_accuracy: 0.9981 - val_loss: 0.1993 - val_categorical_accuracy: 0.9647 - 3s/epoch - 3ms/step\n",
            "Epoch 28/50\n",
            "938/938 - 4s - loss: 0.0043 - categorical_accuracy: 0.9988 - val_loss: 0.1974 - val_categorical_accuracy: 0.9662 - 4s/epoch - 4ms/step\n",
            "Epoch 29/50\n",
            "938/938 - 3s - loss: 0.0080 - categorical_accuracy: 0.9974 - val_loss: 0.2242 - val_categorical_accuracy: 0.9582 - 3s/epoch - 3ms/step\n",
            "Epoch 30/50\n",
            "938/938 - 3s - loss: 0.0065 - categorical_accuracy: 0.9977 - val_loss: 0.2010 - val_categorical_accuracy: 0.9649 - 3s/epoch - 3ms/step\n",
            "Epoch 31/50\n",
            "938/938 - 4s - loss: 0.0058 - categorical_accuracy: 0.9983 - val_loss: 0.2007 - val_categorical_accuracy: 0.9664 - 4s/epoch - 4ms/step\n",
            "Epoch 32/50\n",
            "938/938 - 3s - loss: 0.0051 - categorical_accuracy: 0.9986 - val_loss: 0.2074 - val_categorical_accuracy: 0.9662 - 3s/epoch - 3ms/step\n",
            "Epoch 33/50\n",
            "938/938 - 3s - loss: 0.0058 - categorical_accuracy: 0.9980 - val_loss: 0.2240 - val_categorical_accuracy: 0.9604 - 3s/epoch - 3ms/step\n",
            "Epoch 34/50\n",
            "938/938 - 3s - loss: 0.0044 - categorical_accuracy: 0.9987 - val_loss: 0.2256 - val_categorical_accuracy: 0.9638 - 3s/epoch - 3ms/step\n",
            "Epoch 35/50\n",
            "938/938 - 4s - loss: 0.0068 - categorical_accuracy: 0.9978 - val_loss: 0.2066 - val_categorical_accuracy: 0.9659 - 4s/epoch - 4ms/step\n",
            "Epoch 36/50\n",
            "938/938 - 3s - loss: 0.0037 - categorical_accuracy: 0.9989 - val_loss: 0.2159 - val_categorical_accuracy: 0.9627 - 3s/epoch - 4ms/step\n",
            "Epoch 37/50\n",
            "938/938 - 3s - loss: 0.0049 - categorical_accuracy: 0.9985 - val_loss: 0.2182 - val_categorical_accuracy: 0.9649 - 3s/epoch - 4ms/step\n",
            "Epoch 38/50\n",
            "938/938 - 3s - loss: 0.0055 - categorical_accuracy: 0.9982 - val_loss: 0.2042 - val_categorical_accuracy: 0.9657 - 3s/epoch - 4ms/step\n",
            "Epoch 39/50\n",
            "938/938 - 3s - loss: 0.0042 - categorical_accuracy: 0.9986 - val_loss: 0.2130 - val_categorical_accuracy: 0.9654 - 3s/epoch - 4ms/step\n",
            "Epoch 40/50\n",
            "938/938 - 3s - loss: 0.0046 - categorical_accuracy: 0.9985 - val_loss: 0.2169 - val_categorical_accuracy: 0.9668 - 3s/epoch - 4ms/step\n",
            "Epoch 41/50\n",
            "938/938 - 3s - loss: 0.0041 - categorical_accuracy: 0.9985 - val_loss: 0.2270 - val_categorical_accuracy: 0.9645 - 3s/epoch - 3ms/step\n",
            "Epoch 42/50\n",
            "938/938 - 3s - loss: 0.0052 - categorical_accuracy: 0.9982 - val_loss: 0.2254 - val_categorical_accuracy: 0.9635 - 3s/epoch - 4ms/step\n",
            "Epoch 43/50\n",
            "938/938 - 4s - loss: 0.0039 - categorical_accuracy: 0.9988 - val_loss: 0.2394 - val_categorical_accuracy: 0.9615 - 4s/epoch - 4ms/step\n",
            "Epoch 44/50\n",
            "938/938 - 3s - loss: 0.0050 - categorical_accuracy: 0.9983 - val_loss: 0.2147 - val_categorical_accuracy: 0.9664 - 3s/epoch - 3ms/step\n",
            "Epoch 45/50\n",
            "938/938 - 3s - loss: 0.0051 - categorical_accuracy: 0.9984 - val_loss: 0.2417 - val_categorical_accuracy: 0.9625 - 3s/epoch - 3ms/step\n",
            "Epoch 46/50\n",
            "938/938 - 4s - loss: 0.0044 - categorical_accuracy: 0.9987 - val_loss: 0.2258 - val_categorical_accuracy: 0.9645 - 4s/epoch - 4ms/step\n",
            "Epoch 47/50\n",
            "938/938 - 3s - loss: 0.0034 - categorical_accuracy: 0.9990 - val_loss: 0.2347 - val_categorical_accuracy: 0.9637 - 3s/epoch - 3ms/step\n",
            "Epoch 48/50\n",
            "938/938 - 3s - loss: 0.0043 - categorical_accuracy: 0.9985 - val_loss: 0.2257 - val_categorical_accuracy: 0.9654 - 3s/epoch - 3ms/step\n",
            "Epoch 49/50\n",
            "938/938 - 3s - loss: 0.0034 - categorical_accuracy: 0.9990 - val_loss: 0.2365 - val_categorical_accuracy: 0.9627 - 3s/epoch - 3ms/step\n",
            "Epoch 50/50\n",
            "938/938 - 4s - loss: 0.0044 - categorical_accuracy: 0.9985 - val_loss: 0.2366 - val_categorical_accuracy: 0.9636 - 4s/epoch - 4ms/step\n"
          ]
        }
      ]
    },
    {
      "cell_type": "code",
      "source": [
        "print(history.history.keys())"
      ],
      "metadata": {
        "colab": {
          "base_uri": "https://localhost:8080/"
        },
        "id": "wCDrpZHbYqP_",
        "outputId": "84064035-f869-4468-d9d2-0b18b0c8b7c1"
      },
      "execution_count": 4,
      "outputs": [
        {
          "output_type": "stream",
          "name": "stdout",
          "text": [
            "dict_keys(['loss', 'categorical_accuracy', 'val_loss', 'val_categorical_accuracy'])\n"
          ]
        }
      ]
    },
    {
      "cell_type": "code",
      "source": [
        "fig = plt.figure(figsize=(8,6))\n",
        "plt.title('Overfitting')\n",
        "plt.plot(history.history['loss'], label=\"Train Loss\", c='k', lw=2)\n",
        "plt.plot(history.history['val_loss'], label=\"Validation Loss\", c='k', ls='--', lw=2)\n",
        "plt.plot(history.history['categorical_accuracy'], label=\"Train Accuracy\", c='blue')\n",
        "plt.plot(history.history['val_categorical_accuracy'], label=\"Validation Accuracy\", c='blue', ls='--')\n",
        "plt.xlabel(r'Epoch', fontsize=12)\n",
        "plt.ylabel(r'Loss and Accuracy', fontsize=12)\n",
        "plt.legend(loc='best', fontsize=12)\n",
        "plt.savefig(\"overfitting.svg\", format=\"svg\", transparent=True, bbox_inches='tight')\n",
        "plt.show()"
      ],
      "metadata": {
        "colab": {
          "base_uri": "https://localhost:8080/",
          "height": 407
        },
        "id": "3uzLvUlEZnAG",
        "outputId": "86957cec-1756-48dd-d83a-665503038f9b"
      },
      "execution_count": 5,
      "outputs": [
        {
          "output_type": "display_data",
          "data": {
            "text/plain": [
              "<Figure size 576x432 with 1 Axes>"
            ],
            "image/png": "[encoded data removed]"
          },
          "metadata": {
            "needs_background": "light"
          }
        }
      ]
    },
    {
      "cell_type": "markdown",
      "source": [
        "## Underfitting"
      ],
      "metadata": {
        "id": "HGRiidTsUYa2"
      }
    },
    {
      "cell_type": "code",
      "source": [
        "X_train1 = X_train[0:10000]\n",
        "y_train1 = y_train[0:10000]"
      ],
      "metadata": {
        "id": "ux-l8LUC_3N0"
      },
      "execution_count": 6,
      "outputs": []
    },
    {
      "cell_type": "code",
      "source": [
        "# Build the model.\n",
        "model1 = Sequential([\n",
        "  Dense(16, activation='sigmoid', input_shape=(784,)),\n",
        "  Dense(10, activation='softmax') ])\n",
        "\n",
        "# Compile the model.\n",
        "model1.compile(\n",
        "  optimizer='adam',\n",
        "  loss='categorical_crossentropy',\n",
        "  metrics=['categorical_accuracy'],\n",
        ")\n",
        "\n",
        "# Train the model.\n",
        "history1 = model1.fit(\n",
        "  X_train1, to_categorical(y_train1),\n",
        "  validation_data=(X_test, to_categorical(y_test)),\n",
        "  verbose=2,\n",
        "  epochs=50,\n",
        "  batch_size=64 )"
      ],
      "metadata": {
        "colab": {
          "base_uri": "https://localhost:8080/"
        },
        "id": "DsGseN9QU6ff",
        "outputId": "026b698a-9086-459f-f165-31b115c47d6b"
      },
      "execution_count": 7,
      "outputs": [
        {
          "output_type": "stream",
          "name": "stdout",
          "text": [
            "Epoch 1/50\n",
            "157/157 - 2s - loss: 1.4893 - categorical_accuracy: 0.6486 - val_loss: 1.1322 - val_categorical_accuracy: 0.8011 - 2s/epoch - 13ms/step\n",
            "Epoch 2/50\n",
            "157/157 - 1s - loss: 0.9494 - categorical_accuracy: 0.8452 - val_loss: 0.8310 - val_categorical_accuracy: 0.8625 - 669ms/epoch - 4ms/step\n",
            "Epoch 3/50\n",
            "157/157 - 1s - loss: 0.7082 - categorical_accuracy: 0.8840 - val_loss: 0.6590 - val_categorical_accuracy: 0.8773 - 675ms/epoch - 4ms/step\n",
            "Epoch 4/50\n",
            "157/157 - 1s - loss: 0.5621 - categorical_accuracy: 0.9006 - val_loss: 0.5526 - val_categorical_accuracy: 0.8863 - 716ms/epoch - 5ms/step\n",
            "Epoch 5/50\n",
            "157/157 - 1s - loss: 0.4688 - categorical_accuracy: 0.9089 - val_loss: 0.4878 - val_categorical_accuracy: 0.8932 - 678ms/epoch - 4ms/step\n",
            "Epoch 6/50\n",
            "157/157 - 1s - loss: 0.4052 - categorical_accuracy: 0.9180 - val_loss: 0.4427 - val_categorical_accuracy: 0.8979 - 683ms/epoch - 4ms/step\n",
            "Epoch 7/50\n",
            "157/157 - 1s - loss: 0.3590 - categorical_accuracy: 0.9246 - val_loss: 0.4127 - val_categorical_accuracy: 0.9000 - 692ms/epoch - 4ms/step\n",
            "Epoch 8/50\n",
            "157/157 - 1s - loss: 0.3240 - categorical_accuracy: 0.9295 - val_loss: 0.3912 - val_categorical_accuracy: 0.9024 - 656ms/epoch - 4ms/step\n",
            "Epoch 9/50\n",
            "157/157 - 1s - loss: 0.2956 - categorical_accuracy: 0.9345 - val_loss: 0.3723 - val_categorical_accuracy: 0.9037 - 705ms/epoch - 4ms/step\n",
            "Epoch 10/50\n",
            "157/157 - 1s - loss: 0.2727 - categorical_accuracy: 0.9384 - val_loss: 0.3579 - val_categorical_accuracy: 0.9071 - 700ms/epoch - 4ms/step\n",
            "Epoch 11/50\n",
            "157/157 - 1s - loss: 0.2537 - categorical_accuracy: 0.9429 - val_loss: 0.3479 - val_categorical_accuracy: 0.9057 - 1s/epoch - 7ms/step\n",
            "Epoch 12/50\n",
            "157/157 - 1s - loss: 0.2372 - categorical_accuracy: 0.9452 - val_loss: 0.3380 - val_categorical_accuracy: 0.9073 - 1s/epoch - 7ms/step\n",
            "Epoch 13/50\n",
            "157/157 - 1s - loss: 0.2229 - categorical_accuracy: 0.9500 - val_loss: 0.3322 - val_categorical_accuracy: 0.9089 - 694ms/epoch - 4ms/step\n",
            "Epoch 14/50\n",
            "157/157 - 1s - loss: 0.2106 - categorical_accuracy: 0.9507 - val_loss: 0.3260 - val_categorical_accuracy: 0.9092 - 666ms/epoch - 4ms/step\n",
            "Epoch 15/50\n",
            "157/157 - 1s - loss: 0.1994 - categorical_accuracy: 0.9550 - val_loss: 0.3207 - val_categorical_accuracy: 0.9093 - 660ms/epoch - 4ms/step\n",
            "Epoch 16/50\n",
            "157/157 - 1s - loss: 0.1894 - categorical_accuracy: 0.9577 - val_loss: 0.3178 - val_categorical_accuracy: 0.9111 - 681ms/epoch - 4ms/step\n",
            "Epoch 17/50\n",
            "157/157 - 1s - loss: 0.1804 - categorical_accuracy: 0.9594 - val_loss: 0.3153 - val_categorical_accuracy: 0.9101 - 658ms/epoch - 4ms/step\n",
            "Epoch 18/50\n",
            "157/157 - 1s - loss: 0.1724 - categorical_accuracy: 0.9612 - val_loss: 0.3123 - val_categorical_accuracy: 0.9114 - 664ms/epoch - 4ms/step\n",
            "Epoch 19/50\n",
            "157/157 - 1s - loss: 0.1646 - categorical_accuracy: 0.9638 - val_loss: 0.3121 - val_categorical_accuracy: 0.9104 - 693ms/epoch - 4ms/step\n",
            "Epoch 20/50\n",
            "157/157 - 1s - loss: 0.1575 - categorical_accuracy: 0.9646 - val_loss: 0.3094 - val_categorical_accuracy: 0.9107 - 683ms/epoch - 4ms/step\n",
            "Epoch 21/50\n",
            "157/157 - 1s - loss: 0.1508 - categorical_accuracy: 0.9670 - val_loss: 0.3084 - val_categorical_accuracy: 0.9107 - 686ms/epoch - 4ms/step\n",
            "Epoch 22/50\n",
            "157/157 - 1s - loss: 0.1449 - categorical_accuracy: 0.9684 - val_loss: 0.3076 - val_categorical_accuracy: 0.9106 - 725ms/epoch - 5ms/step\n",
            "Epoch 23/50\n",
            "157/157 - 1s - loss: 0.1391 - categorical_accuracy: 0.9695 - val_loss: 0.3066 - val_categorical_accuracy: 0.9111 - 697ms/epoch - 4ms/step\n",
            "Epoch 24/50\n",
            "157/157 - 1s - loss: 0.1338 - categorical_accuracy: 0.9702 - val_loss: 0.3058 - val_categorical_accuracy: 0.9119 - 697ms/epoch - 4ms/step\n",
            "Epoch 25/50\n",
            "157/157 - 1s - loss: 0.1289 - categorical_accuracy: 0.9727 - val_loss: 0.3066 - val_categorical_accuracy: 0.9107 - 684ms/epoch - 4ms/step\n",
            "Epoch 26/50\n",
            "157/157 - 1s - loss: 0.1241 - categorical_accuracy: 0.9722 - val_loss: 0.3062 - val_categorical_accuracy: 0.9096 - 719ms/epoch - 5ms/step\n",
            "Epoch 27/50\n",
            "157/157 - 1s - loss: 0.1195 - categorical_accuracy: 0.9735 - val_loss: 0.3055 - val_categorical_accuracy: 0.9098 - 1s/epoch - 8ms/step\n",
            "Epoch 28/50\n",
            "157/157 - 1s - loss: 0.1154 - categorical_accuracy: 0.9742 - val_loss: 0.3056 - val_categorical_accuracy: 0.9104 - 1s/epoch - 7ms/step\n",
            "Epoch 29/50\n",
            "157/157 - 1s - loss: 0.1114 - categorical_accuracy: 0.9750 - val_loss: 0.3072 - val_categorical_accuracy: 0.9101 - 701ms/epoch - 4ms/step\n",
            "Epoch 30/50\n",
            "157/157 - 1s - loss: 0.1075 - categorical_accuracy: 0.9751 - val_loss: 0.3074 - val_categorical_accuracy: 0.9112 - 681ms/epoch - 4ms/step\n",
            "Epoch 31/50\n",
            "157/157 - 1s - loss: 0.1044 - categorical_accuracy: 0.9765 - val_loss: 0.3097 - val_categorical_accuracy: 0.9100 - 664ms/epoch - 4ms/step\n",
            "Epoch 32/50\n",
            "157/157 - 1s - loss: 0.1003 - categorical_accuracy: 0.9775 - val_loss: 0.3100 - val_categorical_accuracy: 0.9092 - 693ms/epoch - 4ms/step\n",
            "Epoch 33/50\n",
            "157/157 - 1s - loss: 0.0973 - categorical_accuracy: 0.9785 - val_loss: 0.3095 - val_categorical_accuracy: 0.9109 - 679ms/epoch - 4ms/step\n",
            "Epoch 34/50\n",
            "157/157 - 1s - loss: 0.0943 - categorical_accuracy: 0.9787 - val_loss: 0.3133 - val_categorical_accuracy: 0.9101 - 703ms/epoch - 4ms/step\n",
            "Epoch 35/50\n",
            "157/157 - 1s - loss: 0.0913 - categorical_accuracy: 0.9793 - val_loss: 0.3138 - val_categorical_accuracy: 0.9098 - 681ms/epoch - 4ms/step\n",
            "Epoch 36/50\n",
            "157/157 - 1s - loss: 0.0885 - categorical_accuracy: 0.9810 - val_loss: 0.3160 - val_categorical_accuracy: 0.9082 - 686ms/epoch - 4ms/step\n",
            "Epoch 37/50\n",
            "157/157 - 1s - loss: 0.0859 - categorical_accuracy: 0.9809 - val_loss: 0.3170 - val_categorical_accuracy: 0.9089 - 677ms/epoch - 4ms/step\n",
            "Epoch 38/50\n",
            "157/157 - 1s - loss: 0.0833 - categorical_accuracy: 0.9823 - val_loss: 0.3188 - val_categorical_accuracy: 0.9079 - 671ms/epoch - 4ms/step\n",
            "Epoch 39/50\n",
            "157/157 - 1s - loss: 0.0810 - categorical_accuracy: 0.9827 - val_loss: 0.3207 - val_categorical_accuracy: 0.9084 - 686ms/epoch - 4ms/step\n",
            "Epoch 40/50\n",
            "157/157 - 1s - loss: 0.0787 - categorical_accuracy: 0.9835 - val_loss: 0.3222 - val_categorical_accuracy: 0.9086 - 663ms/epoch - 4ms/step\n",
            "Epoch 41/50\n",
            "157/157 - 1s - loss: 0.0764 - categorical_accuracy: 0.9836 - val_loss: 0.3243 - val_categorical_accuracy: 0.9064 - 690ms/epoch - 4ms/step\n",
            "Epoch 42/50\n",
            "157/157 - 1s - loss: 0.0749 - categorical_accuracy: 0.9844 - val_loss: 0.3260 - val_categorical_accuracy: 0.9089 - 717ms/epoch - 5ms/step\n",
            "Epoch 43/50\n",
            "157/157 - 1s - loss: 0.0723 - categorical_accuracy: 0.9852 - val_loss: 0.3282 - val_categorical_accuracy: 0.9070 - 941ms/epoch - 6ms/step\n",
            "Epoch 44/50\n",
            "157/157 - 1s - loss: 0.0703 - categorical_accuracy: 0.9856 - val_loss: 0.3274 - val_categorical_accuracy: 0.9083 - 950ms/epoch - 6ms/step\n",
            "Epoch 45/50\n",
            "157/157 - 1s - loss: 0.0686 - categorical_accuracy: 0.9861 - val_loss: 0.3321 - val_categorical_accuracy: 0.9074 - 699ms/epoch - 4ms/step\n",
            "Epoch 46/50\n",
            "157/157 - 1s - loss: 0.0667 - categorical_accuracy: 0.9865 - val_loss: 0.3335 - val_categorical_accuracy: 0.9073 - 682ms/epoch - 4ms/step\n",
            "Epoch 47/50\n",
            "157/157 - 1s - loss: 0.0651 - categorical_accuracy: 0.9872 - val_loss: 0.3359 - val_categorical_accuracy: 0.9064 - 681ms/epoch - 4ms/step\n",
            "Epoch 48/50\n",
            "157/157 - 1s - loss: 0.0634 - categorical_accuracy: 0.9871 - val_loss: 0.3369 - val_categorical_accuracy: 0.9070 - 682ms/epoch - 4ms/step\n",
            "Epoch 49/50\n",
            "157/157 - 1s - loss: 0.0620 - categorical_accuracy: 0.9876 - val_loss: 0.3387 - val_categorical_accuracy: 0.9061 - 719ms/epoch - 5ms/step\n",
            "Epoch 50/50\n",
            "157/157 - 1s - loss: 0.0605 - categorical_accuracy: 0.9882 - val_loss: 0.3418 - val_categorical_accuracy: 0.9061 - 690ms/epoch - 4ms/step\n"
          ]
        }
      ]
    },
    {
      "cell_type": "code",
      "source": [
        "fig = plt.figure(figsize=(8,6))\n",
        "plt.title('Underfitting')\n",
        "plt.plot(history1.history['loss'], label=\"Train Loss\", c='k', lw=2)\n",
        "plt.plot(history1.history['val_loss'], label=\"Validation Loss\", c='k', ls='--', lw=2)\n",
        "plt.plot(history1.history['categorical_accuracy'], label=\"Train Accuracy\", c='blue')\n",
        "plt.plot(history1.history['val_categorical_accuracy'], label=\"Validation Accuracy\", c='blue', ls='--')\n",
        "plt.xlabel(r'Epoch', fontsize=12)\n",
        "plt.ylabel(r'Loss and Accuracy', fontsize=12)\n",
        "plt.legend(loc='best', fontsize=12)\n",
        "plt.savefig(\"underfitting.svg\", format=\"svg\", transparent=True, bbox_inches='tight')\n",
        "plt.show()"
      ],
      "metadata": {
        "colab": {
          "base_uri": "https://localhost:8080/",
          "height": 407
        },
        "id": "lHaQJ9PHU0P4",
        "outputId": "c84bb698-c2a3-4041-bd6c-8aba73b95b4f"
      },
      "execution_count": 8,
      "outputs": [
        {
          "output_type": "display_data",
          "data": {
            "text/plain": [
              "<Figure size 576x432 with 1 Axes>"
            ],
            "image/png": "[encoded data removed]"
          },
          "metadata": {
            "needs_background": "light"
          }
        }
      ]
    },
    {
      "cell_type": "markdown",
      "source": [
        "## Appropirate Fitting"
      ],
      "metadata": {
        "id": "H2TNFNehUQNw"
      }
    },
    {
      "cell_type": "code",
      "source": [
        "# Build the model.\n",
        "model2 = Sequential([\n",
        "  Dense(64, activation='sigmoid', input_shape=(784,)),\n",
        "  Dropout(0.35),\n",
        "  Dense(10, activation='softmax') ])\n",
        "\n",
        "# Compile the model.\n",
        "model2.compile(\n",
        "  optimizer='adam',\n",
        "  loss='categorical_crossentropy',\n",
        "  metrics=['categorical_accuracy'],\n",
        ")\n",
        "\n",
        "# Train the model.\n",
        "history2 = model2.fit(\n",
        "  X_train, to_categorical(y_train),\n",
        "  validation_data=(X_test, to_categorical(y_test)),\n",
        "  verbose=2,\n",
        "  epochs=50,\n",
        "  batch_size=64 )"
      ],
      "metadata": {
        "colab": {
          "base_uri": "https://localhost:8080/"
        },
        "id": "d_QoNdGGwOgR",
        "outputId": "dc63296f-8756-4659-903d-9429c49d0cf6"
      },
      "execution_count": 9,
      "outputs": [
        {
          "output_type": "stream",
          "name": "stdout",
          "text": [
            "Epoch 1/50\n",
            "938/938 - 4s - loss: 0.5586 - categorical_accuracy: 0.8418 - val_loss: 0.2718 - val_categorical_accuracy: 0.9215 - 4s/epoch - 4ms/step\n",
            "Epoch 2/50\n",
            "938/938 - 3s - loss: 0.3222 - categorical_accuracy: 0.9073 - val_loss: 0.2242 - val_categorical_accuracy: 0.9332 - 3s/epoch - 3ms/step\n",
            "Epoch 3/50\n",
            "938/938 - 3s - loss: 0.2739 - categorical_accuracy: 0.9202 - val_loss: 0.2045 - val_categorical_accuracy: 0.9392 - 3s/epoch - 3ms/step\n",
            "Epoch 4/50\n",
            "938/938 - 3s - loss: 0.2486 - categorical_accuracy: 0.9266 - val_loss: 0.1886 - val_categorical_accuracy: 0.9443 - 3s/epoch - 3ms/step\n",
            "Epoch 5/50\n",
            "938/938 - 3s - loss: 0.2294 - categorical_accuracy: 0.9325 - val_loss: 0.1799 - val_categorical_accuracy: 0.9471 - 3s/epoch - 3ms/step\n",
            "Epoch 6/50\n",
            "938/938 - 3s - loss: 0.2161 - categorical_accuracy: 0.9360 - val_loss: 0.1724 - val_categorical_accuracy: 0.9504 - 3s/epoch - 3ms/step\n",
            "Epoch 7/50\n",
            "938/938 - 3s - loss: 0.2054 - categorical_accuracy: 0.9389 - val_loss: 0.1668 - val_categorical_accuracy: 0.9514 - 3s/epoch - 3ms/step\n",
            "Epoch 8/50\n",
            "938/938 - 3s - loss: 0.1959 - categorical_accuracy: 0.9425 - val_loss: 0.1662 - val_categorical_accuracy: 0.9529 - 3s/epoch - 3ms/step\n",
            "Epoch 9/50\n",
            "938/938 - 3s - loss: 0.1885 - categorical_accuracy: 0.9442 - val_loss: 0.1617 - val_categorical_accuracy: 0.9538 - 3s/epoch - 3ms/step\n",
            "Epoch 10/50\n",
            "938/938 - 3s - loss: 0.1793 - categorical_accuracy: 0.9462 - val_loss: 0.1571 - val_categorical_accuracy: 0.9554 - 3s/epoch - 3ms/step\n",
            "Epoch 11/50\n",
            "938/938 - 3s - loss: 0.1752 - categorical_accuracy: 0.9478 - val_loss: 0.1560 - val_categorical_accuracy: 0.9561 - 3s/epoch - 3ms/step\n",
            "Epoch 12/50\n",
            "938/938 - 3s - loss: 0.1685 - categorical_accuracy: 0.9503 - val_loss: 0.1557 - val_categorical_accuracy: 0.9555 - 3s/epoch - 3ms/step\n",
            "Epoch 13/50\n",
            "938/938 - 3s - loss: 0.1654 - categorical_accuracy: 0.9499 - val_loss: 0.1541 - val_categorical_accuracy: 0.9573 - 3s/epoch - 3ms/step\n",
            "Epoch 14/50\n",
            "938/938 - 3s - loss: 0.1612 - categorical_accuracy: 0.9512 - val_loss: 0.1529 - val_categorical_accuracy: 0.9575 - 3s/epoch - 3ms/step\n",
            "Epoch 15/50\n",
            "938/938 - 3s - loss: 0.1568 - categorical_accuracy: 0.9528 - val_loss: 0.1525 - val_categorical_accuracy: 0.9585 - 3s/epoch - 3ms/step\n",
            "Epoch 16/50\n",
            "938/938 - 3s - loss: 0.1554 - categorical_accuracy: 0.9537 - val_loss: 0.1532 - val_categorical_accuracy: 0.9587 - 3s/epoch - 3ms/step\n",
            "Epoch 17/50\n",
            "938/938 - 3s - loss: 0.1478 - categorical_accuracy: 0.9558 - val_loss: 0.1511 - val_categorical_accuracy: 0.9585 - 3s/epoch - 3ms/step\n",
            "Epoch 18/50\n",
            "938/938 - 3s - loss: 0.1479 - categorical_accuracy: 0.9546 - val_loss: 0.1531 - val_categorical_accuracy: 0.9583 - 3s/epoch - 3ms/step\n",
            "Epoch 19/50\n",
            "938/938 - 3s - loss: 0.1415 - categorical_accuracy: 0.9569 - val_loss: 0.1517 - val_categorical_accuracy: 0.9602 - 3s/epoch - 3ms/step\n",
            "Epoch 20/50\n",
            "938/938 - 3s - loss: 0.1381 - categorical_accuracy: 0.9586 - val_loss: 0.1513 - val_categorical_accuracy: 0.9596 - 3s/epoch - 3ms/step\n",
            "Epoch 21/50\n",
            "938/938 - 3s - loss: 0.1368 - categorical_accuracy: 0.9588 - val_loss: 0.1512 - val_categorical_accuracy: 0.9606 - 3s/epoch - 3ms/step\n",
            "Epoch 22/50\n",
            "938/938 - 3s - loss: 0.1371 - categorical_accuracy: 0.9581 - val_loss: 0.1514 - val_categorical_accuracy: 0.9598 - 3s/epoch - 3ms/step\n",
            "Epoch 23/50\n",
            "938/938 - 3s - loss: 0.1322 - categorical_accuracy: 0.9596 - val_loss: 0.1522 - val_categorical_accuracy: 0.9602 - 3s/epoch - 3ms/step\n",
            "Epoch 24/50\n",
            "938/938 - 3s - loss: 0.1291 - categorical_accuracy: 0.9602 - val_loss: 0.1501 - val_categorical_accuracy: 0.9621 - 3s/epoch - 4ms/step\n",
            "Epoch 25/50\n",
            "938/938 - 3s - loss: 0.1318 - categorical_accuracy: 0.9593 - val_loss: 0.1513 - val_categorical_accuracy: 0.9610 - 3s/epoch - 3ms/step\n",
            "Epoch 26/50\n",
            "938/938 - 3s - loss: 0.1275 - categorical_accuracy: 0.9609 - val_loss: 0.1509 - val_categorical_accuracy: 0.9601 - 3s/epoch - 3ms/step\n",
            "Epoch 27/50\n",
            "938/938 - 3s - loss: 0.1250 - categorical_accuracy: 0.9622 - val_loss: 0.1502 - val_categorical_accuracy: 0.9622 - 3s/epoch - 3ms/step\n",
            "Epoch 28/50\n",
            "938/938 - 3s - loss: 0.1254 - categorical_accuracy: 0.9618 - val_loss: 0.1477 - val_categorical_accuracy: 0.9614 - 3s/epoch - 3ms/step\n",
            "Epoch 29/50\n",
            "938/938 - 3s - loss: 0.1226 - categorical_accuracy: 0.9632 - val_loss: 0.1508 - val_categorical_accuracy: 0.9614 - 3s/epoch - 3ms/step\n",
            "Epoch 30/50\n",
            "938/938 - 3s - loss: 0.1223 - categorical_accuracy: 0.9615 - val_loss: 0.1508 - val_categorical_accuracy: 0.9628 - 3s/epoch - 3ms/step\n",
            "Epoch 31/50\n",
            "938/938 - 3s - loss: 0.1211 - categorical_accuracy: 0.9631 - val_loss: 0.1543 - val_categorical_accuracy: 0.9618 - 3s/epoch - 3ms/step\n",
            "Epoch 32/50\n",
            "938/938 - 3s - loss: 0.1182 - categorical_accuracy: 0.9635 - val_loss: 0.1550 - val_categorical_accuracy: 0.9623 - 3s/epoch - 3ms/step\n",
            "Epoch 33/50\n",
            "938/938 - 3s - loss: 0.1168 - categorical_accuracy: 0.9643 - val_loss: 0.1544 - val_categorical_accuracy: 0.9617 - 3s/epoch - 3ms/step\n",
            "Epoch 34/50\n",
            "938/938 - 3s - loss: 0.1169 - categorical_accuracy: 0.9637 - val_loss: 0.1534 - val_categorical_accuracy: 0.9620 - 3s/epoch - 3ms/step\n",
            "Epoch 35/50\n",
            "938/938 - 3s - loss: 0.1148 - categorical_accuracy: 0.9651 - val_loss: 0.1546 - val_categorical_accuracy: 0.9619 - 3s/epoch - 3ms/step\n",
            "Epoch 36/50\n",
            "938/938 - 3s - loss: 0.1160 - categorical_accuracy: 0.9640 - val_loss: 0.1526 - val_categorical_accuracy: 0.9634 - 3s/epoch - 3ms/step\n",
            "Epoch 37/50\n",
            "938/938 - 3s - loss: 0.1147 - categorical_accuracy: 0.9641 - val_loss: 0.1515 - val_categorical_accuracy: 0.9641 - 3s/epoch - 3ms/step\n",
            "Epoch 38/50\n",
            "938/938 - 3s - loss: 0.1109 - categorical_accuracy: 0.9657 - val_loss: 0.1563 - val_categorical_accuracy: 0.9617 - 3s/epoch - 3ms/step\n",
            "Epoch 39/50\n",
            "938/938 - 3s - loss: 0.1111 - categorical_accuracy: 0.9653 - val_loss: 0.1569 - val_categorical_accuracy: 0.9620 - 3s/epoch - 3ms/step\n",
            "Epoch 40/50\n",
            "938/938 - 3s - loss: 0.1107 - categorical_accuracy: 0.9655 - val_loss: 0.1537 - val_categorical_accuracy: 0.9627 - 3s/epoch - 3ms/step\n",
            "Epoch 41/50\n",
            "938/938 - 2s - loss: 0.1116 - categorical_accuracy: 0.9660 - val_loss: 0.1562 - val_categorical_accuracy: 0.9615 - 2s/epoch - 3ms/step\n",
            "Epoch 42/50\n",
            "938/938 - 3s - loss: 0.1086 - categorical_accuracy: 0.9661 - val_loss: 0.1585 - val_categorical_accuracy: 0.9620 - 3s/epoch - 3ms/step\n",
            "Epoch 43/50\n",
            "938/938 - 3s - loss: 0.1089 - categorical_accuracy: 0.9668 - val_loss: 0.1585 - val_categorical_accuracy: 0.9627 - 3s/epoch - 3ms/step\n",
            "Epoch 44/50\n",
            "938/938 - 3s - loss: 0.1052 - categorical_accuracy: 0.9671 - val_loss: 0.1561 - val_categorical_accuracy: 0.9627 - 3s/epoch - 3ms/step\n",
            "Epoch 45/50\n",
            "938/938 - 3s - loss: 0.1090 - categorical_accuracy: 0.9662 - val_loss: 0.1602 - val_categorical_accuracy: 0.9610 - 3s/epoch - 3ms/step\n",
            "Epoch 46/50\n",
            "938/938 - 3s - loss: 0.1059 - categorical_accuracy: 0.9670 - val_loss: 0.1596 - val_categorical_accuracy: 0.9622 - 3s/epoch - 3ms/step\n",
            "Epoch 47/50\n",
            "938/938 - 3s - loss: 0.1010 - categorical_accuracy: 0.9679 - val_loss: 0.1613 - val_categorical_accuracy: 0.9609 - 3s/epoch - 3ms/step\n",
            "Epoch 48/50\n",
            "938/938 - 3s - loss: 0.1031 - categorical_accuracy: 0.9681 - val_loss: 0.1610 - val_categorical_accuracy: 0.9622 - 3s/epoch - 3ms/step\n",
            "Epoch 49/50\n",
            "938/938 - 3s - loss: 0.1049 - categorical_accuracy: 0.9681 - val_loss: 0.1593 - val_categorical_accuracy: 0.9628 - 3s/epoch - 3ms/step\n",
            "Epoch 50/50\n",
            "938/938 - 3s - loss: 0.1017 - categorical_accuracy: 0.9692 - val_loss: 0.1599 - val_categorical_accuracy: 0.9635 - 3s/epoch - 3ms/step\n"
          ]
        }
      ]
    },
    {
      "cell_type": "code",
      "source": [
        "fig = plt.figure(figsize=(8,6))\n",
        "plt.title('Appropirate-fitting')\n",
        "plt.plot(history2.history['loss'], label=\"Train Loss\", c='k', lw=2)\n",
        "plt.plot(history2.history['val_loss'], label=\"Validation Loss\", c='k', ls='--', lw=2)\n",
        "plt.plot(history2.history['categorical_accuracy'], label=\"Train Accuracy\", c='blue')\n",
        "plt.plot(history2.history['val_categorical_accuracy'], label=\"Validation Accuracy\", c='blue', ls='--')\n",
        "plt.xlabel(r'Epoch', fontsize=12)\n",
        "plt.ylabel(r'Loss and Accuracy', fontsize=12)\n",
        "plt.legend(loc='best', fontsize=12)\n",
        "plt.savefig(\"appropirate.svg\", format=\"svg\", transparent=True, bbox_inches='tight')\n",
        "plt.show()"
      ],
      "metadata": {
        "colab": {
          "base_uri": "https://localhost:8080/",
          "height": 407
        },
        "id": "wIjAL8GnxCeB",
        "outputId": "d5218b20-a81e-47e6-fe22-26b30a85a485"
      },
      "execution_count": 10,
      "outputs": [
        {
          "output_type": "display_data",
          "data": {
            "text/plain": [
              "<Figure size 576x432 with 1 Axes>"
            ],
            "image/png": "[encoded data removed]"
          },
          "metadata": {
            "needs_background": "light"
          }
        }
      ]
    }
  ]
}