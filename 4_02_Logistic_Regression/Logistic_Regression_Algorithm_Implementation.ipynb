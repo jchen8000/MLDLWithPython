{
  "nbformat": 4,
  "nbformat_minor": 0,
  "metadata": {
    "colab": {
      "provenance": [],
      "include_colab_link": true
    },
    "kernelspec": {
      "name": "python3",
      "display_name": "Python 3"
    },
    "language_info": {
      "name": "python"
    }
  },
  "cells": [
    {
      "cell_type": "markdown",
      "metadata": {
        "id": "view-in-github",
        "colab_type": "text"
      },
      "source": [
        "<a href=\"https://colab.research.google.com/github/jchen8000/MachineLearning/blob/master/2%20Logistic%20Regression/Logistic_Regression_Algorithm_Implementation.ipynb\" target=\"_parent\"><img src=\"https://colab.research.google.com/assets/colab-badge.svg\" alt=\"Open In Colab\"/></a>"
      ]
    },
    {
      "cell_type": "markdown",
      "source": [
        "# Logistic Regression Algorithm and Implement from Scratch"
      ],
      "metadata": {
        "id": "LJP7ArbnER4n"
      }
    },
    {
      "cell_type": "code",
      "execution_count": null,
      "metadata": {
        "id": "F7dw6f8go6C9"
      },
      "outputs": [],
      "source": [
        "import numpy as np\n",
        "from sklearn import datasets\n",
        "import matplotlib.pyplot as plt\n",
        "from sklearn import metrics\n",
        "from sklearn import linear_model\n",
        "from sklearn import preprocessing\n",
        "from sklearn.model_selection import train_test_split"
      ]
    },
    {
      "cell_type": "markdown",
      "source": [
        "## Algorithm"
      ],
      "metadata": {
        "id": "FJ8D8ZhnmxC0"
      }
    },
    {
      "cell_type": "markdown",
      "source": [
        "### Sigmoid Function\n",
        "\n",
        "Sigmoid function will transform all its input data between 0 and 1.\n",
        "\n",
        "$f(x) = \\displaystyle\\frac{1}{1+e^{-x}}$"
      ],
      "metadata": {
        "id": "VxRuyfyxu9i1"
      }
    },
    {
      "cell_type": "code",
      "source": [
        "def sigmoid(x):\n",
        "    return 1/(1 + np.exp(-x))\n",
        "\n",
        "x = np.linspace(-6, 6, 50)\n",
        "fig = plt.figure(figsize=(6,4))  \n",
        "plt.plot(x, sigmoid(x))\n",
        "plt.xlabel(\"x\")\n",
        "plt.ylabel(\"Sigmoid(x)\")\n",
        "plt.grid(which='major', color='#555555', linestyle='--')\n",
        "plt.title('Sigmoid Function')\n",
        "plt.axvline(x=0, c=\"k\")\n",
        "plt.axhline(y=0, c=\"k\")\n",
        "plt.show()"
      ],
      "metadata": {
        "colab": {
          "base_uri": "https://localhost:8080/",
          "height": 295
        },
        "id": "c_YNPOjaq1aJ",
        "outputId": "cb04b849-015f-425d-cc6d-5ca01532e4f3"
      },
      "execution_count": null,
      "outputs": [
        {
          "output_type": "display_data",
          "data": {
            "text/plain": [
              "<Figure size 432x288 with 1 Axes>"
            ],
            "image/png": "[encoded data removed]"
          },
          "metadata": {
            "needs_background": "light"
          }
        }
      ]
    },
    {
      "cell_type": "markdown",
      "source": [
        "### Hypothesis Function\n",
        "\n",
        "$\\begin{array}{rcl}\n",
        "h_\\theta(X) & = & f(z) \\\\\n",
        " & = & \\displaystyle\\frac{1}{1+e^{-z}} \\\\\n",
        " & = & \\displaystyle\\frac{1}{1+e^{-X \\cdot \\theta}}\n",
        "\\end{array}$\n",
        "\n",
        "\n",
        "where $z = X \\cdot \\theta = \\theta_0 + \\theta_1x_1 + ... + \\theta_m x_m$"
      ],
      "metadata": {
        "id": "iylBwujNxFYL"
      }
    },
    {
      "cell_type": "code",
      "source": [
        "def hypothesis(X, theta):\n",
        "    z = np.dot(X, theta)\n",
        "    return sigmoid(z)"
      ],
      "metadata": {
        "id": "CipsmOsVK63Q"
      },
      "execution_count": null,
      "outputs": []
    },
    {
      "cell_type": "markdown",
      "source": [
        "### Cross Entropy Cost Function\n",
        "\n",
        "The Cross Entropy Function is defined as following:\n",
        "\n",
        "\n",
        "$\\qquad cost(h_\\theta(x),y) = \\left\\{ \\begin{array}{cl}\n",
        "−log(h_\\theta(x))  & : \\ y = 1 \\\\\n",
        "−log(1-h_\\theta(x)) & : \\ y < 0\n",
        "\\end{array} \\right.$\n",
        "\n"
      ],
      "metadata": {
        "id": "P-EPAA5LweXi"
      }
    },
    {
      "cell_type": "code",
      "source": [
        "def _cross_entropy(x, y):\n",
        "    h = sigmoid(x)\n",
        "    if y == 1:\n",
        "      return -np.log(h)\n",
        "    else:\n",
        "      return -np.log(1 - h)"
      ],
      "metadata": {
        "id": "TKpCyiUZT6O4"
      },
      "execution_count": null,
      "outputs": []
    },
    {
      "cell_type": "code",
      "source": [
        "x = np.linspace(-6, 6, 50)\n",
        "cost_1 = _cross_entropy(x, y=1)\n",
        "cost_0 = _cross_entropy(x, y=0)\n",
        "\n",
        "fig = plt.figure(figsize=(6,4))  \n",
        "plt.plot(sigmoid(x), cost_1, label=r'$J(\\theta)$ if $y=1$')\n",
        "plt.plot(sigmoid(x), cost_0, label=r'$J(\\theta)$ if $y=0$')\n",
        "plt.xlabel(r'$h_\\theta(x)$', fontsize=14)\n",
        "plt.ylabel(r'$J(\\theta)$', fontsize=14)\n",
        "plt.legend(loc='upper center', fontsize=14)\n",
        "plt.tight_layout()\n",
        "plt.show()"
      ],
      "metadata": {
        "colab": {
          "base_uri": "https://localhost:8080/",
          "height": 297
        },
        "id": "7-xXRS7gU45l",
        "outputId": "f769c2d4-9729-4c95-9556-2a9f3555ff20"
      },
      "execution_count": null,
      "outputs": [
        {
          "output_type": "display_data",
          "data": {
            "text/plain": [
              "<Figure size 432x288 with 1 Axes>"
            ],
            "image/png": "[encoded data removed]"
          },
          "metadata": {
            "needs_background": "light"
          }
        }
      ]
    },
    {
      "cell_type": "markdown",
      "source": [
        "\n",
        "The two cost functions (for $y=1$ and $y=0$) can be combined and rewritten as below:\n",
        "\n",
        "$\\qquad J(\\theta) = \\displaystyle-\\frac{1}{n}\\sum_{i=1}^{n}[y^{(i)}log(h_{\\theta}(x^{(i)})) + (1-y^{(i)})log(1-h_{\\theta}(x^{(i)}))] $"
      ],
      "metadata": {
        "id": "W2-BIuFaXo9B"
      }
    },
    {
      "cell_type": "code",
      "source": [
        "def cross_entropy(x, y):\n",
        "    h = sigmoid(x)\n",
        "    return (-y * np.log(h) - (1 - y) * np.log(1 - h)).mean()"
      ],
      "metadata": {
        "id": "xyKbIdAQcDR-"
      },
      "execution_count": null,
      "outputs": []
    },
    {
      "cell_type": "markdown",
      "source": [
        "### Gradient\n",
        "\n",
        "The gradient vector is defined as following:\n",
        "\n",
        "$\\qquad \\nabla J(\\theta) = \\begin{bmatrix}\n",
        "\\displaystyle\\frac{\\partial J( \\theta ) }{\\partial \\theta_0} \\\\ \n",
        "\\displaystyle\\frac{\\partial J( \\theta ) }{\\partial \\theta_1}  \\\\ \n",
        "\\displaystyle\\frac{\\partial J( \\theta ) }{\\partial \\theta_2} \\\\ \n",
        "... \\\\\n",
        "\\displaystyle\\frac{\\partial J( \\theta ) }{\\partial \\theta_m} \\\\ \\end{bmatrix} = \n",
        "\\begin{bmatrix}\n",
        "\\displaystyle\\frac{\\mathrm{1} }{n}  \\sum_{i=1}^{n} ( h_\\theta(x^{(i)}) - y^{(i)} ) \\\\ \n",
        "\\displaystyle\\frac{\\mathrm{1} }{n}  \\sum_{i=1}^{n} ( h_\\theta(x^{(i)}) - y^{(i)} ) x_1^{(i)}  \\\\ \n",
        "\\displaystyle\\frac{\\mathrm{1} }{n}  \\sum_{i=1}^{n} ( h_\\theta(x^{(i)}) - y^{(i)} ) x_2^{(i)} \\\\ \n",
        "... \\\\\n",
        "\\displaystyle\\frac{\\mathrm{1} }{n}  \\sum_{i=1}^{n} ( h_\\theta(x^{(i)}) - y^{(i)} ) x_m^{(i)} \\\\ \\end{bmatrix}$\n"
      ],
      "metadata": {
        "id": "CRYjtHyWwu6Z"
      }
    },
    {
      "cell_type": "code",
      "source": [
        "def gradient(X, h, y):\n",
        "    return np.dot(np.transpose(X), (h - y)) / y.shape[0]"
      ],
      "metadata": {
        "id": "JLkfTf__LM7x"
      },
      "execution_count": null,
      "outputs": []
    },
    {
      "cell_type": "markdown",
      "source": [
        "## Implementation"
      ],
      "metadata": {
        "id": "F3F6YJwuXFn3"
      }
    },
    {
      "cell_type": "code",
      "source": [
        "class LogisticRegression:\n",
        "    def __init__(self, X, y, fit_intercept=True):\n",
        "        self.y = y.reshape(-1, 1)\n",
        "        self.X = self._scale(X)\n",
        "        if fit_intercept:\n",
        "            self.X = np.hstack((np.ones((self.X.shape[0],1)), self.X))\n",
        "        self.theta = np.zeros((self.X.shape[1], 1))\n",
        "        self.fit_intercept = fit_intercept\n",
        "        self.cost_history = []\n",
        "        self.epoch_history = []\n",
        "\n",
        "    def _scale(self, X):\n",
        "        return (X - np.mean(X, axis=0))/np.std(X, axis=0)\n",
        "\n",
        "    def _sigmoid(self, z):\n",
        "        return 1/(1 + np.exp(-z))\n",
        "\n",
        "    def hypothesis(self, X, theta):\n",
        "        z = np.dot(X, theta)\n",
        "        return self._sigmoid(z)\n",
        "     \n",
        "    def cross_entropy_cost(self, h, y):\n",
        "        return (-y * np.log(h) - (1 - y) * np.log(1 - h)).mean()\n",
        "     \n",
        "    def gradient(self, X, h, y):\n",
        "        return np.dot(np.transpose(X), (h - y)) / y.shape[0]\n",
        "      \n",
        "    def fit(self, epochs, alpha):\n",
        "        for i in range(epochs):\n",
        "            h = self.hypothesis(self.X, self.theta)\n",
        "            cost = self.cross_entropy_cost(h, self.y)\n",
        "            grad = self.gradient(self.X, h, self.y)\n",
        "            self.theta -= alpha * grad\n",
        "            self.epoch_history.append(i)\n",
        "            self.cost_history.append(cost)            \n",
        "\n",
        "    def predict(self, X, threshold=0.5):\n",
        "        if self.fit_intercept:\n",
        "            X = np.hstack((np.ones((X.shape[0],1)), X))\n",
        "        pred = self.hypothesis(X, self.theta)\n",
        "        return (pred >= threshold).astype(int).reshape(-1)\n"
      ],
      "metadata": {
        "id": "LiBGpWTjO__4"
      },
      "execution_count": null,
      "outputs": []
    },
    {
      "cell_type": "markdown",
      "source": [
        "### Compare sample dataset"
      ],
      "metadata": {
        "id": "9zFbbgoTr1mR"
      }
    },
    {
      "cell_type": "code",
      "source": [
        "X, y = datasets.make_classification(\n",
        "                  n_samples=1000,\n",
        "                  n_features=12, \n",
        "                  n_redundant=0, \n",
        "                  n_informative=2, \n",
        "                  random_state=1, \n",
        "                  n_clusters_per_class=1)\n",
        "print(\"X size:\", X.shape)\n",
        "print(\"y size\", y.shape)\n",
        "print(\"y classes:\", np.unique(y))"
      ],
      "metadata": {
        "id": "epgf_hZbUWWG",
        "outputId": "c29bed22-17e9-49e7-f3b7-5e08114793c2",
        "colab": {
          "base_uri": "https://localhost:8080/"
        }
      },
      "execution_count": null,
      "outputs": [
        {
          "output_type": "stream",
          "name": "stdout",
          "text": [
            "X size: (1000, 12)\n",
            "y size (1000,)\n",
            "y classes: [0 1]\n"
          ]
        }
      ]
    },
    {
      "cell_type": "code",
      "source": [
        "X_train, X_test, y_train, y_test = \\\n",
        "      train_test_split(X, y, \n",
        "                       train_size = .75, \n",
        "                       random_state=1)"
      ],
      "metadata": {
        "id": "EAt_Q4ESRgWM"
      },
      "execution_count": null,
      "outputs": []
    },
    {
      "cell_type": "code",
      "source": [
        "regressor = LogisticRegression(X_train, y_train)\n",
        "regressor.fit(epochs=6000, alpha=0.01)\n",
        "y_pred = regressor.predict(X_test)\n",
        "a_score = metrics.accuracy_score(y_test, y_pred)\n",
        "c_matrix = metrics.confusion_matrix(y_test, y_pred)\n",
        "print(\"Accuracy Score:\", a_score)\n",
        "print(\"\\nConfusion Matrix:\\n\", c_matrix)\n"
      ],
      "metadata": {
        "id": "YDEyyS4DUaRK",
        "outputId": "79edcc50-92bb-4c43-8c04-065d1f84917b",
        "colab": {
          "base_uri": "https://localhost:8080/"
        }
      },
      "execution_count": null,
      "outputs": [
        {
          "output_type": "stream",
          "name": "stdout",
          "text": [
            "Accuracy Score: 0.888\n",
            "\n",
            "Confusion Matrix:\n",
            " [[112   4]\n",
            " [ 24 110]]\n"
          ]
        }
      ]
    },
    {
      "cell_type": "code",
      "source": [
        "model = linear_model.LogisticRegression()\n",
        "model.fit(X_train, y_train)\n",
        "y_pred_ = model.predict(X_test)\n",
        "a_score = metrics.accuracy_score(y_test, y_pred)\n",
        "c_matrix = metrics.confusion_matrix(y_test, y_pred)\n",
        "print(\"Accuracy Score:\", a_score)\n",
        "print(\"\\nConfusion Matrix:\\n\", c_matrix)\n"
      ],
      "metadata": {
        "id": "IyYTPuGWWVci",
        "outputId": "54f86c31-82ec-424d-d5b1-0960cb7060f3",
        "colab": {
          "base_uri": "https://localhost:8080/"
        }
      },
      "execution_count": null,
      "outputs": [
        {
          "output_type": "stream",
          "name": "stdout",
          "text": [
            "Accuracy Score: 0.888\n",
            "\n",
            "Confusion Matrix:\n",
            " [[112   4]\n",
            " [ 24 110]]\n"
          ]
        }
      ]
    },
    {
      "cell_type": "code",
      "source": [
        "fig = plt.figure(figsize=(8,6))\n",
        "plt.title(r'Cost vs Epoch')\n",
        "\n",
        "plt.plot(regressor.epoch_history, regressor.cost_history, color='b', label=\"Cost --> %f\"%regressor.cost_history[-1])\n",
        "plt.xlabel('Epoch')\n",
        "plt.ylabel(\"Cost\")\n",
        "plt.legend(loc='best')\n",
        "plt.savefig(\"logistic_regression_from_scratch.svg\", format=\"svg\", transparent=True, bbox_inches='tight')\n",
        "plt.show()"
      ],
      "metadata": {
        "id": "mgkrPN9ykAsV",
        "outputId": "6a5acf61-1c7e-4521-a76f-6f8f5fc00c32",
        "colab": {
          "base_uri": "https://localhost:8080/",
          "height": 404
        }
      },
      "execution_count": null,
      "outputs": [
        {
          "output_type": "display_data",
          "data": {
            "text/plain": [
              "<Figure size 576x432 with 1 Axes>"
            ],
            "image/png": "[encoded data removed]"
          },
          "metadata": {
            "needs_background": "light"
          }
        }
      ]
    },
    {
      "cell_type": "markdown",
      "source": [
        "### Compare brease dataset"
      ],
      "metadata": {
        "id": "2BeJpb4-sAPg"
      }
    },
    {
      "cell_type": "code",
      "source": [
        "#Loading the data\n",
        "data = datasets.load_breast_cancer()\n",
        " \n",
        "#Preparing the data\n",
        "scaler = preprocessing.StandardScaler()\n",
        "X1 = scaler.fit_transform(data.data) \n",
        "y1 = data.target\n",
        "print(X1.shape)\n",
        "print(y1.shape)\n",
        "X_train, X_test, y_train, y_test = \\\n",
        "      train_test_split(X1, y1, \n",
        "                       train_size = .75, \n",
        "                       random_state=2)\n",
        "\n",
        "#creating the class Object\n",
        "regressor = LogisticRegression(X_train, y_train)\n",
        "regressor.fit(epochs=5000, alpha=0.01)\n",
        "y_pred = regressor.predict(X_test)\n",
        "a_score = metrics.accuracy_score(y_test, y_pred)\n",
        "c_matrix = metrics.confusion_matrix(y_test, y_pred)\n",
        "print(\"Accuracy Score:\", a_score)\n",
        "print(\"\\nConfusion Matrix:\\n\", c_matrix)\n"
      ],
      "metadata": {
        "id": "t6HJPd72r-SG",
        "outputId": "bcdcf4c9-d469-45c8-fbb4-af0dea3ae4d7",
        "colab": {
          "base_uri": "https://localhost:8080/"
        }
      },
      "execution_count": null,
      "outputs": [
        {
          "output_type": "stream",
          "name": "stdout",
          "text": [
            "(569, 30)\n",
            "(569,)\n",
            "Accuracy Score: 0.9790209790209791\n",
            "\n",
            "Confusion Matrix:\n",
            " [[54  2]\n",
            " [ 1 86]]\n"
          ]
        }
      ]
    },
    {
      "cell_type": "code",
      "source": [
        "model = linear_model.LogisticRegression()\n",
        "model.fit(X_train, y_train)\n",
        "y_pred = model.predict(X_test)\n",
        "a_score = metrics.accuracy_score(y_test, y_pred)\n",
        "c_matrix = metrics.confusion_matrix(y_test, y_pred)\n",
        "print(\"Accuracy Score:\", a_score)\n",
        "print(\"\\nConfusion Matrix:\\n\", c_matrix)\n"
      ],
      "metadata": {
        "id": "N6x2yfOdrUMy",
        "outputId": "37f77136-66f4-4b7f-a641-b467115478f3",
        "colab": {
          "base_uri": "https://localhost:8080/"
        }
      },
      "execution_count": null,
      "outputs": [
        {
          "output_type": "stream",
          "name": "stdout",
          "text": [
            "Accuracy Score: 0.972027972027972\n",
            "\n",
            "Confusion Matrix:\n",
            " [[55  1]\n",
            " [ 3 84]]\n"
          ]
        }
      ]
    },
    {
      "cell_type": "code",
      "source": [
        "fig = plt.figure(figsize=(8,6))\n",
        "plt.title(r'Cost vs Epoch')\n",
        "\n",
        "plt.plot(regressor.epoch_history, regressor.cost_history, color='b', label=\"Cost --> %f\"%regressor.cost_history[-1])\n",
        "plt.xlabel('Epoch')\n",
        "plt.ylabel(\"Cost\")\n",
        "plt.legend(loc='best')\n",
        "plt.savefig(\"logistic_regression.svg\", format=\"svg\", transparent=True, bbox_inches='tight')\n",
        "plt.show()"
      ],
      "metadata": {
        "id": "XLOtXw_qlRBC",
        "outputId": "50c84d12-d714-40a4-f0e2-79ca6dbc0f6c",
        "colab": {
          "base_uri": "https://localhost:8080/",
          "height": 404
        }
      },
      "execution_count": null,
      "outputs": [
        {
          "output_type": "display_data",
          "data": {
            "text/plain": [
              "<Figure size 576x432 with 1 Axes>"
            ],
            "image/png": "[encoded data removed]"
          },
          "metadata": {
            "needs_background": "light"
          }
        }
      ]
    },
    {
      "cell_type": "markdown",
      "source": [
        "### Compare IRIS dataset"
      ],
      "metadata": {
        "id": "88J02wnZrp_c"
      }
    },
    {
      "cell_type": "code",
      "source": [
        "iris = datasets.load_iris()\n",
        "idx = iris.target != 0\n",
        "X2 = scaler.fit_transform(iris.data[idx]) \n",
        "y2 = iris.target[idx]\n",
        "y2 = y2 - 1\n",
        "\n",
        "print(X2.shape)\n",
        "print(y2.shape)\n",
        "print(np.unique(y2))"
      ],
      "metadata": {
        "id": "PXxrgi5FXl8a",
        "outputId": "b79b70d0-209e-47b3-c76b-fc588a62dc43",
        "colab": {
          "base_uri": "https://localhost:8080/"
        }
      },
      "execution_count": null,
      "outputs": [
        {
          "output_type": "stream",
          "name": "stdout",
          "text": [
            "(100, 4)\n",
            "(100,)\n",
            "[0 1]\n"
          ]
        }
      ]
    },
    {
      "cell_type": "code",
      "source": [
        "model1 = linear_model.LogisticRegression()\n",
        "model1.fit(X2, y2)\n",
        "y2_pred_ = model1.predict(X2)\n",
        "print(\"Accuracy Score:\", metrics.accuracy_score(y2, y2_pred_))\n",
        "print(\"\\nConfusion Matrix:\\n\", metrics.confusion_matrix(y2, y2_pred_))\n"
      ],
      "metadata": {
        "id": "U1zprIDfX-OX",
        "outputId": "871f2302-8cd5-48bb-aff9-e2f582ec6cd0",
        "colab": {
          "base_uri": "https://localhost:8080/"
        }
      },
      "execution_count": null,
      "outputs": [
        {
          "output_type": "stream",
          "name": "stdout",
          "text": [
            "Accuracy Score: 0.96\n",
            "\n",
            "Confusion Matrix:\n",
            " [[47  3]\n",
            " [ 1 49]]\n"
          ]
        }
      ]
    },
    {
      "cell_type": "code",
      "source": [
        "regressor = LogisticRegression(X2,y2)\n",
        "regressor.fit(epochs=5000, alpha=0.02)\n",
        "y2_pred = regressor.predict(X2)\n",
        "print(\"Accuracy Score:\", metrics.accuracy_score(y2, y2_pred))\n",
        "print(\"\\nConfusion Matrix:\\n\", metrics.confusion_matrix(y2, y2_pred))\n"
      ],
      "metadata": {
        "id": "vGtZ58cJYWc_",
        "outputId": "84f50cf0-a7e7-4fd6-c1cb-f3326198acd2",
        "colab": {
          "base_uri": "https://localhost:8080/"
        }
      },
      "execution_count": null,
      "outputs": [
        {
          "output_type": "stream",
          "name": "stdout",
          "text": [
            "Accuracy Score: 0.96\n",
            "\n",
            "Confusion Matrix:\n",
            " [[47  3]\n",
            " [ 1 49]]\n"
          ]
        }
      ]
    },
    {
      "cell_type": "code",
      "source": [
        "fig = plt.figure(figsize=(8,6))\n",
        "plt.title(r'Cost vs Epoch')\n",
        "\n",
        "plt.plot(regressor.epoch_history, regressor.cost_history, color='b', label=\"Cost --> %f\"%regressor.cost_history[-1])\n",
        "plt.xlabel('Epoch')\n",
        "plt.ylabel(\"Cost\")\n",
        "plt.legend(loc='best')\n",
        "plt.savefig(\"logistic_regression.svg\", format=\"svg\", transparent=True, bbox_inches='tight')\n",
        "plt.show()"
      ],
      "metadata": {
        "id": "V7x8vsqzmmGa",
        "outputId": "934cfa1a-5d7b-4952-9cf5-1945d722a411",
        "colab": {
          "base_uri": "https://localhost:8080/",
          "height": 404
        }
      },
      "execution_count": null,
      "outputs": [
        {
          "output_type": "display_data",
          "data": {
            "text/plain": [
              "<Figure size 576x432 with 1 Axes>"
            ],
            "image/png": "[encoded data removed]"
          },
          "metadata": {
            "needs_background": "light"
          }
        }
      ]
    }
  ]
}