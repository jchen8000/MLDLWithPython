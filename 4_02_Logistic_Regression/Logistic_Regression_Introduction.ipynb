{
  "nbformat": 4,
  "nbformat_minor": 0,
  "metadata": {
    "colab": {
      "name": "Logistic_Regression_Introduction.ipynb",
      "provenance": [],
      "collapsed_sections": [],
      "authorship_tag": "ABX9TyNtV/4u6WqKAlaGSEd48nPs",
      "include_colab_link": true
    },
    "kernelspec": {
      "name": "python3",
      "display_name": "Python 3"
    },
    "language_info": {
      "name": "python"
    }
  },
  "cells": [
    {
      "cell_type": "markdown",
      "metadata": {
        "id": "view-in-github",
        "colab_type": "text"
      },
      "source": [
        "<a href=\"https://colab.research.google.com/github/jchen8000/MachineLearning/blob/master/2%20Logistic%20Regression/Logistic_Regression_Introduction.ipynb\" target=\"_parent\"><img src=\"https://colab.research.google.com/assets/colab-badge.svg\" alt=\"Open In Colab\"/></a>"
      ]
    },
    {
      "cell_type": "markdown",
      "source": [
        "# Logistic Regression"
      ],
      "metadata": {
        "id": "0Cmi8Y56ypDO"
      }
    },
    {
      "cell_type": "code",
      "source": [
        "import numpy as np\n",
        "import seaborn as sns\n",
        "from sklearn import datasets\n",
        "import matplotlib.pyplot as plt\n",
        "from sklearn import metrics\n",
        "from sklearn import linear_model\n",
        "from sklearn.model_selection import train_test_split\n",
        "from sklearn import preprocessing"
      ],
      "metadata": {
        "id": "HOFcXzMz5eEy"
      },
      "execution_count": 1,
      "outputs": []
    },
    {
      "cell_type": "markdown",
      "source": [
        "Linear regression hypothesis function:\n",
        "\n",
        "$z = X \\theta = \\theta_0 + x_1 \\theta_1 + x_2 \\theta_2 + ... + x_m \\theta_m$"
      ],
      "metadata": {
        "id": "xL_rJmnQ6f04"
      }
    },
    {
      "cell_type": "markdown",
      "source": [
        "Sigmoid Function will transform its input data between 0 and 1\n",
        "\n",
        "$f(z) = \\displaystyle\\frac{1}{1+e^{-z}}$"
      ],
      "metadata": {
        "id": "ZxFg3SIU5xkx"
      }
    },
    {
      "cell_type": "code",
      "execution_count": 2,
      "metadata": {
        "colab": {
          "base_uri": "https://localhost:8080/",
          "height": 404
        },
        "id": "Jpd1XXHWyV4P",
        "outputId": "a918d464-a9a1-433a-b815-5296aeab1962"
      },
      "outputs": [
        {
          "output_type": "display_data",
          "data": {
            "text/plain": [
              "<Figure size 576x432 with 1 Axes>"
            ],
            "image/png": "[encoded data removed]"
          },
          "metadata": {
            "needs_background": "light"
          }
        }
      ],
      "source": [
        "def sigmoid(x):\n",
        "    return 1/(1 + np.exp(-x))\n",
        "\n",
        "x = np.linspace(-6, 6, 50)\n",
        "fig = plt.figure(figsize=(8,6))  \n",
        "plt.plot(x, sigmoid(x), label=\"Sigmoid\")\n",
        "plt.xlabel(\"$z$\")\n",
        "plt.ylabel(\"Sigmoid($z$)\")\n",
        "plt.grid(which='major', color='#555555', linestyle='--')\n",
        "plt.title('Sigmoid Function')\n",
        "plt.axvline(x=0, c=\"k\")\n",
        "plt.axhline(y=0, c=\"k\")\n",
        "plt.hlines(y=0.5, xmin=-6, xmax=6, color=\"r\", label=\"Decision boundary\")\n",
        "plt.legend(loc='best')\n",
        "plt.savefig(\"logistic_regression_sigmoid.svg\", format=\"svg\", transparent=True, bbox_inches='tight')\n",
        "plt.show()"
      ]
    },
    {
      "cell_type": "markdown",
      "source": [
        "Then apply Sigmoid function on the linear hypothesis function, we have the hyperthesis function for logistic regression:\n",
        "\n",
        "$\\begin{array}{rcl}\n",
        "h_\\theta(X) & = & \\displaystyle\\frac{1}{1+e^{-z}} \\\\\n",
        " & = & \\displaystyle\\frac{1}{1+e^{-(\\theta_0 + x_1 \\theta_1 + x_2 \\theta_2 + ... + x_m \\theta_m)}} \\\\\n",
        " & = & \\displaystyle\\frac{1}{1+e^{-X\\theta}} \n",
        "\\end{array}$\n",
        "\n"
      ],
      "metadata": {
        "id": "8UuvWYbO6505"
      }
    },
    {
      "cell_type": "code",
      "source": [
        "X, y = datasets.make_classification(n_samples=100,\n",
        "                          n_features=2, \n",
        "                          n_redundant=0, \n",
        "                          n_informative=2, \n",
        "                          random_state=5,\n",
        "                          n_clusters_per_class=1)\n",
        "print(\"size of X\", X.shape)\n",
        "print(\"size of y\", y.shape)\n",
        "\n",
        "fig = plt.figure(figsize=(8,6))\n",
        "colors = {0: 'navy', 1: 'royalblue'}\n",
        "markers = {0:'o', 1: 'x'}\n",
        "plt.title('Sample data')\n",
        "for g in np.unique(y):\n",
        "    ix = np.where(y == g)\n",
        "    plt.scatter(X[ix,0], X[ix,1], c = colors[g], marker = markers[g], label = g)\n",
        "plt.xlabel(r'$x_1$', fontsize=16)\n",
        "plt.ylabel(r'$x_2$', fontsize=16)\n",
        "plt.legend(loc='best')\n",
        "plt.savefig(\"logistic_regression_sample_data.svg\", format=\"svg\", transparent=True, bbox_inches='tight')\n",
        "plt.show()"
      ],
      "metadata": {
        "colab": {
          "base_uri": "https://localhost:8080/",
          "height": 445
        },
        "id": "vfzafYN-2p9W",
        "outputId": "e4269fe3-c081-4f47-bf55-4d70fa2fbdc6"
      },
      "execution_count": 3,
      "outputs": [
        {
          "output_type": "stream",
          "name": "stdout",
          "text": [
            "size of X (100, 2)\n",
            "size of y (100,)\n"
          ]
        },
        {
          "output_type": "display_data",
          "data": {
            "text/plain": [
              "<Figure size 576x432 with 1 Axes>"
            ],
            "image/png": "[encoded data removed]"
          },
          "metadata": {
            "needs_background": "light"
          }
        }
      ]
    },
    {
      "cell_type": "markdown",
      "source": [
        "Run logistic regression"
      ],
      "metadata": {
        "id": "-4t_yyv7C9b4"
      }
    },
    {
      "cell_type": "code",
      "source": [
        "model = linear_model.LogisticRegression()\n",
        "model.fit(X, y)"
      ],
      "metadata": {
        "colab": {
          "base_uri": "https://localhost:8080/"
        },
        "id": "1Yrjb4SBA_fN",
        "outputId": "a33a3b6e-c8d9-421c-eced-12cb095e286a"
      },
      "execution_count": 4,
      "outputs": [
        {
          "output_type": "execute_result",
          "data": {
            "text/plain": [
              "LogisticRegression()"
            ]
          },
          "metadata": {},
          "execution_count": 4
        }
      ]
    },
    {
      "cell_type": "code",
      "source": [
        "y_pred = model.predict(X)\n",
        "print(\"Score:\", model.score(X, y))\n",
        "print(\"Intercept:\", model.intercept_)\n",
        "print(\"Coefficient:\", model.coef_)"
      ],
      "metadata": {
        "id": "7Xq9Dhy5BRGy",
        "colab": {
          "base_uri": "https://localhost:8080/"
        },
        "outputId": "2e049df3-fd66-4d15-89b5-3f49c103ecb2"
      },
      "execution_count": 5,
      "outputs": [
        {
          "output_type": "stream",
          "name": "stdout",
          "text": [
            "Score: 0.98\n",
            "Intercept: [-1.37987521]\n",
            "Coefficient: [[ 3.16162505 -1.57119877]]\n"
          ]
        }
      ]
    },
    {
      "cell_type": "markdown",
      "source": [
        "Plot Decision Boundary\n",
        "\n",
        "Better explained how to get boundary line:\n",
        "https://datascience.stackexchange.com/questions/49573/how-to-plot-logistic-regression-decision-boundary\n",
        "\n",
        "\n",
        "https://statinfer.com/204-5-2-decision-boundary-logistic-regression/\n",
        "\n",
        "https://scipython.com/blog/plotting-the-decision-boundary-of-a-logistic-regression-model/"
      ],
      "metadata": {
        "id": "0ZMTbGhuDCzb"
      }
    },
    {
      "cell_type": "code",
      "source": [
        "def decision_boundary(x, intercept, coefficient):\n",
        "    theta_0 = intercept\n",
        "    theta_1, theta_2 = coefficient\n",
        "    c = -theta_0/theta_2\n",
        "    m = -theta_1/theta_2\n",
        "    return m * x + c\n"
      ],
      "metadata": {
        "id": "_kTJyEjdF6lh"
      },
      "execution_count": 6,
      "outputs": []
    },
    {
      "cell_type": "code",
      "source": [
        "fig = plt.figure(figsize=(8,6))\n",
        "colors = {0: 'navy', 1: 'royalblue'}\n",
        "markers = {0:'o', 1: 'x'}\n",
        "plt.title('Logistic Regression')\n",
        "for g in np.unique(y):\n",
        "    ix = np.where(y == g)\n",
        "    plt.scatter(X[ix,0], X[ix,1], c = colors[g], marker = markers[g], label = g)\n",
        "x_range = plt.xlim()\n",
        "y_range = plt.ylim()\n",
        "xd = np.array(x_range)\n",
        "yd = decision_boundary(xd, model.intercept_[0], model.coef_[0])\n",
        "plt.ylim(y_range)\n",
        "plt.plot(xd, yd, 'r', lw=2, label=\"Decision boundary\")\n",
        "plt.xlabel(r'$x_1$', fontsize=16)\n",
        "plt.ylabel(r'$x_2$', fontsize=16)\n",
        "plt.legend(loc='best')\n",
        "plt.savefig(\"logistic_regression_sample_data2.svg\", format=\"svg\", transparent=True, bbox_inches='tight')\n",
        "plt.show()"
      ],
      "metadata": {
        "colab": {
          "base_uri": "https://localhost:8080/",
          "height": 410
        },
        "id": "9a5ogBxmEA1j",
        "outputId": "0eff39ca-1c4e-4add-e2a9-0de7e09707c0"
      },
      "execution_count": 7,
      "outputs": [
        {
          "output_type": "display_data",
          "data": {
            "text/plain": [
              "<Figure size 576x432 with 1 Axes>"
            ],
            "image/png": "[encoded data removed]"
          },
          "metadata": {
            "needs_background": "light"
          }
        }
      ]
    },
    {
      "cell_type": "code",
      "source": [
        "print(\"Accuracy Score:\", metrics.accuracy_score(y, y_pred))\n",
        "print(\"\\nConfusion Matrix:\\n\", metrics.confusion_matrix(y, y_pred))"
      ],
      "metadata": {
        "colab": {
          "base_uri": "https://localhost:8080/"
        },
        "id": "Md3I4U5MGnRe",
        "outputId": "f69468be-2124-4e14-9cd7-8fe9905eeea4"
      },
      "execution_count": 8,
      "outputs": [
        {
          "output_type": "stream",
          "name": "stdout",
          "text": [
            "Accuracy Score: 0.98\n",
            "\n",
            "Confusion Matrix:\n",
            " [[50  0]\n",
            " [ 2 48]]\n"
          ]
        }
      ]
    },
    {
      "cell_type": "markdown",
      "source": [
        "Visualize Confusion Matrix"
      ],
      "metadata": {
        "id": "flkeaZ_LDYs8"
      }
    },
    {
      "cell_type": "code",
      "source": [
        "cm = metrics.confusion_matrix(y, y_pred)\n",
        "cm_ = cm.astype(str)\n",
        "labels = [['TN\\n'+cm_[0][0],'FP\\n'+cm_[0][1]],\n",
        "          ['FN\\n'+cm_[1][0],'TP\\n'+cm_[1][1]]]\n",
        "sns.heatmap(cm, annot=labels, fmt='', cmap='Blues', \n",
        "              annot_kws={\n",
        "                'fontsize': 18,\n",
        "                'fontweight': 'bold',\n",
        "              })\n",
        "plt.ylabel('True label', fontsize=16)\n",
        "plt.xlabel('Predicted value', fontsize=16)\n",
        "plt.xticks(fontsize=16)\n",
        "plt.yticks(fontsize=16)\n",
        "plt.savefig(\"logistic_regression_confusion_matrix.svg\", format=\"svg\", transparent=True, bbox_inches='tight')"
      ],
      "metadata": {
        "colab": {
          "base_uri": "https://localhost:8080/",
          "height": 293
        },
        "id": "n_KHzgioz-Uw",
        "outputId": "d6aaa1c0-4d76-430e-e274-0cb33b3a2cdb"
      },
      "execution_count": 9,
      "outputs": [
        {
          "output_type": "display_data",
          "data": {
            "text/plain": [
              "<Figure size 432x288 with 2 Axes>"
            ],
            "image/png": "[encoded data removed]"
          },
          "metadata": {
            "needs_background": "light"
          }
        }
      ]
    },
    {
      "cell_type": "markdown",
      "source": [
        "## Breast Cancer Dataset"
      ],
      "metadata": {
        "id": "S2AXiPxYD75R"
      }
    },
    {
      "cell_type": "code",
      "source": [
        "data = datasets.load_breast_cancer()\n",
        "print(\"Data:\", data.data.shape)\n",
        "print(\"Target:\", data.target.shape)\n",
        "print(\"Features:\", data.feature_names)\n",
        "# print(\"Description:\", data.DESCR)\n",
        "print(\"Keys:\", data.keys())"
      ],
      "metadata": {
        "colab": {
          "base_uri": "https://localhost:8080/"
        },
        "id": "e-QUYuX-EeYJ",
        "outputId": "bd1a00b0-554e-4765-dd13-a90380668b8a"
      },
      "execution_count": 10,
      "outputs": [
        {
          "output_type": "stream",
          "name": "stdout",
          "text": [
            "Data: (569, 30)\n",
            "Target: (569,)\n",
            "Features: ['mean radius' 'mean texture' 'mean perimeter' 'mean area'\n",
            " 'mean smoothness' 'mean compactness' 'mean concavity'\n",
            " 'mean concave points' 'mean symmetry' 'mean fractal dimension'\n",
            " 'radius error' 'texture error' 'perimeter error' 'area error'\n",
            " 'smoothness error' 'compactness error' 'concavity error'\n",
            " 'concave points error' 'symmetry error' 'fractal dimension error'\n",
            " 'worst radius' 'worst texture' 'worst perimeter' 'worst area'\n",
            " 'worst smoothness' 'worst compactness' 'worst concavity'\n",
            " 'worst concave points' 'worst symmetry' 'worst fractal dimension']\n",
            "Keys: dict_keys(['data', 'target', 'frame', 'target_names', 'DESCR', 'feature_names', 'filename', 'data_module'])\n"
          ]
        }
      ]
    },
    {
      "cell_type": "code",
      "source": [
        "scaler = preprocessing.StandardScaler()\n",
        "X1 = scaler.fit_transform(data.data) \n",
        "y1 = data.target\n",
        "print(X1.shape)\n",
        "print(y1.shape)"
      ],
      "metadata": {
        "colab": {
          "base_uri": "https://localhost:8080/"
        },
        "id": "ghVdbZRFGIly",
        "outputId": "eeb4f7e6-b96c-475b-d805-70d83209034a"
      },
      "execution_count": 11,
      "outputs": [
        {
          "output_type": "stream",
          "name": "stdout",
          "text": [
            "(569, 30)\n",
            "(569,)\n"
          ]
        }
      ]
    },
    {
      "cell_type": "code",
      "source": [
        "X_train, X_test, y_train, y_test = \\\n",
        "      train_test_split(X1, y1, random_state=2, train_size = .75)\n",
        "print(\"X_train:\", X_train.shape)\n",
        "print(\"y_train:\", y_train.shape)\n",
        "print(\"X_test: \", X_test.shape)\n",
        "print(\"y_test: \", y_test.shape)"
      ],
      "metadata": {
        "colab": {
          "base_uri": "https://localhost:8080/"
        },
        "id": "gYrhaQxOOQc-",
        "outputId": "97bd80d6-760d-40be-e8a0-1006203f1278"
      },
      "execution_count": 12,
      "outputs": [
        {
          "output_type": "stream",
          "name": "stdout",
          "text": [
            "X_train: (426, 30)\n",
            "y_train: (426,)\n",
            "X_test:  (143, 30)\n",
            "y_test:  (143,)\n"
          ]
        }
      ]
    },
    {
      "cell_type": "code",
      "source": [
        "model = linear_model.LogisticRegression()\n",
        "model.fit(X_train, y_train)"
      ],
      "metadata": {
        "colab": {
          "base_uri": "https://localhost:8080/"
        },
        "id": "hxSqn6qBQw7L",
        "outputId": "cadd9794-6416-46b4-d769-33ef2ee55a27"
      },
      "execution_count": 13,
      "outputs": [
        {
          "output_type": "execute_result",
          "data": {
            "text/plain": [
              "LogisticRegression()"
            ]
          },
          "metadata": {},
          "execution_count": 13
        }
      ]
    },
    {
      "cell_type": "code",
      "source": [
        "y_pred = model.predict(X_test)\n",
        "ascore = metrics.accuracy_score(y_test, y_pred)\n",
        "cmatrix = metrics.confusion_matrix(y_test, y_pred)\n",
        "print(\"Accuracy Score:\\n\", ascore)\n",
        "print(\"Confusion Matrix:\\n\", cmatrix)"
      ],
      "metadata": {
        "colab": {
          "base_uri": "https://localhost:8080/"
        },
        "id": "f78r18LERQss",
        "outputId": "82662463-6c32-442b-d0de-94262d89f0c0"
      },
      "execution_count": 14,
      "outputs": [
        {
          "output_type": "stream",
          "name": "stdout",
          "text": [
            "Accuracy Score:\n",
            " 0.972027972027972\n",
            "Confusion Matrix:\n",
            " [[55  1]\n",
            " [ 3 84]]\n"
          ]
        }
      ]
    },
    {
      "cell_type": "code",
      "source": [
        "sns.heatmap(cmatrix, annot=True,  cmap='Blues', \n",
        "              annot_kws={'fontsize': 18,'fontweight': 'bold'})\n",
        "plt.ylabel('True label', fontsize=16)\n",
        "plt.xlabel('Predicted value', fontsize=16)\n",
        "plt.xticks([0,1], ['malignant', 'benign'], rotation=0, ha=\"left\", rotation_mode='anchor', fontsize=16)\n",
        "plt.yticks([0,1], ['malignant', 'benign'], rotation=90, ha='right', rotation_mode='anchor', fontsize=16)\n",
        "plt.savefig(\"logistic_regression_confusion_matrix2.svg\", format=\"svg\", transparent=True, bbox_inches='tight')"
      ],
      "metadata": {
        "colab": {
          "base_uri": "https://localhost:8080/",
          "height": 289
        },
        "id": "uUU_RK9QRfSA",
        "outputId": "53e1c6e9-f0f7-4510-f0a7-fe0de72c04ae"
      },
      "execution_count": 15,
      "outputs": [
        {
          "output_type": "display_data",
          "data": {
            "text/plain": [
              "<Figure size 432x288 with 2 Axes>"
            ],
            "image/png": "[encoded data removed]"
          },
          "metadata": {
            "needs_background": "light"
          }
        }
      ]
    }
  ]
}