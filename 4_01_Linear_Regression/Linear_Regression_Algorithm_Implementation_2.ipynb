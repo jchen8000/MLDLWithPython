{
  "nbformat": 4,
  "nbformat_minor": 0,
  "metadata": {
    "colab": {
      "provenance": [],
      "include_colab_link": true
    },
    "kernelspec": {
      "name": "python3",
      "display_name": "Python 3"
    },
    "language_info": {
      "name": "python"
    }
  },
  "cells": [
    {
      "cell_type": "markdown",
      "metadata": {
        "id": "view-in-github",
        "colab_type": "text"
      },
      "source": [
        "<a href=\"https://colab.research.google.com/github/jchen8000/MachineLearning/blob/master/1%20Linear%20Regression/Linear_Regression_Algorithm_Implementation_2.ipynb\" target=\"_parent\"><img src=\"https://colab.research.google.com/assets/colab-badge.svg\" alt=\"Open In Colab\"/></a>"
      ]
    },
    {
      "cell_type": "markdown",
      "source": [
        "# Linear Regression Algorithm and Implementation, Part 2"
      ],
      "metadata": {
        "id": "FYiQWPDewT-o"
      }
    },
    {
      "cell_type": "code",
      "source": [
        "import numpy as np\n",
        "import pandas as pd\n",
        "from sklearn import datasets\n",
        "import matplotlib.pyplot as plt\n",
        "from sklearn import metrics\n",
        "from sklearn import linear_model\n",
        "from sklearn import preprocessing"
      ],
      "metadata": {
        "id": "FHiynA8HzpUb"
      },
      "execution_count": null,
      "outputs": []
    },
    {
      "cell_type": "markdown",
      "source": [
        "## Linear Regression Algorithm for Multiple Features"
      ],
      "metadata": {
        "id": "yko76m6tT52M"
      }
    },
    {
      "cell_type": "markdown",
      "source": [
        "### Notations\n",
        "\n",
        "$m$: number of features\n",
        "\n",
        "$n$: number of dataset\n",
        "\n",
        "$X$: input data (independent variables) in matrix of $n \\times m$\n",
        "\n",
        "$y$: target value (dependent output variable), or true label, in matrix of $n \\times 1$\n",
        "\n",
        "$x^{(i)}, y^{(i)}$: $i$-th sample data and true label\n",
        "\n",
        "$\\hat{y}^{(i)}$: $i$-th predicted value\n",
        "\n",
        "$x_j$: $j$-th feature, where $j \\in [1, m]$\n",
        "\n",
        "$\\theta$: intercept and coefficient. Where $\\theta_0$ is intercept; $\\theta_j$ is $j$-th element\\ of coefficient, $j \\in [1, m]$"
      ],
      "metadata": {
        "id": "7jvjWt_7T70G"
      }
    },
    {
      "cell_type": "markdown",
      "source": [
        "### Hypothesis Function\n",
        "\n",
        "Multiple features means there are multiple input variables. If there are $m$ features, to make it simple, the number of dataset is 1, size of $X$ is $1 \\times m$, then the hypothesis function is:\n",
        "\n",
        "$\\quad h_\\theta(X) = \\theta_0 + \\theta_1 x_1 + \\theta_2 x_2 + ... + \\theta_m x_m $\n",
        "\n",
        "$x$ and $\\theta$ can be represented by vectors,\n",
        "\n",
        "$\\quad X = \\begin{bmatrix}1 & x_1 & x_2 & ... & x_m & \\end{bmatrix}$, and $\\theta = \\begin{bmatrix}\\theta_0 \\\\ \\theta_1 \\\\ \\theta_2 \\\\ ... \\\\ \\theta_m \\\\ \\end{bmatrix}$\n",
        "\n",
        "Then the hypothesis function can be expressed as:\n",
        "\n",
        "$\\quad \\begin{array}{rcl}\n",
        "h_\\theta(X) & = & X \\cdot \\theta \\\\\n",
        " & = & \\begin{bmatrix}1 & x_1 & x_2 & ... & x_m & \\end{bmatrix} \\cdot \\begin{bmatrix}\\theta_0 \\\\ \\theta_1 \\\\ \\theta_2 \\\\ ... \\\\ \\theta_m \\\\ \\end{bmatrix}\\\\\n",
        " & = & \\theta_0 + \\theta_1 x_1 + \\theta_2 x_2 + ... + \\theta_m x_m\n",
        "\\end{array}$\n",
        "\n"
      ],
      "metadata": {
        "id": "H6Kb3KRBws31"
      }
    },
    {
      "cell_type": "markdown",
      "source": [
        "In practice, the number of dataset is $n$, instead of 1. Therefore, the size of $X$ is $n \\times m$, the above formula is same."
      ],
      "metadata": {
        "id": "ZSNieWEBbjRm"
      }
    },
    {
      "cell_type": "markdown",
      "source": [
        "What is ***fit_intercept***? \n",
        "\n",
        "For example $y=ax+b$, where $b$ is the intercept, or bias, it's the value at which the fitted line crosses the y-axis, or the $y$ value when $x = 0$. If the intercept is zero, the fitted line always passes through the origin point. In most of cases the data sets will not fit a line that passes the origin point, so it's important that a intercept is added to the model.\n",
        "\n",
        "In the above Hypothesis Function, a $1$ is added to $x$ vector and a $\\theta_0$ is added to $\\theta$ vector, this tells the linear regression model to fit the intercept. If not to fit intercept, do not add them, then the Hypothesis Function is: \n",
        "\n",
        "$\\quad \\begin{array}{rcl}\n",
        "h_\\theta(X) & = & X \\cdot \\theta \\\\\n",
        " & = & \\begin{bmatrix}x_1 & x_2 & ... & x_m & \\end{bmatrix} \\cdot \\begin{bmatrix}\\theta_1 \\\\ \\theta_2 \\\\ ... \\\\ \\theta_m \\\\ \\end{bmatrix}\\\\\n",
        " & = & \\theta_1 x_1 + \\theta_2 x_2 + ... + \\theta_m x_m\n",
        "\\end{array}$"
      ],
      "metadata": {
        "id": "h7WArVVcKmpC"
      }
    },
    {
      "cell_type": "markdown",
      "source": [
        "### Data Scaling\n",
        "\n",
        "When dealing with multiple features/variables, the data ranges for some features are totally different from others, for example in the housing dataset the feature of number of bedrooms could be ranging from 1 to 6, while the feature of area in square feet could be ranging from 500 to 5000. This difference could cause imbalance and inaccurate when performing the mathematical calculations, and sometimes could cause data type overflow in the calculation.\n",
        "\n",
        "For these reasons, it's always a best practice to scale the data for each feature so that they are all within the same range, for example -1 to 1, or 0 to 1. There are different methods scaling the data, this is the Standard Scalar:\n",
        "\n",
        "$\\quad X_{scaled} = \\displaystyle\\frac{X_{raw} - \\mu }{\\sigma}$\n",
        "\n",
        "where $\\mu$ is the mean of the sample data for each feature, and $\\sigma$ is the standard deviation of the sample data for each feature."
      ],
      "metadata": {
        "id": "tdML6p2IZU0v"
      }
    },
    {
      "cell_type": "markdown",
      "source": [
        "### Cost Function\n",
        "\n",
        "$\\quad \\begin{array}{rcl}\n",
        "J(\\theta) & = & \\displaystyle\\frac{\\mathrm{1} }{n}  \\sum_{i=1}^{n} (y^{(i)} - \\hat{y}^{(i)} )^2 \\\\\n",
        " & = & \\displaystyle\\frac{\\mathrm{1} }{n}  \\sum_{i=1}^{n} (y^{(i)} - h_\\theta(X))^2 \n",
        "\\end{array}$\n",
        "\n",
        "where $n$ is the number of dataset, i.e. number of data points."
      ],
      "metadata": {
        "id": "cD_QAIwu6rf2"
      }
    },
    {
      "cell_type": "markdown",
      "source": [
        "Note, the square of summation can be calculated by vector/matrix as below:\n",
        "\n",
        "$\\quad \\begin{array}{rcl}\n",
        "\\displaystyle\\sum_{i=1}^{n} a_i^2 & = & a^T \\cdot a \\\\\n",
        " & = & \\begin{bmatrix}a_1 & a_2 & ... & a_n & \\end{bmatrix} \\cdot \\begin{bmatrix}a_1 \\\\ a_2 \\\\ ... \\\\ a_n & \\end{bmatrix} \\\\\n",
        " & = & a_1^2 + a_2^2 + ... +a_n^2\n",
        "\\end{array}$\n"
      ],
      "metadata": {
        "id": "mK0iLaCAp3QC"
      }
    },
    {
      "cell_type": "markdown",
      "source": [
        "###  Gradient\n",
        "\n",
        "The partial derivative of the cost function $J(\\theta)$ is,\n",
        "\n",
        "$\\quad  \\displaystyle\\frac{\\partial J( \\theta ) }{\\partial \\theta_0} = \\frac{\\mathrm{2} }{n}  \\sum_{i=1}^{n} ( h_\\theta(x^{(i)}) - y^{(i)} )  \\qquad\\qquad\\qquad \\textrm{ (where j = 0) }$\n",
        "\n",
        "$\\quad  \\displaystyle\\frac{\\partial J( \\theta ) }{\\partial \\theta_j} = \\frac{\\mathrm{2} }{n}  \\sum_{i=1}^{n} ( h_\\theta(x^{(i)}) - y^{(i)} ) x_j^{(i)}  \\qquad\\qquad\\space\\space  \\textrm{ (where j } \\in [1, m])$ \n"
      ],
      "metadata": {
        "id": "Ru8TJ3pCM5eN"
      }
    },
    {
      "cell_type": "markdown",
      "source": [
        "The gradient is a vector, each element is the partial derivative of a variable.\n",
        "\n",
        "$\\quad \\nabla J(\\theta) = \\begin{bmatrix}\n",
        "\\displaystyle\\frac{\\partial J( \\theta ) }{\\partial \\theta_0} \\\\ \n",
        "\\displaystyle\\frac{\\partial J( \\theta ) }{\\partial \\theta_1}  \\\\ \n",
        "\\displaystyle\\frac{\\partial J( \\theta ) }{\\partial \\theta_2} \\\\ \n",
        "... \\\\\n",
        "\\displaystyle\\frac{\\partial J( \\theta ) }{\\partial \\theta_m} \\\\ \\end{bmatrix} = \n",
        "\\begin{bmatrix}\n",
        "\\displaystyle\\frac{\\mathrm{2} }{n}  \\sum_{i=1}^{n} ( h_\\theta(x^{(i)}) - y^{(i)} ) \\\\ \n",
        "\\displaystyle\\frac{\\mathrm{2} }{n}  \\sum_{i=1}^{n} ( h_\\theta(x^{(i)}) - y^{(i)} ) x_1^{(i)}  \\\\ \n",
        "\\displaystyle\\frac{\\mathrm{2} }{n}  \\sum_{i=1}^{n} ( h_\\theta(x^{(i)}) - y^{(i)} ) x_2^{(i)} \\\\ \n",
        "... \\\\\n",
        "\\displaystyle\\frac{\\mathrm{2} }{n}  \\sum_{i=1}^{n} ( h_\\theta(x^{(i)}) - y^{(i)} ) x_m^{(i)} \\\\ \\end{bmatrix}$"
      ],
      "metadata": {
        "id": "vaPMHSm5RtPJ"
      }
    },
    {
      "cell_type": "markdown",
      "source": [
        "## Implementation for Multiple Variable"
      ],
      "metadata": {
        "id": "OIkHvhlWplLr"
      }
    },
    {
      "cell_type": "code",
      "source": [
        "class LinearRegression:\n",
        "    def __init__(self, X , y, fit_intercept=True):\n",
        "        self.y = y.reshape(-1, 1)\n",
        "        self.X = self.scale(X)\n",
        "        if fit_intercept:\n",
        "            self.X = np.hstack((np.ones((self.X.shape[0],1)), self.X))\n",
        "        # self.theta = np.ones((self.X.shape[1], 1))\n",
        "        self.theta = np.zeros((self.X.shape[1], 1))\n",
        "        self.fit_intercept = fit_intercept\n",
        "        self.cost_history = []\n",
        "        self.epoch_history = []\n",
        "\n",
        "    def scale(self, X):\n",
        "        return (X - np.mean(X, axis=0))/np.std(X, axis=0)\n",
        "\n",
        "    def predict(self, X):\n",
        "        if self.fit_intercept:\n",
        "            X = np.hstack((np.ones((X.shape[0],1)), X))\n",
        "        return np.matmul(X, self.theta)\n",
        "\n",
        "    def __predict(self):\n",
        "        return np.matmul(self.X, self.theta)\n",
        "\n",
        "    def gradient(self):\n",
        "        n = self.X.shape[0]\n",
        "        d = self.__predict() - self.y\n",
        "        return( (2/n) * np.dot(np.transpose(self.X), d) )\n",
        "\n",
        "    def cost(self):\n",
        "        y_pred = self.__predict()\n",
        "        cost_ = np.average((self.y - y_pred) ** 2, axis=0)\n",
        "        return(cost_.item())\n",
        "        # return( metrics.mean_squared_error(self.y, y_pred) )\n",
        "\n",
        "    def fit(self, epochs, alpha):\n",
        "        #Gradient Descent process\n",
        "        for i in range(epochs):\n",
        "            y_pred = self.__predict()\n",
        "            self.theta = self.theta - alpha * self.gradient()\n",
        "            self.epoch_history.append(i)\n",
        "            self.cost_history.append(self.cost())\n",
        "\n",
        "    def score(self):\n",
        "        y_pred = self.__predict()\n",
        "        y_mean = np.average(self.y, axis=0)\n",
        "        u = ((self.y - y_pred) ** 2).sum(axis=0, dtype=np.float64)\n",
        "        v = ((self.y - y_mean) ** 2).sum(axis=0, dtype=np.float64)\n",
        "        score_ = 1 - (u/v)\n",
        "        return(score_.item())\n"
      ],
      "metadata": {
        "id": "XlbIKgXxs_a8"
      },
      "execution_count": null,
      "outputs": []
    },
    {
      "cell_type": "code",
      "source": [
        "# Generate sample data\n",
        "X, y = datasets.make_regression(n_samples=5000,   #number of samples\n",
        "                                n_features=8,     #number of features\n",
        "                                noise=30,         #bias and standard deviation of the guassian noise\n",
        "                                random_state=0)   #set for same data points for each run\n"
      ],
      "metadata": {
        "id": "Wd9MWr4OEa-1"
      },
      "execution_count": null,
      "outputs": []
    },
    {
      "cell_type": "code",
      "source": [
        "lr = LinearRegression(X, y)\n",
        "lr.fit(epochs=8000, alpha=0.0005)\n",
        "theta = pd.Series(np.hstack(lr.theta))\n",
        "print(\"Intercept:\")\n",
        "print(theta[0:1].to_string())\n",
        "print(\"Coefficient:\")\n",
        "print(theta[1:].to_string())\n",
        "print(\"Cost:\", lr.cost())\n",
        "print(\"Score:\", lr.score())"
      ],
      "metadata": {
        "id": "hI_ar8nY0fgl",
        "colab": {
          "base_uri": "https://localhost:8080/"
        },
        "outputId": "df472b88-dd0d-4be9-e145-b6e63a7027f4"
      },
      "execution_count": null,
      "outputs": [
        {
          "output_type": "stream",
          "name": "stdout",
          "text": [
            "Intercept:\n",
            "0   -1.437462\n",
            "Coefficient:\n",
            "1    93.063535\n",
            "2    54.814060\n",
            "3    82.108192\n",
            "4    71.601580\n",
            "5     7.885793\n",
            "6    37.073841\n",
            "7    33.776433\n",
            "8    45.269625\n",
            "Cost: 878.4499520973873\n",
            "Score: 0.9704361325795118\n"
          ]
        }
      ]
    },
    {
      "cell_type": "code",
      "source": [
        "fig = plt.figure(figsize=(8,6))\n",
        "plt.title(r'Linear Regression (Sample data) -- Cost vs Epoch')\n",
        "\n",
        "plt.plot(lr.epoch_history, lr.cost_history, color='b', label=\"Cost --> %f\"%lr.cost_history[-1])\n",
        "plt.xlabel('Epoch')\n",
        "plt.ylabel(\"Cost\")\n",
        "plt.legend(loc='best')\n",
        "plt.savefig(\"linear_regression_multi_feature1.svg\", format=\"svg\", transparent=True, bbox_inches='tight')\n",
        "plt.show()"
      ],
      "metadata": {
        "colab": {
          "base_uri": "https://localhost:8080/",
          "height": 404
        },
        "id": "mlGyYkN255k7",
        "outputId": "756e4371-410f-45c3-a98b-34921316ead7"
      },
      "execution_count": null,
      "outputs": [
        {
          "output_type": "display_data",
          "data": {
            "text/plain": [
              "<Figure size 576x432 with 1 Axes>"
            ],
            "image/png": "[encoded data removed]"
          },
          "metadata": {
            "needs_background": "light"
          }
        }
      ]
    },
    {
      "cell_type": "markdown",
      "source": [
        "Compare with *sklearn.linear_model.LinearRegression()*."
      ],
      "metadata": {
        "id": "NQV9QTq5gjQG"
      }
    },
    {
      "cell_type": "code",
      "source": [
        "model = linear_model.LinearRegression(fit_intercept=True)\n",
        "model.fit(X, y)\n",
        "# Print results\n",
        "intc_ = pd.Series(model.intercept_)\n",
        "coef_ = pd.Series(model.coef_)\n",
        "coef_.index = coef_.index + 1\n",
        "print(\"Intercept:\")\n",
        "print(intc_.to_string())\n",
        "print(\"Coefficient:\")\n",
        "print(coef_.to_string())\n",
        "print(\"Cost:\", metrics.mean_squared_error(y, model.predict(X)))\n",
        "print(\"Score:\", model.score(X, y) )"
      ],
      "metadata": {
        "colab": {
          "base_uri": "https://localhost:8080/"
        },
        "id": "u_HHjHv-t2Ca",
        "outputId": "c184147c-9dd3-4a20-f0d0-fc0e9d356408"
      },
      "execution_count": null,
      "outputs": [
        {
          "output_type": "stream",
          "name": "stdout",
          "text": [
            "Intercept:\n",
            "0    0.468012\n",
            "Coefficient:\n",
            "1    95.138104\n",
            "2    55.724115\n",
            "3    81.391803\n",
            "4    72.601130\n",
            "5     7.805795\n",
            "6    36.949831\n",
            "7    33.840377\n",
            "8    45.218454\n",
            "Cost: 878.4473847878311\n",
            "Score: 0.9704362189812461\n"
          ]
        }
      ]
    },
    {
      "cell_type": "markdown",
      "source": [
        "## Linear Regression on Diabetes Dataset"
      ],
      "metadata": {
        "id": "yRuYofuQ1-s8"
      }
    },
    {
      "cell_type": "code",
      "source": [
        "diabetes = datasets.load_diabetes()"
      ],
      "metadata": {
        "id": "hnSSEmDw2FYO"
      },
      "execution_count": null,
      "outputs": []
    },
    {
      "cell_type": "code",
      "source": [
        "diab = pd.DataFrame(diabetes.data,columns=diabetes.feature_names)\n",
        "diab['target'] = diabetes.target\n",
        "X1 = diab.loc[:, diabetes.feature_names].values\n",
        "y1 = diabetes.target"
      ],
      "metadata": {
        "id": "2rkUy4hs2NC8"
      },
      "execution_count": null,
      "outputs": []
    },
    {
      "cell_type": "code",
      "source": [
        "lr1 = LinearRegression(X1, y1)\n",
        "lr1.fit(epochs=20000, alpha=0.01)\n",
        "\n",
        "#Print results\n",
        "theta = np.hstack(lr1.theta)\n",
        "coefficient = pd.Series(theta[1:], index = diabetes.feature_names)\n",
        "intercept = theta[0]\n",
        "print(\"Intercept:\")\n",
        "print(intercept)\n",
        "print(\"Coefficients:\")\n",
        "print(coefficient.to_string())\n",
        "print(\"Score:\", lr1.score() )\n",
        "print(\"Cost:\", lr1.cost())"
      ],
      "metadata": {
        "colab": {
          "base_uri": "https://localhost:8080/"
        },
        "id": "1-lDjSnt26V4",
        "outputId": "9dc12d43-84b4-4f5e-da1f-d2e46643ca69"
      },
      "execution_count": null,
      "outputs": [
        {
          "output_type": "stream",
          "name": "stdout",
          "text": [
            "Intercept:\n",
            "152.13348416289526\n",
            "Coefficients:\n",
            "age    -0.470798\n",
            "sex   -11.400935\n",
            "bmi    24.739992\n",
            "bp     15.424315\n",
            "s1    -36.498399\n",
            "s2     21.738619\n",
            "s3      4.277573\n",
            "s4      8.271220\n",
            "s5     35.294306\n",
            "s6      3.220959\n",
            "Score: 0.5177454221077613\n",
            "Cost: 2859.7141379090785\n"
          ]
        }
      ]
    },
    {
      "cell_type": "code",
      "source": [
        "fig = plt.figure(figsize=(8,6))\n",
        "plt.title(r'Linear Regression (Diabetes dataset) -- Cost vs Epoch')\n",
        "\n",
        "plt.plot(lr1.epoch_history, lr1.cost_history, color='b', label=\"Cost --> %f\"%lr1.cost_history[-1])\n",
        "plt.xlabel('Epoch')\n",
        "plt.ylabel(\"Cost\")\n",
        "plt.legend(loc='best')\n",
        "plt.savefig(\"linear_regression_multi_feature2.svg\", format=\"svg\", transparent=True, bbox_inches='tight')\n",
        "plt.show()"
      ],
      "metadata": {
        "colab": {
          "base_uri": "https://localhost:8080/",
          "height": 404
        },
        "id": "3LvPwiF3COsp",
        "outputId": "5ee31978-a4b0-46a4-e422-37478b043901"
      },
      "execution_count": null,
      "outputs": [
        {
          "output_type": "display_data",
          "data": {
            "text/plain": [
              "<Figure size 576x432 with 1 Axes>"
            ],
            "image/png": "[encoded data removed]"
          },
          "metadata": {
            "needs_background": "light"
          }
        }
      ]
    },
    {
      "cell_type": "markdown",
      "source": [
        "Compare with sklearn.linear_model.LinearRegression()."
      ],
      "metadata": {
        "id": "6nydCrDGg4IA"
      }
    },
    {
      "cell_type": "code",
      "source": [
        "model1 = linear_model.LinearRegression()\n",
        "model1.fit(X1, y1)\n",
        "\n",
        "#Print results\n",
        "coefficient = pd.Series(model1.coef_, index = diabetes.feature_names)\n",
        "intercept = model.intercept_\n",
        "print(\"Intercept:\")\n",
        "print(intercept)\n",
        "print(\"Coefficients:\")\n",
        "print(coefficient.to_string())\n",
        "print(\"Score:\", model1.score(X1, y1) )\n",
        "print(\"Cost:\", metrics.mean_squared_error(y1, model1.predict(X1)))"
      ],
      "metadata": {
        "colab": {
          "base_uri": "https://localhost:8080/"
        },
        "id": "IGJOvMQG2dse",
        "outputId": "4fa87846-1fd5-4025-cdf6-6210ca5dd157"
      },
      "execution_count": null,
      "outputs": [
        {
          "output_type": "stream",
          "name": "stdout",
          "text": [
            "Intercept:\n",
            "0.4680115938089713\n",
            "Coefficients:\n",
            "age    -10.012198\n",
            "sex   -239.819089\n",
            "bmi    519.839787\n",
            "bp     324.390428\n",
            "s1    -792.184162\n",
            "s2     476.745838\n",
            "s3     101.044570\n",
            "s4     177.064176\n",
            "s5     751.279321\n",
            "s6      67.625386\n",
            "Score: 0.5177494254132934\n",
            "Cost: 2859.6903987680657\n"
          ]
        }
      ]
    }
  ]
}