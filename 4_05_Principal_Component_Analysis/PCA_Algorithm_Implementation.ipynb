{
  "nbformat": 4,
  "nbformat_minor": 0,
  "metadata": {
    "colab": {
      "provenance": [],
      "authorship_tag": "ABX9TyN3e8f27hBkoQPsFwD5Gjmu",
      "include_colab_link": true
    },
    "kernelspec": {
      "name": "python3",
      "display_name": "Python 3"
    },
    "language_info": {
      "name": "python"
    }
  },
  "cells": [
    {
      "cell_type": "markdown",
      "metadata": {
        "id": "view-in-github",
        "colab_type": "text"
      },
      "source": [
        "<a href=\"https://colab.research.google.com/github/jchen8000/MLDLwithPython/blob/main/4_05_Principal_Component_Analysis/PCA_Algorithm_Implementation.ipynb\" target=\"_parent\"><img src=\"https://colab.research.google.com/assets/colab-badge.svg\" alt=\"Open In Colab\"/></a>"
      ]
    },
    {
      "cell_type": "markdown",
      "source": [
        "# PCA Algorithm and Implement from Scratch"
      ],
      "metadata": {
        "id": "iqFr2ZOwIG5_"
      }
    },
    {
      "cell_type": "code",
      "execution_count": 1,
      "metadata": {
        "id": "Bv2kwl-XH9sx"
      },
      "outputs": [],
      "source": [
        "import numpy as np\n",
        "import matplotlib.pyplot as plt\n",
        "from sklearn import datasets\n",
        "from sklearn import preprocessing"
      ]
    },
    {
      "cell_type": "markdown",
      "source": [
        "## Covariance Matrix\n",
        "\n",
        "By wikipedia:\n",
        "\n",
        "*A covariance matrix (also known as auto-covariance matrix, dispersion matrix, variance matrix, or variance–covariance matrix) is a square matrix giving the covariance between each pair of elements of a given random vector. Any covariance matrix is symmetric and positive semi-definite and its main diagonal contains variances (i.e., the covariance of each element with itself).*\n",
        "\n",
        "Simply put, a covariance matrix:\n",
        "\n",
        "*   is a square matrix.\n",
        "*   its diagonal elements are the variances of all variables\n",
        "*   its off-diagonal elements are the covariances between two variables.\n",
        "*   it's symmetric matrix, meaning the elements in a row position is same in the column position.\n",
        "\n",
        "\n",
        "\n"
      ],
      "metadata": {
        "id": "dbBnfQp7XfdZ"
      }
    },
    {
      "cell_type": "markdown",
      "source": [
        "### Variance\n",
        "\n",
        "Variance is the measurement of variation of a single variable, for example the blood pressure in a group of people. The Variances appear in the diagonal of the covariance matrix.\n",
        "\n",
        "It's defined as:\n",
        "\n",
        "$\\sigma(x) = \\displaystyle\\frac{1}{n}\\sum_{i=1}^n(x_i-\\bar{x})^2$\n",
        "\n",
        "Where \n",
        "\n",
        "* $x$ is the variable, $x_i$ is the $i$-th element\n",
        "* $n$ is the total number of data\n",
        "* $\\bar{x}$ is the mean of $x$, \n",
        "$\\bar{x}=\\displaystyle\\frac{1}{n}\\sum_{i=1}^n(x_i)$"
      ],
      "metadata": {
        "id": "jGrW_7WlbLdH"
      }
    },
    {
      "cell_type": "markdown",
      "source": [
        "### Covariance\n",
        "The covariance is the measurement of variation of two variables and how they change together, for example how the blood pressure and the weight are changing together in a group of people.\n",
        "\n",
        "The covariance can be positive, negative or zero. A positive covariance indicates that the two variables have a positive relationship, for example the blood pressure is increasing together with weight; a negative covariance shows that they have a negative relationship, for example the blood pressure is decreasing when weight is increasing; a zero covariance indicates they don't have any relationship, for example the blood pressure is changing without any relationship to weight.\n",
        "\n",
        "It's defined as:\n",
        "\n",
        "$\\sigma(x,y) = \\displaystyle\\frac{1}{n}\\sum_{i=1}^n(x_i-\\bar{x})(y_i-\\bar{y})$\n",
        "\n",
        "Where \n",
        "\n",
        "* $x$ and $y$ are the variables, $x_i$ and $y_i$ are the $i$-th elements\n",
        "* $n$ is the total number of data\n",
        "* $\\bar{x}$ and $\\bar{y}$ are the mean of $x$ and $y$: \n",
        "$\\bar{x}=\\displaystyle\\frac{1}{n}\\sum_{i=1}^n(x_i)$;\n",
        "$\\bar{y}=\\displaystyle\\frac{1}{n}\\sum_{i=1}^n(y_i)$"
      ],
      "metadata": {
        "id": "UFAtcP6ncVTM"
      }
    },
    {
      "cell_type": "markdown",
      "source": [
        "### Covariance Matrix\n",
        "\n",
        "There is a dataset $X=(x_1, x_2, ... , x_m)$, $m$ is the number of variables, and the dataset has $n$ data points. $X$ is a matrix, each column is a variable, total $m$ columns; each row is a data point, total $n$ rows.\n",
        "\n",
        "The covariance matrix is defined as:\n",
        "\n",
        "$\\Sigma = \\begin{bmatrix}\n",
        "\\sigma(x_1) & ... & \\sigma(x_1, x_m) \\\\\n",
        "... & ... & ... \\\\\n",
        "\\sigma(x_m, x_1) & ... & \\sigma(x_m)\n",
        "\\end{bmatrix}\n",
        "$\n",
        "\n",
        "It can be calculated as:\n",
        "\n",
        "$\\Sigma = \\displaystyle\\frac{1}{n}(X-\\mu)^T \\cdot (X-\\mu)$\n",
        "\n",
        "where $\\mu$ is the mean of $X$, and $\\mu = (\\mu_1, \\mu_2, ..., \\mu_m)$\n",
        "\n",
        "*numpy.con()* can also be used to calculate it.\n",
        "\n",
        "The result is a $m \\times m$ matrix.\n"
      ],
      "metadata": {
        "id": "YAYJkWi71gxC"
      }
    },
    {
      "cell_type": "code",
      "source": [
        "# Gerenate sample data in 2 features\n",
        "mean = np.array([5, 5])\n",
        "cov = np.array([[3, 2], [2, 6]])\n",
        "np.random.seed(1)\n",
        "X = np.random.multivariate_normal(mean, cov, size=500)\n",
        "\n",
        "Sigma = np.cov(X, rowvar=False)\n",
        "print(\"Calculate Covariance Matrix with numpy.con() function:\")\n",
        "print(Sigma)\n",
        "\n",
        "X = X - np.mean(X, axis=0)\n",
        "Sigma1 = np.dot(np.transpose(X), X) / X.shape[0]\n",
        "print(\"\\nCalculate Covariance Matrix with dot product of X and its transpose:\")\n",
        "print(Sigma1)"
      ],
      "metadata": {
        "colab": {
          "base_uri": "https://localhost:8080/"
        },
        "id": "kZ2_Nuge5QxG",
        "outputId": "b9ff2cf4-0410-4f78-8db1-0f41f6b54b0a"
      },
      "execution_count": 2,
      "outputs": [
        {
          "output_type": "stream",
          "name": "stdout",
          "text": [
            "Calculate Covariance Matrix with numpy.con() function:\n",
            "[[2.69508419 1.75062771]\n",
            " [1.75062771 5.94352239]]\n",
            "\n",
            "Calculate Covariance Matrix with dot product of X and its transpose:\n",
            "[[2.68969402 1.74712645]\n",
            " [1.74712645 5.93163534]]\n"
          ]
        }
      ]
    },
    {
      "cell_type": "markdown",
      "source": [
        "## Eigenvectors and Eigenvalues of Covariance Matrix\n",
        "\n",
        "As mentioned above the covariance matrix is square matrix $\\Sigma$, the eigenvector $\\vec{v}$ and eigenvalue $\\lambda$ make the below equation true:\n",
        "\n",
        "$\\Sigma \\vec{v}=\\lambda \\vec{v}$\n",
        "\n",
        "**How to calculate the eigenvalues**\n",
        "\n",
        "From the above equation,\n",
        "\n",
        "$\\Sigma \\vec{v}=\\lambda \\vec{v}$\n",
        "\n",
        "$\\Sigma \\vec{v}=\\lambda I \\vec{v}$, where $I$ is the identity matrix\n",
        "\n",
        "$\\Sigma \\vec{v}-\\lambda I \\vec{v} = 0$\n",
        "\n",
        "Since eigenvector $\\vec{v}$ is non-zero vector, then the determinant of\n",
        "\n",
        "$det(\\Sigma -\\lambda I) = |\\Sigma -\\lambda I| = 0$\n",
        "\n",
        "Then solving determinant to get $\\lambda$, it gives a polynomial equation in $\\lambda$, the roots of which are the eigenvalues $\\lambda_1, \\lambda_2, ...$\n",
        "\n",
        "\n",
        "**How to calculate the eigenvectors**\n",
        "\n",
        "Based on $\\Sigma \\vec{v}=\\lambda \\vec{v}$, since $\\lambda$ has been already calculated, then solve the $\\vec{v}$ one by one.\n",
        "\n",
        "$\\Sigma \\vec{v_1}=\\lambda_1 \\vec{v_1}$\n",
        "\n",
        "$\\Sigma \\vec{v_2}=\\lambda_1 \\vec{v_2}$\n",
        "\n",
        "and so on\n",
        "\n",
        "Fortunately, python provides *np.linalg.eig()* function to calculate eigenvectors and eigenvalues."
      ],
      "metadata": {
        "id": "BUk_k9cPkR0M"
      }
    },
    {
      "cell_type": "code",
      "source": [
        "eigenvalues, eigenvectors = np.linalg.eig(Sigma)\n",
        "print(\"Eigenvalues\\n\", eigenvalues)\n",
        "print(\"Eigenvectors\\n\", eigenvectors)"
      ],
      "metadata": {
        "colab": {
          "base_uri": "https://localhost:8080/"
        },
        "id": "heDDK491uzlV",
        "outputId": "5a7edfd5-553c-495d-bb80-4c996d5a8251"
      },
      "execution_count": 3,
      "outputs": [
        {
          "output_type": "stream",
          "name": "stdout",
          "text": [
            "Eigenvalues\n",
            " [1.93125282 6.70735376]\n",
            "Eigenvectors\n",
            " [[-0.91655452 -0.39990975]\n",
            " [ 0.39990975 -0.91655452]]\n"
          ]
        }
      ]
    },
    {
      "cell_type": "markdown",
      "source": [
        "## Algorithm of PCA\n",
        "\n",
        "Givien the dataset $x^{(1)}, x^{(2)},...,x^{(m)} \\quad\\in\\mathbb{R}^n$\n",
        "\n",
        "There are six steps to implement PCA:\n",
        "\n",
        "**Step 1: Data Standardization, or Data Scaling**\n",
        "\n",
        "The mean of the dataset:\n",
        "\n",
        "$\\displaystyle\\quad\\mu_j = \\frac{1}{m}\\sum_{i=1}^mx_j^{(i)}$\n",
        "\n",
        "The standard deviation of the dataset\n",
        "\n",
        "$\\displaystyle\\quad\\sigma_j^2=\\frac{1}{m}\\sum_{i=1}^m(x_j^{(i)}-\\mu_j)^2$\n",
        "\n",
        "Then the Data Standardization will be:\n",
        "\n",
        "$\\displaystyle\\quad x_j^{(i)}\\leftarrow\\displaystyle\\frac{x_j^{(i)}-\\mu_j}{\\sigma_j}\\quad$\n",
        "\n",
        "\n",
        "**Step 2: Compute the Covariance Matrix**\n",
        "\n",
        "Calculate the covariance matrix of the standardized data:\n",
        "\n",
        "$\\displaystyle\\quad\\Sigma = \\displaystyle\\frac{1}{n}X^T \\cdot X$\n",
        "\n",
        "\n",
        "**Step 3: Compute the Eigenvectors and Eigenvalues of the Covariance Matrix**\n",
        "```\n",
        "import numpy as np\n",
        "eigenvalues, eigenvectors = np.linalg.eig(Sigma)\n",
        "```\n",
        "\n",
        "**Step 4: Sort Eigenvalues in Descending Order**\n",
        "\n",
        "Sorting eigenvalues in descending order makes it possible to pick up the principal components in the order of significance.\n",
        "\n",
        "\n",
        "**Step 5: Select First $k$ Values from the Sorted List**\n",
        "\n",
        "Select a subset from the sorted eigenvalues and eigenvectors based on the given number of principal components $k$, meaning select the first $k$ values from the sorted list.\n",
        "\n",
        "\n",
        "**Step 6: Transform the data**\n",
        "```\n",
        "def transform(X):\n",
        "  X = scale(X)\n",
        "  return np.dot(X, np.transpose(eigenvectors))\n",
        "```\n",
        "\n"
      ],
      "metadata": {
        "id": "b6AA2GmwNQbH"
      }
    },
    {
      "cell_type": "code",
      "source": [
        "class PCA:\n",
        "\n",
        "    def __init__(self, n_components):\n",
        "        self.n_components = n_components\n",
        "        self.eigenvectors = None\n",
        "        self.eigenvalues = None\n",
        "        self.mean = None\n",
        "        self.ratio = None\n",
        "\n",
        "    def scale(self, X):\n",
        "        self.mean = np.mean(X, axis=0)\n",
        "        return (X - self.mean)/np.std(X, axis=0)\n",
        "\n",
        "    def fit(self, X):\n",
        "        # Step 1: Data Standardization\n",
        "        X = self.scale(X)\n",
        "\n",
        "        # Step 2: Compute covariance matrix\n",
        "        Sigma = np.dot(np.transpose(X), X) / X.shape[0]\n",
        "\n",
        "        # Step 3: Compute eigenvalues, eigenvectors\n",
        "        eigenvalues, eigenvectors = np.linalg.eig(Sigma)\n",
        "        eigenvectors = np.transpose(eigenvectors)\n",
        "\n",
        "        # Step 4: Sort eigenvalues in descending\n",
        "        idxs = np.argsort(eigenvalues)[::-1]\n",
        "        eigenvalues = eigenvalues[idxs]\n",
        "        eigenvectors = eigenvectors[idxs]\n",
        "        total_ = np.sum(eigenvalues)\n",
        "\n",
        "        # Step 5: Select first n_components eigenvectors\n",
        "        self.eigenvectors = eigenvectors[0:self.n_components]\n",
        "        self.eigenvalues = eigenvalues[0:self.n_components]\n",
        "        self.ratio = self.eigenvalues / total_\n",
        "\n",
        "    # Step 6: Transform the data\n",
        "    def transform(self, X):\n",
        "        X = self.scale(X)\n",
        "        return np.dot(X, np.transpose(self.eigenvectors))\n"
      ],
      "metadata": {
        "id": "tvcClZjMIWbG"
      },
      "execution_count": 4,
      "outputs": []
    },
    {
      "cell_type": "code",
      "source": [
        "mean = np.array([0, 0])\n",
        "cov = np.array([[3, 3.2], [3.2, 6]])\n",
        "np.random.seed(8)\n",
        "X = np.random.multivariate_normal(mean, cov, size=500)\n",
        "scaler = preprocessing.StandardScaler()\n",
        "X = scaler.fit_transform(X)\n",
        "\n",
        "plt.figure(1, figsize=(8,6))\n",
        "plt.scatter(X[:, 0], X[:, 1], c='k', marker='^')\n",
        "plt.axis('equal')\n",
        "plt.show() "
      ],
      "metadata": {
        "colab": {
          "base_uri": "https://localhost:8080/",
          "height": 374
        },
        "id": "PMaAp-hAe344",
        "outputId": "62b52749-f106-4876-9c07-28ecfa884ddc"
      },
      "execution_count": 5,
      "outputs": [
        {
          "output_type": "display_data",
          "data": {
            "text/plain": [
              "<Figure size 576x432 with 1 Axes>"
            ],
            "image/png": "[encoded data removed]"
          },
          "metadata": {
            "needs_background": "light"
          }
        }
      ]
    },
    {
      "cell_type": "code",
      "source": [
        "pca = PCA(n_components=2)\n",
        "pca.fit(X)\n",
        "\n",
        "np.set_printoptions(suppress=True, precision=4)\n",
        "print(\"mean:\\n\", pca.mean)\n",
        "print(\"ratio:\\n\", pca.ratio)\n",
        "print(\"eigenvalues:\\n\", pca.eigenvalues)\n",
        "print(\"eigenvectors:\\n\", pca.eigenvectors)"
      ],
      "metadata": {
        "colab": {
          "base_uri": "https://localhost:8080/"
        },
        "id": "KzyWIrPGfc2H",
        "outputId": "846da57e-0936-4acf-9d50-8c6f822189ea"
      },
      "execution_count": 6,
      "outputs": [
        {
          "output_type": "stream",
          "name": "stdout",
          "text": [
            "mean:\n",
            " [-0.  0.]\n",
            "ratio:\n",
            " [0.8918 0.1082]\n",
            "eigenvalues:\n",
            " [1.7837 0.2163]\n",
            "eigenvectors:\n",
            " [[-0.7071 -0.7071]\n",
            " [-0.7071  0.7071]]\n"
          ]
        }
      ]
    },
    {
      "cell_type": "code",
      "source": [
        "X_pca = pca.transform(X)\n",
        "plt.figure(1, figsize=(8,6))\n",
        "plt.scatter(X_pca[:, 0], X_pca[:, 1], c='k', marker='^', label='PCA Transformed Data Points')\n",
        "plt.axis('equal')\n",
        "plt.xlabel('PCA Component 1')\n",
        "plt.ylabel('PCA Component 2')\n",
        "plt.title('Data Transformed to Principal Components')\n",
        "plt.legend(loc='upper left')\n",
        "plt.savefig(\"pca_introduction_2.svg\", format=\"svg\", transparent=True, bbox_inches='tight')\n",
        "plt.show()"
      ],
      "metadata": {
        "colab": {
          "base_uri": "https://localhost:8080/",
          "height": 404
        },
        "id": "nIGZjQWFg6K5",
        "outputId": "d126dbd0-5c90-42f0-b5d1-d2b64f44b64d"
      },
      "execution_count": 7,
      "outputs": [
        {
          "output_type": "display_data",
          "data": {
            "text/plain": [
              "<Figure size 576x432 with 1 Axes>"
            ],
            "image/png": "[encoded data removed]"
          },
          "metadata": {
            "needs_background": "light"
          }
        }
      ]
    },
    {
      "cell_type": "code",
      "source": [
        "data = datasets.load_breast_cancer()\n",
        "scaler = preprocessing.StandardScaler()\n",
        "X1 = scaler.fit_transform(data.data) \n",
        "y1 = data.target\n",
        "pca1 = PCA(n_components=2)\n",
        "pca1.fit(X1)\n",
        "X_pca1 = pca1.transform(X1)\n",
        "print(\"mean:\\n\", pca1.mean)\n",
        "print(\"ratio:\\n\", pca1.ratio)\n",
        "print(\"eigenvalues:\\n\", pca1.eigenvalues)\n",
        "print(\"eigenvectors:\\n\", pca1.eigenvectors)\n"
      ],
      "metadata": {
        "colab": {
          "base_uri": "https://localhost:8080/"
        },
        "id": "eZRTd2zPjKQV",
        "outputId": "27001ed7-b12b-4ba1-f000-bcb7470e48d9"
      },
      "execution_count": 8,
      "outputs": [
        {
          "output_type": "stream",
          "name": "stdout",
          "text": [
            "mean:\n",
            " [-0. -0. -0. -0.  0. -0. -0.  0. -0. -0. -0. -0.  0. -0. -0. -0.  0. -0.\n",
            " -0. -0. -0.  0. -0.  0. -0. -0.  0. -0. -0.  0.]\n",
            "ratio:\n",
            " [0.4427 0.1897]\n",
            "eigenvalues:\n",
            " [13.2816  5.6914]\n",
            "eigenvectors:\n",
            " [[ 0.2189  0.1037  0.2275  0.221   0.1426  0.2393  0.2584  0.2609  0.1382\n",
            "   0.0644  0.206   0.0174  0.2113  0.2029  0.0145  0.1704  0.1536  0.1834\n",
            "   0.0425  0.1026  0.228   0.1045  0.2366  0.2249  0.128   0.2101  0.2288\n",
            "   0.2509  0.1229  0.1318]\n",
            " [-0.2339 -0.0597 -0.2152 -0.2311  0.1861  0.1519  0.0602 -0.0348  0.1903\n",
            "   0.3666 -0.1056  0.09   -0.0895 -0.1523  0.2044  0.2327  0.1972  0.1303\n",
            "   0.1838  0.2801 -0.2199 -0.0455 -0.1999 -0.2194  0.1723  0.1436  0.098\n",
            "  -0.0083  0.1419  0.2753]]\n"
          ]
        }
      ]
    },
    {
      "cell_type": "code",
      "source": [
        "fig = plt.figure(figsize=(8,6))\n",
        "colors = {0: 'navy', 1: 'black'}\n",
        "markers = {0:'^', 1: 'x'}\n",
        "labels = ['malignant', 'benign']\n",
        "plt.figure(1, figsize=(8,6))\n",
        "for g in np.unique(y1):\n",
        "    ix = np.where(y1 == g)\n",
        "    plt.scatter(X_pca1[ix,0], X_pca1[ix,1], c = colors[g], marker = markers[g], label = labels[g])\n",
        "# plt.axis('equal')\n",
        "plt.xlabel('PCA Component 1')\n",
        "plt.ylabel('PCA Component 2')\n",
        "plt.title('PCA, Breast Cancer Dataset')\n",
        "plt.legend(loc='upper left')\n",
        "plt.savefig(\"pca_introduction_2.svg\", format=\"svg\", transparent=True, bbox_inches='tight')\n",
        "plt.show()"
      ],
      "metadata": {
        "colab": {
          "base_uri": "https://localhost:8080/",
          "height": 404
        },
        "id": "12ZJy6HOkIqm",
        "outputId": "71d40a1a-e0c3-4bc7-8ba2-e2d3b05e6b03"
      },
      "execution_count": 9,
      "outputs": [
        {
          "output_type": "display_data",
          "data": {
            "text/plain": [
              "<Figure size 576x432 with 1 Axes>"
            ],
            "image/png": "[encoded data removed]"
          },
          "metadata": {
            "needs_background": "light"
          }
        }
      ]
    }
  ]
}