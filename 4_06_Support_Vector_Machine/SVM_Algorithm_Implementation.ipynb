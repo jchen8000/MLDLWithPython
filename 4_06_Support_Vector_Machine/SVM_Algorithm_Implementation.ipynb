{
  "nbformat": 4,
  "nbformat_minor": 0,
  "metadata": {
    "colab": {
      "provenance": [],
      "collapsed_sections": [
        "ubXeOzPqkudM",
        "XqHzCztukiMv",
        "4z-gRKZYk81x"
      ],
      "authorship_tag": "ABX9TyOOkHJCV9AhQItW8kcap8M1",
      "include_colab_link": true
    },
    "kernelspec": {
      "name": "python3",
      "display_name": "Python 3"
    },
    "language_info": {
      "name": "python"
    }
  },
  "cells": [
    {
      "cell_type": "markdown",
      "metadata": {
        "id": "view-in-github",
        "colab_type": "text"
      },
      "source": [
        "<a href=\"https://colab.research.google.com/github/jchen8000/MachineLearning/blob/master/6%20Support%20Vector%20Machines/SVM_Algorithm_Implementation.ipynb\" target=\"_parent\"><img src=\"https://colab.research.google.com/assets/colab-badge.svg\" alt=\"Open In Colab\"/></a>"
      ]
    },
    {
      "cell_type": "markdown",
      "source": [
        "# SVM Algorithm and Implement from Scratch"
      ],
      "metadata": {
        "id": "834H7nmiliQY"
      }
    },
    {
      "cell_type": "markdown",
      "source": [
        "## Algorithm"
      ],
      "metadata": {
        "id": "WA_QW9lclrl2"
      }
    },
    {
      "cell_type": "markdown",
      "source": [
        "### Notations\n",
        "\n",
        "$m$: number of features\n",
        "\n",
        "$n$: number of dataset\n",
        "\n",
        "$X$: input data (independent variables) in matrix of $n \\times m$\n",
        "\n",
        "$y$: target value (dependent output variable), or true label, in matrix of $n \\times 1$\n",
        "\n",
        "$x^{(i)}, y^{(i)}$: $i$-th sample data and true label\n",
        "\n",
        "$\\hat{y}^{(i)}$: $i$-th predicted value\n",
        "\n",
        "$x_j$: $j$-th feature, where $j \\in [1, m]$\n",
        "\n",
        "$\\theta$: intercept and coefficient. Where $\\theta_0$ is intercept; $\\theta_j$ is $j$-th element\\ of coefficient, $j \\in [1, m]$"
      ],
      "metadata": {
        "id": "IbvDi0nkRJbQ"
      }
    },
    {
      "cell_type": "markdown",
      "source": [
        "### Linear Kernel\n",
        "\n",
        "The objective of SVM is to find a hyperplane or a decision boundary:\n",
        "\n",
        "$\\quad X \\cdot \\theta = 0$\n",
        "\n",
        "and it has the maximum distance to the two separating hyperplanes:\n",
        "\n",
        "$\\quad X \\cdot \\theta = 1, \\quad$ and \n",
        "\n",
        "$\\quad X \\cdot \\theta = -1$\n",
        "\n",
        "\n",
        "where $h_\\theta(X) = X \\cdot \\theta = \\theta_0 + \\theta_1 x_1 + \\theta_2 x_2 + ... + \\theta_m x_m$\n",
        "\n",
        "and $X = \\begin{bmatrix}1 & x_1 & x_2 & ... & x_m & \\end{bmatrix}$, and $\\theta = \\begin{bmatrix}\\theta_0 \\\\ \\theta_1 \\\\ \\theta_2 \\\\ ... \\\\ \\theta_m \\\\ \\end{bmatrix}$\n",
        "\n",
        "For any data point $x^{(i)}, y^{(i)}$\n",
        "\n",
        "$\\quad x^{(i)} \\cdot \\theta \\geq 1 \\quad$ if $y^{(i)} = 1$\n",
        "\n",
        "$\\quad x^{(i)} \\cdot \\theta \\leq -1 \\quad$ if $y^{(i)} = -1$\n",
        "\n",
        "Therefore, a data point should satisfy:\n",
        "\n",
        "$\\quad y^{(i)} ( x^{(i)} \\cdot \\theta )\\geq 1 $\n",
        "\n"
      ],
      "metadata": {
        "id": "iz0wcqBrPxla"
      }
    },
    {
      "cell_type": "markdown",
      "source": [
        "### Cost Function\n",
        "\n",
        "**Hinge loss function:**\n",
        "\n",
        "The hinge loss function is used for computing maximum margin or distance for the classification boundary. Even if a data point is classified correctly, it still could cause a penalty if the margin from the decision boundary is not large enough. It's mostly used for support vector machine (SVM).\n",
        "\n",
        "Hinge loss is defined as:\n",
        "\n",
        "$\\quad l = \\max(0, 1-y \\cdot h_\\theta(x))$\n",
        "\n",
        "where $y$ is the true label of dataset, its value is 1 or -1; and $h_\\theta(x)$ is the outcome of the hypothesis function.\n",
        "\n",
        "**Add Regularization**\n",
        "\n",
        "The hinge loss function will make sure the data points are correctly identified, but in SVM we also want the maximum margin from the decision boundary. Therefore need to add a regularization factor $\\displaystyle\\frac{\\lambda}{2} \\sum_{j=1}^{m}\\theta_j^2$ to make sure the maximum margin.\n",
        "\n",
        "Then the cost function for SVM is defined as:\n",
        "\n",
        "$\\quad J(\\theta)=\\displaystyle\\frac{\\lambda}{2} \\sum_{j=1}^{m}\\theta_j^2 + \\frac{1}{n}\\sum_{i=1}^{n}\\max(0, 1-y^{(i)}\\cdot h_\\theta(x^{(i)}))$\n",
        "\n",
        "When $y^{(i)}\\cdot h_\\theta(x^{(i)})\\ge 1$, then the second part is zero, then the cost function is the first part only, this means the data points are already in the correct side of the decision boundary, in this case only care about the maximum margin:\n",
        "\n",
        "$\\quad J(\\theta)=\\displaystyle\\frac{\\lambda}{2} \\sum_{j=1}^{m}\\theta_j^2$\n",
        "\n",
        "\n",
        "\n",
        "Otherwise, when $y^{(i)}\\cdot h_\\theta(x^{(i)})\\lt 1$, not only need to make sure the maximum margin, but also correctly identify the data points:\n",
        "\n",
        "$\\quad J(\\theta)=\\displaystyle\\frac{\\lambda}{2} \\sum_{j=1}^{m}\\theta_j^2 + \\frac{1}{n}\\sum_{i=1}^{n}\\max(0, 1-y^{(i)}\\cdot h_\\theta(x^{(i)}))$\n"
      ],
      "metadata": {
        "id": "fQn3xhD3JDeK"
      }
    },
    {
      "cell_type": "markdown",
      "source": [
        "### Gradients\n",
        "\n",
        "If $y_i\\cdot h_i(\\theta)\\ge 1$, then:\n",
        "\n",
        "$\\quad \\displaystyle\\frac{\\partial J( \\theta ) }{\\partial \\theta_0} = 0$\n",
        "\n",
        "$\\quad \\displaystyle\\frac{\\partial J( \\theta ) }{\\partial \\theta_j} = \\lambda \\theta_j\\qquad$ where $j \\in [1, m]$\n",
        "\n",
        "Else:\n",
        "\n",
        "$\\quad \\displaystyle\\frac{\\partial J( \\theta ) }{\\partial \\theta_0} = \\sum_{i=1}^{n} y^{(i)}$\n",
        "\n",
        "$\\quad \\displaystyle\\frac{\\partial J( \\theta ) }{\\partial \\theta_j} = \\lambda \\theta_j - \\sum_{i=1}^{n}y^{(i)}x^{(i)}\\qquad$ where $j \\in [1, m]$, and $i \\in [1,n]$\n"
      ],
      "metadata": {
        "id": "NaVt6m3vVOOF"
      }
    },
    {
      "cell_type": "markdown",
      "source": [
        "## Implementation from Scratch"
      ],
      "metadata": {
        "id": "Ku6jqUxclv-d"
      }
    },
    {
      "cell_type": "code",
      "source": [
        "import numpy as np\n",
        "import matplotlib.pyplot as plt\n",
        "from sklearn import datasets\n",
        "from sklearn import model_selection\n",
        "from sklearn import metrics\n",
        "from sklearn import preprocessing"
      ],
      "metadata": {
        "id": "XBllKdj-LidV"
      },
      "execution_count": 1,
      "outputs": []
    },
    {
      "cell_type": "markdown",
      "source": [
        "### SVM Class"
      ],
      "metadata": {
        "id": "BAbblJnakYEw"
      }
    },
    {
      "cell_type": "code",
      "source": [
        "class SVM:\n",
        "\n",
        "    def __init__(self, X , y):\n",
        "        self.y = np.where(y <= 0, -1, 1)\n",
        "        self.y = self.y.reshape(-1, 1)\n",
        "        self.X = X\n",
        "        self.X = np.hstack((np.ones((self.X.shape[0],1)), self.X))\n",
        "        self.n, self.m = self.X.shape\n",
        "        self.theta = np.zeros((self.m, 1))\n",
        "        self.cost_history = []\n",
        "        self.epoch_history = []\n",
        "\n",
        "    def hypothesis(self, X, theta):\n",
        "        return np.dot(X, theta)\n",
        "\n",
        "    def cost(self, lambda_):\n",
        "        cost_ = 0.5 * lambda_ * np.dot(np.transpose(self.theta), self.theta).item()\n",
        "        cost_ += np.mean(np.maximum(0, (1 - self.y * self.hypothesis(self.X, self.theta))))\n",
        "        return cost_\n",
        "\n",
        "    def fit(self, epochs=1000, alpha=0.001, lambda_=0.01):\n",
        "        for i in range(epochs):\n",
        "            condition = self.y * self.hypothesis(self.X, self.theta)\n",
        "            # condition < 1\n",
        "            idx = np.where(condition<1)[0]\n",
        "            temp = np.dot(np.transpose(self.X[idx,1:]), self.y[idx])\n",
        "            self.theta[1:] -= alpha * (lambda_ * self.theta[1:] - temp )\n",
        "            self.theta[0]  -= -alpha * np.sum(self.y[idx])\n",
        "            # condition >= 1\n",
        "            self.theta[1:] -= alpha * (lambda_ * self.theta[1:])*(self.n-len(idx))            \n",
        "            self.epoch_history.append(i)\n",
        "            self.cost_history.append(self.cost(lambda_))\n",
        "\n",
        "    def predict(self, X):\n",
        "        X = np.hstack((np.ones((X.shape[0],1)), X))\n",
        "        pred = self.hypothesis(X, self.theta)\n",
        "        return np.where(pred <= 0, 0, 1)    \n"
      ],
      "metadata": {
        "id": "iwqRctYWaTY8"
      },
      "execution_count": 2,
      "outputs": []
    },
    {
      "cell_type": "markdown",
      "source": [
        "### Datasets"
      ],
      "metadata": {
        "id": "4oZkupjWkT1A"
      }
    },
    {
      "cell_type": "markdown",
      "source": [
        "**Iris Dataset**\n",
        "\n",
        "4 features 3 clusters reduced to 2 features 2 clusters"
      ],
      "metadata": {
        "id": "ubXeOzPqkudM"
      }
    },
    {
      "cell_type": "code",
      "source": [
        "iris = datasets.load_iris()\n",
        "X = iris.data\n",
        "y = iris.target\n",
        "idx = np.where(y<2)\n",
        "X = X[idx]\n",
        "X = X[:,2:4]\n",
        "y = y[idx]"
      ],
      "metadata": {
        "id": "hX4uJpSnsVIC"
      },
      "execution_count": 3,
      "outputs": []
    },
    {
      "cell_type": "code",
      "source": [
        "svm1 = SVM(X, y)\n",
        "svm1.fit(epochs=1000, alpha=1e-3, lambda_=1e-4)\n",
        "y_pred = svm1.predict(X)\n",
        "\n",
        "a_score = metrics.accuracy_score(y, y_pred)\n",
        "c_matrix = metrics.confusion_matrix(y, y_pred)\n",
        "c_report = metrics.classification_report(y, y_pred)\n",
        "print(\"Accuracy Score:\\n\", a_score)\n",
        "print(\"Confusion matrix:\\n\", c_matrix)\n",
        "print(\"Classification Report:\\n\", c_report)"
      ],
      "metadata": {
        "colab": {
          "base_uri": "https://localhost:8080/"
        },
        "id": "e5QmlQ1OvB4V",
        "outputId": "f0911e36-3f57-407f-e2bd-974878726c6c"
      },
      "execution_count": 4,
      "outputs": [
        {
          "output_type": "stream",
          "name": "stdout",
          "text": [
            "Accuracy Score:\n",
            " 1.0\n",
            "Confusion matrix:\n",
            " [[50  0]\n",
            " [ 0 50]]\n",
            "Classification Report:\n",
            "               precision    recall  f1-score   support\n",
            "\n",
            "           0       1.00      1.00      1.00        50\n",
            "           1       1.00      1.00      1.00        50\n",
            "\n",
            "    accuracy                           1.00       100\n",
            "   macro avg       1.00      1.00      1.00       100\n",
            "weighted avg       1.00      1.00      1.00       100\n",
            "\n"
          ]
        }
      ]
    },
    {
      "cell_type": "code",
      "source": [
        "def decision_boundary(theta, x):\n",
        "  return -(theta[1]/theta[2])*x - (theta[0]/theta[2])\n",
        "def separating_line1(theta, x):\n",
        "  return -(theta[1]/theta[2])*x + ((1-theta[0])/theta[2])\n",
        "def separating_line2(theta, x):\n",
        "  return -(theta[1]/theta[2])*x - ((1+theta[0])/theta[2])\n",
        "\n",
        "fig = plt.figure(figsize=(8, 6))\n",
        "colors = {0: 'navy', 1: 'blue'}\n",
        "markers = {0: 'o', 1: '^'}\n",
        "labels =  {0: ' (-1)', 1: ' (1)'}\n",
        "n_samples = len(iris.target)\n",
        "for g in np.unique(y):\n",
        "    ix = np.where(y == g)\n",
        "    plt.scatter(X[ix,0], X[ix,1], c=colors[g],s=80, marker=markers[g], label=\"IRIS: \" + iris.target_names[g] + labels[g])\n",
        "x_dec = np.linspace(1, 3.5, 50)\n",
        "x_sep1 = np.linspace(2.0, 4.3, 50)\n",
        "x_sep2 = np.linspace(1, 2.5, 50)\n",
        "y_dec = decision_boundary(svm1.theta, x_dec)\n",
        "y_sep1 = separating_line1(svm1.theta, x_sep1)\n",
        "y_sep2 = separating_line2(svm1.theta, x_sep2)\n",
        "plt.plot(x_dec, y_dec, color='k')\n",
        "plt.plot(x_sep1, y_sep1, color='k', ls='--')\n",
        "plt.plot(x_sep2, y_sep2, color='k', ls='--', )\n",
        "plt.text(1.1, 0.85, r'$X \\cdot \\theta = 0$ (Decision Boundary)', color='k', fontsize=14, rotation=-48)\n",
        "plt.text(2.15, 1.5, r'$X \\cdot \\theta = 1$', color='k', fontsize=14, rotation=-45)\n",
        "plt.text(1.0, 0.75, r'$X \\cdot \\theta = -1$', color='k', fontsize=14, rotation=-45)\n",
        "plt.xlabel(\"IRIS Dataset: \" + iris.feature_names[2])\n",
        "plt.ylabel(\"IRIS Dataset: \" + iris.feature_names[3])\n",
        "plt.title(\"SVM Algorithm\", fontsize=16)\n",
        "plt.legend(loc='lower right')\n",
        "plt.savefig(\"svm_algorithm.svg\", format=\"svg\", transparent=True, bbox_inches='tight')\n",
        "plt.show()"
      ],
      "metadata": {
        "colab": {
          "base_uri": "https://localhost:8080/",
          "height": 406
        },
        "id": "TTeGOOoJn2Kn",
        "outputId": "7e8536c4-f894-46d3-ead6-8502ae15d57b"
      },
      "execution_count": 5,
      "outputs": [
        {
          "output_type": "display_data",
          "data": {
            "text/plain": [
              "<Figure size 576x432 with 1 Axes>"
            ],
            "image/png": "[encoded data removed]"
          },
          "metadata": {
            "needs_background": "light"
          }
        }
      ]
    },
    {
      "cell_type": "code",
      "source": [
        "fig = plt.figure(figsize=(8,6))\n",
        "plt.title(r'SVM -- Cost vs Epoch')\n",
        "\n",
        "plt.plot(svm1.epoch_history, svm1.cost_history, color='b', label=\"Cost --> %f\"%svm1.cost_history[-1])\n",
        "plt.xlabel('Epoch')\n",
        "plt.ylabel(\"Cost\")\n",
        "plt.legend(loc='best')\n",
        "plt.savefig(\"svm_cost_history.svg\", format=\"svg\", transparent=True, bbox_inches='tight')\n",
        "plt.show()"
      ],
      "metadata": {
        "colab": {
          "base_uri": "https://localhost:8080/",
          "height": 404
        },
        "id": "KHRJJNV6DNpc",
        "outputId": "b79ccfcb-9276-4cc4-c9ee-f9e1a4a4ecd0"
      },
      "execution_count": 6,
      "outputs": [
        {
          "output_type": "display_data",
          "data": {
            "text/plain": [
              "<Figure size 576x432 with 1 Axes>"
            ],
            "image/png": "[encoded data removed]"
          },
          "metadata": {
            "needs_background": "light"
          }
        }
      ]
    },
    {
      "cell_type": "markdown",
      "source": [
        "**Breast Cancer datasets**\n",
        "\n",
        "30 features, 2 clusters"
      ],
      "metadata": {
        "id": "XqHzCztukiMv"
      }
    },
    {
      "cell_type": "code",
      "source": [
        "data = datasets.load_breast_cancer()\n",
        "scaler = preprocessing.StandardScaler()\n",
        "X2 = scaler.fit_transform(data.data)\n",
        "X2_train, X2_test, y2_train, y2_test = \\\n",
        "model_selection.train_test_split(X2, \n",
        "                                 data.target, \n",
        "                                 train_size = .75, \n",
        "                                 random_state=0)"
      ],
      "metadata": {
        "id": "Mpp9UAavLeFR"
      },
      "execution_count": 7,
      "outputs": []
    },
    {
      "cell_type": "code",
      "source": [
        "svm2 = SVM(X2_train, y2_train)\n",
        "svm2.fit(epochs=1000, alpha=0.001)\n",
        "y2_pred = svm2.predict(X2_test)\n",
        "\n",
        "a2_score = metrics.accuracy_score(y2_test, y2_pred)\n",
        "c2_matrix = metrics.confusion_matrix(y2_test, y2_pred)\n",
        "c2_report = metrics.classification_report(y2_test, y2_pred)\n",
        "print(\"Accuracy Score:\\n\", a2_score)\n",
        "print(\"Confusion matrix:\\n\", c2_matrix)\n",
        "print(\"Classification Report:\\n\", c2_report)"
      ],
      "metadata": {
        "colab": {
          "base_uri": "https://localhost:8080/"
        },
        "id": "oSSrYZVfL0Zo",
        "outputId": "186162f0-a685-45e0-c6ee-8b6ca5ea0b64"
      },
      "execution_count": 8,
      "outputs": [
        {
          "output_type": "stream",
          "name": "stdout",
          "text": [
            "Accuracy Score:\n",
            " 0.9790209790209791\n",
            "Confusion matrix:\n",
            " [[51  2]\n",
            " [ 1 89]]\n",
            "Classification Report:\n",
            "               precision    recall  f1-score   support\n",
            "\n",
            "           0       0.98      0.96      0.97        53\n",
            "           1       0.98      0.99      0.98        90\n",
            "\n",
            "    accuracy                           0.98       143\n",
            "   macro avg       0.98      0.98      0.98       143\n",
            "weighted avg       0.98      0.98      0.98       143\n",
            "\n"
          ]
        }
      ]
    },
    {
      "cell_type": "markdown",
      "source": [
        "**Hand-witten Digits Dataset**\n",
        "\n",
        "64 features 10 cluster, reduced to 64 features 2 clusters."
      ],
      "metadata": {
        "id": "4z-gRKZYk81x"
      }
    },
    {
      "cell_type": "code",
      "source": [
        "digits = datasets.load_digits()\n",
        "X3 = digits.data\n",
        "y3 = digits.target\n",
        "idx = np.where(y3<2)\n",
        "X3 = X3[idx]\n",
        "y3 = y3[idx]\n",
        "X3_train, X3_test, y3_train, y3_test = \\\n",
        "model_selection.train_test_split(X3, y3, \n",
        "                                 train_size = .75, \n",
        "                                 random_state=0)"
      ],
      "metadata": {
        "id": "cSx9-wV0yD75"
      },
      "execution_count": 9,
      "outputs": []
    },
    {
      "cell_type": "code",
      "source": [
        "svm3 = SVM(X3_train, y3_train)\n",
        "svm3.fit(epochs=100, alpha=0.001)\n",
        "y3_pred = svm3.predict(X3_test)\n",
        "\n",
        "a3_score = metrics.accuracy_score(y3_test, y3_pred)\n",
        "c3_matrix = metrics.confusion_matrix(y3_test, y3_pred)\n",
        "c3_report = metrics.classification_report(y3_test, y3_pred)\n",
        "print(\"Accuracy Score:\\n\", a3_score)\n",
        "print(\"Confusion matrix:\\n\", c3_matrix)\n",
        "print(\"Classification Report:\\n\", c3_report)"
      ],
      "metadata": {
        "colab": {
          "base_uri": "https://localhost:8080/"
        },
        "id": "1tWqw9I8ypHg",
        "outputId": "2f37dbdd-a446-4dc7-ffeb-a86577d56e10"
      },
      "execution_count": 10,
      "outputs": [
        {
          "output_type": "stream",
          "name": "stdout",
          "text": [
            "Accuracy Score:\n",
            " 1.0\n",
            "Confusion matrix:\n",
            " [[51  0]\n",
            " [ 0 39]]\n",
            "Classification Report:\n",
            "               precision    recall  f1-score   support\n",
            "\n",
            "           0       1.00      1.00      1.00        51\n",
            "           1       1.00      1.00      1.00        39\n",
            "\n",
            "    accuracy                           1.00        90\n",
            "   macro avg       1.00      1.00      1.00        90\n",
            "weighted avg       1.00      1.00      1.00        90\n",
            "\n"
          ]
        }
      ]
    }
  ]
}