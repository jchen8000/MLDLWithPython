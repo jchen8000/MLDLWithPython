{
  "nbformat": 4,
  "nbformat_minor": 0,
  "metadata": {
    "colab": {
      "provenance": [],
      "authorship_tag": "ABX9TyN+pLbyFzZZYQH4zJmFrp2f",
      "include_colab_link": true
    },
    "kernelspec": {
      "name": "python3",
      "display_name": "Python 3"
    },
    "language_info": {
      "name": "python"
    }
  },
  "cells": [
    {
      "cell_type": "markdown",
      "metadata": {
        "id": "view-in-github",
        "colab_type": "text"
      },
      "source": [
        "<a href=\"https://colab.research.google.com/github/jchen8000/MachineLearning/blob/master/3%20Multinomial%20Logistic%20Regression/MLR_Algorithm_Implementation.ipynb\" target=\"_parent\"><img src=\"https://colab.research.google.com/assets/colab-badge.svg\" alt=\"Open In Colab\"/></a>"
      ]
    },
    {
      "cell_type": "markdown",
      "source": [
        "# Multinomial Regression From Scratch"
      ],
      "metadata": {
        "id": "dHfRlEqgYsTs"
      }
    },
    {
      "cell_type": "code",
      "execution_count": null,
      "metadata": {
        "id": "REBlj7i6YZ7M"
      },
      "outputs": [],
      "source": [
        "import numpy as np\n",
        "import matplotlib.pyplot as plt\n",
        "from sklearn import metrics\n",
        "from sklearn import preprocessing\n",
        "from sklearn import datasets\n",
        "from sklearn import model_selection"
      ]
    },
    {
      "cell_type": "markdown",
      "source": [
        "## Algorithm\n",
        "\n",
        "Reference: http://deeplearning.stanford.edu/tutorial/supervised/SoftmaxRegression/"
      ],
      "metadata": {
        "id": "JIoXTTDCg4yr"
      }
    },
    {
      "cell_type": "markdown",
      "source": [
        "### Softmax Function\n",
        "\n",
        "$\\quad \\begin{array}{rcl}\n",
        "\\sigma(z)_l & = & \\displaystyle\\frac{e^{z_l}}{e^{z_1} + e^{z_2} + ... + e^{z_k}} \\\\\n",
        " & = & \\displaystyle\\frac{e^{z_l}}{\\sum_{l=1}^{k}e^{z_l}} \\\\\n",
        "\\end{array}$\n",
        "\n",
        "where $z = \\theta_0 + \\theta_1 x_1 + ... + \\theta_m x_m = X \\cdot \\theta$, \n",
        "\n",
        "and $l \\in [ 1, k ]$\n",
        "\n",
        "The output of softmax function is a vector of size k, the same number of\n",
        "the classes, they are the probability of each input value. \n",
        "\n",
        "And the output is\n",
        "normalized, meaning the sum of all elements is 1, and each element is\n",
        "between 0 and 1."
      ],
      "metadata": {
        "id": "_RdHbVY2idTd"
      }
    },
    {
      "cell_type": "markdown",
      "source": [
        "### Hypothesis Function\n",
        "\n",
        "$\\quad h_\\theta(X)=\\frac{1}{\\sum_{l=1}^{k}e^{-X\\theta^{(l)}}}\\begin{bmatrix}\n",
        "e^{-X\\theta^{(1)}} \\\\\n",
        "e^{-X\\theta^{(2)}} \\\\\n",
        "... \\\\\n",
        "e^{-X\\theta^{(k)}}\n",
        "\\end{bmatrix}$\n",
        "\n",
        "Where θ is a matrix of $m \\times k$, its columns are classes and denoted by $θ^{(k)}$,\n",
        "its rows are features which is same as the binary logistic regression.\n",
        "Therefore it can be denoted as,\n",
        "\n",
        "$\\quad \\theta = \\begin{bmatrix}\n",
        "| & | & | & | \\\\\n",
        "\\theta^{(1)} & \\theta^{(2)} & ... & \\theta^{(k)} \\\\\n",
        "| & | & | & | \n",
        "\\end{bmatrix}$\n",
        "\n",
        "$θ$ has $m$ rows which corresponding to the features. Compare with the $θ$\n",
        "for binary logistic regression, it has $m$ rows but only one column."
      ],
      "metadata": {
        "id": "G0giVDvOk9my"
      }
    },
    {
      "cell_type": "markdown",
      "source": [
        "### Cost Function\n",
        "\n",
        "The cross-entropy function for multinomial logistic regression is:\n",
        "\n",
        "$ \\quad J(\\theta) = - \\frac{1}{n}\\sum_{i=1}^{n}\\sum_{l=1}^{k}1\\left\\{ y^{(i)}=k \\right\\}log(h_\\theta(x^{(i)}))\n",
        "$\n",
        "\n",
        "where $\n",
        "1 \\left\\{  \\right\\} = \\left\\{ \\begin{array}{cl}\n",
        "1 & \\left\\{ \\text{statement is true} \\right\\} \\\\\n",
        "0 & \\left\\{ \\text{statement is false}\\right\\} \n",
        "\\end{array} \\right.\n",
        "$"
      ],
      "metadata": {
        "id": "17AzCsawnfA7"
      }
    },
    {
      "cell_type": "markdown",
      "source": [
        "### Gradient\n",
        "\n",
        "The gradient descent method will be used to find the minimum value of\n",
        "the cost function. The gradient is a vector, each element is the partial\n",
        "derivative of a feature/variable. The size of gradient is same as that of $θ$.\n",
        "\n",
        "$\\quad \\nabla J(\\theta) = \\begin{bmatrix}\n",
        "\\displaystyle\\frac{\\partial J( \\theta ) }{\\partial \\theta_0} \\\\ \n",
        "\\displaystyle\\frac{\\partial J( \\theta ) }{\\partial \\theta_1}  \\\\ \n",
        "\\displaystyle\\frac{\\partial J( \\theta ) }{\\partial \\theta_2} \\\\ \n",
        "... \\\\\n",
        "\\displaystyle\\frac{\\partial J( \\theta ) }{\\partial \\theta_m} \\\\ \\end{bmatrix} = \n",
        "\\begin{bmatrix}\n",
        "\\displaystyle\\frac{\\mathrm{1} }{n}  \\sum_{i=1}^{n} ( y^{(i)} - h_\\theta(x^{(i)})  ) \\\\ \n",
        "\\displaystyle\\frac{\\mathrm{1} }{n}  \\sum_{i=1}^{n} ( y^{(i)} - h_\\theta(x^{(i)})  ) x_1^{(i)}  \\\\ \n",
        "\\displaystyle\\frac{\\mathrm{1} }{n}  \\sum_{i=1}^{n} ( y^{(i)} - h_\\theta(x^{(i)})  ) x_2^{(i)} \\\\ \n",
        "... \\\\\n",
        "\\displaystyle\\frac{\\mathrm{1} }{n}  \\sum_{i=1}^{n} ( y^{(i)} - h_\\theta(x^{(i)}) ) x_m^{(i)} \\\\ \\end{bmatrix}$"
      ],
      "metadata": {
        "id": "ZBf9PjvSqBQy"
      }
    },
    {
      "cell_type": "markdown",
      "source": [
        "## Multinomial Logistic Regression Class"
      ],
      "metadata": {
        "id": "giNwE5KTai1U"
      }
    },
    {
      "cell_type": "code",
      "source": [
        "class MultinomialLogisticRegression:\n",
        "    def __init__(self, X, y, fit_intercept=True):\n",
        "        self.X = X\n",
        "        self.y = self.one_hot(y.reshape(-1,1))\n",
        "        if fit_intercept:\n",
        "            self.X = np.hstack((np.ones((self.X.shape[0], 1)), self.X))\n",
        "        self.theta = np.zeros((self.X.shape[1], self.y.shape[1]))\n",
        "        self.fit_intercept = fit_intercept\n",
        "        self.cost_history = []\n",
        "        self.epoch_history = []      \n",
        "\n",
        "    def one_hot(self, y):\n",
        "        n_classes = len(np.unique(y))\n",
        "        oh = np.zeros((len(y), n_classes))\n",
        "        for i, val in enumerate(y):\n",
        "            oh[i, val] = 1.0\n",
        "        return oh\n",
        "\n",
        "    def softmax(self, z):\n",
        "        z_max = np.amax(z, axis=1, keepdims=True)\n",
        "        exp_shifted = np.exp(z - z_max)\n",
        "        return exp_shifted / np.sum(exp_shifted, axis=1, keepdims=True)    \n",
        "\n",
        "    def hypothesis(self, X):\n",
        "        z = np.dot(X, self.theta)\n",
        "        return (self.softmax(-z))\n",
        "\n",
        "    def cost(self, h, y):\n",
        "        return (-np.mean(np.sum(np.log(h) * (y), axis=1)))\n",
        "\n",
        "    def gradient(self, X, h, y):\n",
        "        return np.dot(np.transpose(X), (y - h)) / y.shape[0]\n",
        "\n",
        "    def fit(self, epochs=5000, alpha=0.01):\n",
        "        for i in range(epochs):\n",
        "            h = self.hypothesis(self.X)\n",
        "            cost = self.cost(h, self.y)\n",
        "            grad = self.gradient(self.X, h, self.y)\n",
        "            self.theta -= alpha * grad\n",
        "            self.epoch_history.append(i)\n",
        "            self.cost_history.append(cost)     \n",
        "\n",
        "    def predict(self, X):\n",
        "        if self.fit_intercept:\n",
        "            X = np.hstack((np.ones((X.shape[0], 1)), X))\n",
        "        h = self.hypothesis(X)\n",
        "        return np.argmax(h, axis=1)\n"
      ],
      "metadata": {
        "id": "7PceiISYafWN"
      },
      "execution_count": null,
      "outputs": []
    },
    {
      "cell_type": "markdown",
      "source": [
        "## Load hand-written digits dataset\n",
        "\n",
        "1.   Load the dataset\n",
        "2.   Scale the data\n",
        "3.   Split into train and test sets\n",
        "\n"
      ],
      "metadata": {
        "id": "cgQRZqwYZikT"
      }
    },
    {
      "cell_type": "code",
      "source": [
        "digits = datasets.load_digits()\n",
        "scaler = preprocessing.StandardScaler() \n",
        "X = scaler.fit_transform(digits.data) \n",
        "y = digits.target\n",
        "X_train, X_test, y_train, y_test = \\\n",
        "model_selection.train_test_split(X, y, \n",
        "                                 train_size = .75, \n",
        "                                 random_state=0)"
      ],
      "metadata": {
        "id": "7omlLSMvZh8d"
      },
      "execution_count": null,
      "outputs": []
    },
    {
      "cell_type": "markdown",
      "source": [
        "\n",
        "\n",
        "4.   Create a MultinomialLogisticRegression class\n",
        "5.   Fit it with train set\n",
        "6.   Make prediction with test set\n",
        "7.   Print out the results\n",
        "\n"
      ],
      "metadata": {
        "id": "kvlejgPKr576"
      }
    },
    {
      "cell_type": "code",
      "source": [
        "regressor = MultinomialLogisticRegression(X_train, y_train)\n",
        "regressor.fit(epochs=10000, alpha=0.01)\n",
        "y_pred = regressor.predict(X_test)\n",
        "a_score = metrics.accuracy_score(y_test, y_pred)\n",
        "c_matrix = metrics.confusion_matrix(y_test, y_pred)\n",
        "c_report = metrics.classification_report(y_test, y_pred)\n",
        "print(\"Accuracy Score:\", a_score)\n",
        "print(\"Confusion matrix:\\n\", c_matrix)\n",
        "print(\"Classification Report:\\n\", c_report)"
      ],
      "metadata": {
        "id": "VkpiXhy8a61M",
        "outputId": "e6143d40-dce3-4fb5-8781-10c82647e15c",
        "colab": {
          "base_uri": "https://localhost:8080/"
        }
      },
      "execution_count": null,
      "outputs": [
        {
          "output_type": "stream",
          "name": "stdout",
          "text": [
            "Accuracy Score: 0.9622222222222222\n",
            "Confusion matrix:\n",
            " [[37  0  0  0  0  0  0  0  0  0]\n",
            " [ 0 40  0  0  1  0  1  0  0  1]\n",
            " [ 0  0 44  0  0  0  0  0  0  0]\n",
            " [ 0  0  0 44  0  0  0  0  1  0]\n",
            " [ 0  0  0  0 36  0  0  2  0  0]\n",
            " [ 0  0  0  0  0 47  0  0  0  1]\n",
            " [ 0  1  0  0  0  0 51  0  0  0]\n",
            " [ 0  0  0  0  2  0  0 46  0  0]\n",
            " [ 0  3  1  0  0  1  0  0 43  0]\n",
            " [ 0  0  0  0  0  1  0  1  0 45]]\n",
            "Classification Report:\n",
            "               precision    recall  f1-score   support\n",
            "\n",
            "           0       1.00      1.00      1.00        37\n",
            "           1       0.91      0.93      0.92        43\n",
            "           2       0.98      1.00      0.99        44\n",
            "           3       1.00      0.98      0.99        45\n",
            "           4       0.92      0.95      0.94        38\n",
            "           5       0.96      0.98      0.97        48\n",
            "           6       0.98      0.98      0.98        52\n",
            "           7       0.94      0.96      0.95        48\n",
            "           8       0.98      0.90      0.93        48\n",
            "           9       0.96      0.96      0.96        47\n",
            "\n",
            "    accuracy                           0.96       450\n",
            "   macro avg       0.96      0.96      0.96       450\n",
            "weighted avg       0.96      0.96      0.96       450\n",
            "\n"
          ]
        }
      ]
    },
    {
      "cell_type": "markdown",
      "source": [
        "\n",
        "\n",
        "8.   Visualize the confusion matrix\n",
        "\n",
        "\n"
      ],
      "metadata": {
        "id": "INylmVNzsQes"
      }
    },
    {
      "cell_type": "code",
      "source": [
        "plt.rcParams[\"figure.figsize\"] = (8, 6)\n",
        "plt.rcParams['image.cmap'] = 'Blues'\n",
        "disp = metrics.ConfusionMatrixDisplay.from_predictions(y_test, y_pred)\n",
        "disp.figure_.suptitle(\"Confusion Matrix\")\n",
        "# print(f\"Confusion matrix:\\n{disp.confusion_matrix}\")\n",
        "plt.show()"
      ],
      "metadata": {
        "id": "9Uhk3f7Crsww",
        "outputId": "5f2eb339-106a-4638-f766-ac74e3671fef",
        "colab": {
          "base_uri": "https://localhost:8080/",
          "height": 431
        }
      },
      "execution_count": null,
      "outputs": [
        {
          "output_type": "display_data",
          "data": {
            "text/plain": [
              "<Figure size 576x432 with 2 Axes>"
            ],
            "image/png": "[encoded data removed]"
          },
          "metadata": {
            "needs_background": "light"
          }
        }
      ]
    },
    {
      "cell_type": "markdown",
      "source": [
        "9.   Display the cost vs epoch"
      ],
      "metadata": {
        "id": "1qCj2y_fsY7M"
      }
    },
    {
      "cell_type": "code",
      "source": [
        "fig = plt.figure(figsize=(8,6))\n",
        "plt.title(r'Cost vs Epoch')\n",
        "plt.plot(regressor.epoch_history, regressor.cost_history, color='b', label=\"Cost --> %f\"%regressor.cost_history[-1])\n",
        "plt.xlabel('Epoch')\n",
        "plt.ylabel(\"Cost\")\n",
        "plt.legend(loc='best')\n",
        "plt.savefig(\"multinomial_regression_from_scratch.svg\", format=\"svg\", transparent=True, bbox_inches='tight')\n",
        "plt.show()"
      ],
      "metadata": {
        "id": "VIGAsAC1rkhq",
        "outputId": "5a53be1f-3840-42e3-98a0-9ee28949b032",
        "colab": {
          "base_uri": "https://localhost:8080/",
          "height": 404
        }
      },
      "execution_count": null,
      "outputs": [
        {
          "output_type": "display_data",
          "data": {
            "text/plain": [
              "<Figure size 576x432 with 1 Axes>"
            ],
            "image/png": "[encoded data removed]"
          },
          "metadata": {
            "needs_background": "light"
          }
        }
      ]
    },
    {
      "cell_type": "markdown",
      "source": [
        "## Other Datasets\n",
        "\n",
        "Iris Dataset\n",
        "\n",
        "*   number of sample data: $n=150$\n",
        "*   features: $m=4$\n",
        "*   classes: $k=3$\n",
        "\n",
        "\n"
      ],
      "metadata": {
        "id": "xCE3d6uMXvBI"
      }
    },
    {
      "cell_type": "code",
      "source": [
        "iris = datasets.load_iris()\n",
        "scaler = preprocessing.StandardScaler()\n",
        "X1 = scaler.fit_transform(iris.data) \n",
        "y1 = iris.target\n",
        "print(\"X1 size:\", X1.shape)\n",
        "print(\"y1 size\", y1.shape)\n",
        "print(\"y1 classes:\", np.unique(y1))\n",
        "\n",
        "regressor1 = MultinomialLogisticRegression(X1, y1)\n",
        "regressor1.fit(epochs=10000, alpha=0.01)\n",
        "y1_pred = regressor1.predict(X1)\n",
        "a_score = metrics.accuracy_score(y1, y1_pred)\n",
        "c_matrix = metrics.confusion_matrix(y1, y1_pred)\n",
        "c_report = metrics.classification_report(y1, y1_pred)\n",
        "print(\"\\nAccuracy Score:\", a_score)\n",
        "print(\"\\nConfusion Matrix:\\n\", c_matrix)\n",
        "print(\"\\nClassification Report:\\n\", c_report)\n",
        "\n",
        "fig = plt.figure(figsize=(8,6))\n",
        "plt.title(r'Cost vs Epoch')\n",
        "plt.plot(regressor1.epoch_history, regressor1.cost_history, color='b', label=\"Cost --> %f\"%regressor1.cost_history[-1])\n",
        "plt.xlabel('Epoch')\n",
        "plt.ylabel(\"Cost\")\n",
        "plt.legend(loc='best')\n",
        "plt.savefig(\"multinomial_regression_from_scratch1.svg\", format=\"svg\", transparent=True, bbox_inches='tight')\n",
        "plt.show()"
      ],
      "metadata": {
        "id": "yrYoaZ4-ZKe1",
        "outputId": "64d6f14a-76cb-427e-a69c-b029e8f59c38",
        "colab": {
          "base_uri": "https://localhost:8080/",
          "height": 785
        }
      },
      "execution_count": null,
      "outputs": [
        {
          "output_type": "stream",
          "name": "stdout",
          "text": [
            "X1 size: (150, 4)\n",
            "y1 size (150,)\n",
            "y1 classes: [0 1 2]\n",
            "\n",
            "Accuracy Score: 0.9733333333333334\n",
            "\n",
            "Confusion Matrix:\n",
            " [[50  0  0]\n",
            " [ 0 47  3]\n",
            " [ 0  1 49]]\n",
            "\n",
            "Classification Report:\n",
            "               precision    recall  f1-score   support\n",
            "\n",
            "           0       1.00      1.00      1.00        50\n",
            "           1       0.98      0.94      0.96        50\n",
            "           2       0.94      0.98      0.96        50\n",
            "\n",
            "    accuracy                           0.97       150\n",
            "   macro avg       0.97      0.97      0.97       150\n",
            "weighted avg       0.97      0.97      0.97       150\n",
            "\n"
          ]
        },
        {
          "output_type": "display_data",
          "data": {
            "text/plain": [
              "<Figure size 576x432 with 1 Axes>"
            ],
            "image/png": "[encoded data removed]"
          },
          "metadata": {
            "needs_background": "light"
          }
        }
      ]
    },
    {
      "cell_type": "markdown",
      "source": [
        "Generated sample dataset\n",
        "\n",
        "*   number of sample data: $n=1000$\n",
        "*   features: $m=12$\n",
        "*   classes: $k=6$"
      ],
      "metadata": {
        "id": "LZWQSTXfd1L9"
      }
    },
    {
      "cell_type": "code",
      "source": [
        "X2, y2 = datasets.make_classification(\n",
        "                  n_samples=1000,\n",
        "                  n_features=12,\n",
        "                  n_informative=3,\n",
        "                  n_classes=6,\n",
        "                  n_clusters_per_class=1,\n",
        "                  random_state=1)\n",
        "\n",
        "print(\"X2 size:\", X2.shape)\n",
        "print(\"y2 size\", y2.shape)\n",
        "print(\"y2 classes:\", np.unique(y2))\n",
        "\n",
        "regressor2 = MultinomialLogisticRegression(X2, y2)\n",
        "regressor2.fit(epochs=10000, alpha=0.01)\n",
        "y2_pred = regressor2.predict(X2)\n",
        "a_score = metrics.accuracy_score(y2, y2_pred)\n",
        "c_matrix = metrics.confusion_matrix(y2, y2_pred)\n",
        "c_report = metrics.classification_report(y2, y2_pred)\n",
        "print(\"\\nAccuracy Score:\", a_score)\n",
        "print(\"\\nConfusion Matrix:\\n\", c_matrix)\n",
        "print(\"\\nClassification Report:\\n\", c_report)\n",
        "\n",
        "fig = plt.figure(figsize=(8,6))\n",
        "plt.title(r'Cost vs Epoch')\n",
        "plt.plot(regressor2.epoch_history, regressor2.cost_history, color='b', label=\"Cost --> %f\"%regressor2.cost_history[-1])\n",
        "plt.xlabel('Epoch')\n",
        "plt.ylabel(\"Cost\")\n",
        "plt.legend(loc='best')\n",
        "plt.savefig(\"multinomial_regression_from_scratch2.svg\", format=\"svg\", transparent=True, bbox_inches='tight')\n",
        "plt.show()"
      ],
      "metadata": {
        "id": "1JDifZQtczOB",
        "outputId": "e84ef7c0-e728-4f99-83e7-bd0e0f6963b2",
        "colab": {
          "base_uri": "https://localhost:8080/",
          "height": 890
        }
      },
      "execution_count": null,
      "outputs": [
        {
          "output_type": "stream",
          "name": "stdout",
          "text": [
            "X2 size: (1000, 12)\n",
            "y2 size (1000,)\n",
            "y2 classes: [0 1 2 3 4 5]\n",
            "\n",
            "Accuracy Score: 0.779\n",
            "\n",
            "Confusion Matrix:\n",
            " [[124   0   6  25   0   6]\n",
            " [ 10 122   2  33   0   0]\n",
            " [  0   3 148   1  15   0]\n",
            " [  5  28   1 113   1  21]\n",
            " [ 18   2   3   1 142   0]\n",
            " [ 12   0   4   1  23 130]]\n",
            "\n",
            "Classification Report:\n",
            "               precision    recall  f1-score   support\n",
            "\n",
            "           0       0.73      0.77      0.75       161\n",
            "           1       0.79      0.73      0.76       167\n",
            "           2       0.90      0.89      0.89       167\n",
            "           3       0.65      0.67      0.66       169\n",
            "           4       0.78      0.86      0.82       166\n",
            "           5       0.83      0.76      0.80       170\n",
            "\n",
            "    accuracy                           0.78      1000\n",
            "   macro avg       0.78      0.78      0.78      1000\n",
            "weighted avg       0.78      0.78      0.78      1000\n",
            "\n"
          ]
        },
        {
          "output_type": "display_data",
          "data": {
            "text/plain": [
              "<Figure size 576x432 with 1 Axes>"
            ],
            "image/png": "[encoded data removed]"
          },
          "metadata": {
            "needs_background": "light"
          }
        }
      ]
    }
  ]
}