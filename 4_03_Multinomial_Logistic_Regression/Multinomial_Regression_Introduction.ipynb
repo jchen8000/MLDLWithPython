{
  "nbformat": 4,
  "nbformat_minor": 0,
  "metadata": {
    "colab": {
      "name": "Multinomial_Regression_Introduction.ipynb",
      "provenance": [],
      "collapsed_sections": [],
      "authorship_tag": "ABX9TyMeXqSSDMONdcItg/+6WBxo",
      "include_colab_link": true
    },
    "kernelspec": {
      "name": "python3",
      "display_name": "Python 3"
    },
    "language_info": {
      "name": "python"
    }
  },
  "cells": [
    {
      "cell_type": "markdown",
      "metadata": {
        "id": "view-in-github",
        "colab_type": "text"
      },
      "source": [
        "<a href=\"https://colab.research.google.com/github/jchen8000/MachineLearning/blob/master/3%20Multinomial%20Logistic%20Regression/Multinomial_Regression_Introduction.ipynb\" target=\"_parent\"><img src=\"https://colab.research.google.com/assets/colab-badge.svg\" alt=\"Open In Colab\"/></a>"
      ]
    },
    {
      "cell_type": "markdown",
      "source": [
        "# Multinomial Logistic Regression"
      ],
      "metadata": {
        "id": "GGLH6CvkCR1J"
      }
    },
    {
      "cell_type": "markdown",
      "source": [
        "## Introduction"
      ],
      "metadata": {
        "id": "xtC6fOjpNssB"
      }
    },
    {
      "cell_type": "code",
      "execution_count": 12,
      "metadata": {
        "id": "cL4YdkuBCDwj"
      },
      "outputs": [],
      "source": [
        "import numpy as np\n",
        "import matplotlib.pyplot as plt\n",
        "from sklearn import metrics\n",
        "from sklearn import preprocessing\n",
        "from sklearn import datasets\n",
        "from sklearn import linear_model\n",
        "from sklearn import model_selection "
      ]
    },
    {
      "cell_type": "code",
      "source": [
        "X, y = datasets.make_classification(\n",
        "                  n_samples=1000,\n",
        "                  n_features=12,\n",
        "                  n_informative=3,\n",
        "                  n_classes=6,\n",
        "                  n_clusters_per_class=1,\n",
        "                  random_state=1)\n",
        "print(\"X size:   \", X.shape)\n",
        "print(\"y size:   \", y.shape)\n",
        "print(\"y classes:\", np.unique(y))"
      ],
      "metadata": {
        "colab": {
          "base_uri": "https://localhost:8080/"
        },
        "id": "laLz4ZmLCk1V",
        "outputId": "351d4363-6e31-4e7f-85ae-0e0fd346ee58"
      },
      "execution_count": 13,
      "outputs": [
        {
          "output_type": "stream",
          "name": "stdout",
          "text": [
            "X size:    (1000, 12)\n",
            "y size:    (1000,)\n",
            "y classes: [0 1 2 3 4 5]\n"
          ]
        }
      ]
    },
    {
      "cell_type": "code",
      "source": [
        "X_train, X_test, y_train, y_test = \\\n",
        "model_selection.train_test_split(X, y,\n",
        "                                 train_size = .75,\n",
        "                                 random_state=2)\n",
        "print(\"X_train size:\", X_train.shape)\n",
        "print(\"y_train size:\", y_train.shape)\n",
        "print(\"y_train classes:\", np.unique(y))\n",
        "print(\"X_test size:\", X_test.shape)\n",
        "print(\"y_test size:\", y_test.shape)\n",
        "print(\"y_test classes:\", np.unique(y))"
      ],
      "metadata": {
        "colab": {
          "base_uri": "https://localhost:8080/"
        },
        "id": "rSx_kUg9XBlF",
        "outputId": "1caf2580-ac35-4df6-a8a1-9de92591011a"
      },
      "execution_count": 14,
      "outputs": [
        {
          "output_type": "stream",
          "name": "stdout",
          "text": [
            "X_train size: (750, 12)\n",
            "y_train size: (750,)\n",
            "y_train classes: [0 1 2 3 4 5]\n",
            "X_test size: (250, 12)\n",
            "y_test size: (250,)\n",
            "y_test classes: [0 1 2 3 4 5]\n"
          ]
        }
      ]
    },
    {
      "cell_type": "code",
      "source": [
        "model = linear_model.LogisticRegression(multi_class='multinomial')\n",
        "model.fit(X_train, y_train)\n",
        "y_pred = model.predict(X_test)\n",
        "a_score = metrics.accuracy_score(y_test, y_pred)\n",
        "c_matrix = metrics.confusion_matrix(y_test, y_pred)\n",
        "print(\"Accuracy Score:\", a_score)\n",
        "print(\"Confusion matrix:\\n\", c_matrix)"
      ],
      "metadata": {
        "colab": {
          "base_uri": "https://localhost:8080/"
        },
        "id": "q-l0xOabWh9Z",
        "outputId": "6b8d3703-f6b1-4eb8-dfe2-f9c1345ddc0a"
      },
      "execution_count": 15,
      "outputs": [
        {
          "output_type": "stream",
          "name": "stdout",
          "text": [
            "Accuracy Score: 0.792\n",
            "Confusion matrix:\n",
            " [[27  0  1  9  0  0]\n",
            " [ 3 36  0 15  0  0]\n",
            " [ 0  1 42  1  2  0]\n",
            " [ 2  3  0 28  0  3]\n",
            " [ 5  0  1  0 30  0]\n",
            " [ 2  0  1  0  3 35]]\n"
          ]
        }
      ]
    },
    {
      "cell_type": "code",
      "source": [
        "plt.rcParams[\"figure.figsize\"] = (8, 6)\n",
        "plt.rcParams['image.cmap'] = 'Blues'\n",
        "disp = metrics.ConfusionMatrixDisplay.from_predictions(y_test, y_pred)\n",
        "disp.figure_.suptitle(\"Confusion Matrix\")\n",
        "print(f\"Confusion matrix:\\n{disp.confusion_matrix}\")\n",
        "plt.savefig(\"multinomial_regression_confusion_matrix.svg\", format=\"svg\", transparent=True, bbox_inches='tight')\n",
        "plt.show()"
      ],
      "metadata": {
        "colab": {
          "base_uri": "https://localhost:8080/",
          "height": 553
        },
        "id": "Abkb6Ij4Z_Pq",
        "outputId": "01d8751b-c338-4515-c5e5-4ca5509f0b15"
      },
      "execution_count": 16,
      "outputs": [
        {
          "output_type": "stream",
          "name": "stdout",
          "text": [
            "Confusion matrix:\n",
            "[[27  0  1  9  0  0]\n",
            " [ 3 36  0 15  0  0]\n",
            " [ 0  1 42  1  2  0]\n",
            " [ 2  3  0 28  0  3]\n",
            " [ 5  0  1  0 30  0]\n",
            " [ 2  0  1  0  3 35]]\n"
          ]
        },
        {
          "output_type": "display_data",
          "data": {
            "text/plain": [
              "<Figure size 576x432 with 2 Axes>"
            ],
            "image/png": "[encoded data removed]"
          },
          "metadata": {
            "needs_background": "light"
          }
        }
      ]
    },
    {
      "cell_type": "markdown",
      "source": [
        "## One-hot Encoding"
      ],
      "metadata": {
        "id": "4m_7QfwZNwIn"
      }
    },
    {
      "cell_type": "code",
      "source": [
        "color = np.array([[0], [1], [2], [3]])\n",
        "ohe = preprocessing.OneHotEncoder()\n",
        "color_onehot = ohe.fit_transform(color)\n",
        "print(\"Color:\\n\", color)\n",
        "print(\"Color in one-hot\\n\", color_onehot.toarray())"
      ],
      "metadata": {
        "id": "Prq6tjKSN0Tx",
        "outputId": "ecf9ad20-0022-43d7-ad78-27b664a02b9c",
        "colab": {
          "base_uri": "https://localhost:8080/"
        }
      },
      "execution_count": 17,
      "outputs": [
        {
          "output_type": "stream",
          "name": "stdout",
          "text": [
            "Color:\n",
            " [[0]\n",
            " [1]\n",
            " [2]\n",
            " [3]]\n",
            "Color in one-hot\n",
            " [[1. 0. 0. 0.]\n",
            " [0. 1. 0. 0.]\n",
            " [0. 0. 1. 0.]\n",
            " [0. 0. 0. 1.]]\n"
          ]
        }
      ]
    },
    {
      "cell_type": "code",
      "source": [
        "def one_hot(y):\n",
        "    n_classes = len(np.unique(y))\n",
        "    oh = np.zeros((len(y), n_classes))\n",
        "    for i, val in enumerate(y):\n",
        "        oh[i, val] = 1.0\n",
        "    return oh\n",
        "oh = one_hot(color)\n",
        "print(\"Color:\\n\", color)\n",
        "print(\"Color in one-hot\\n\", oh)"
      ],
      "metadata": {
        "id": "cOuQyplfRADJ",
        "outputId": "4d6c4a34-b0ff-497d-dc37-f0f022ab7de3",
        "colab": {
          "base_uri": "https://localhost:8080/"
        }
      },
      "execution_count": 18,
      "outputs": [
        {
          "output_type": "stream",
          "name": "stdout",
          "text": [
            "Color:\n",
            " [[0]\n",
            " [1]\n",
            " [2]\n",
            " [3]]\n",
            "Color in one-hot\n",
            " [[1. 0. 0. 0.]\n",
            " [0. 1. 0. 0.]\n",
            " [0. 0. 1. 0.]\n",
            " [0. 0. 0. 1.]]\n"
          ]
        }
      ]
    },
    {
      "cell_type": "code",
      "source": [
        "def reverse_one_hot(one_hot):\n",
        "    result = np.argmax(one_hot, axis=1)\n",
        "    return result.reshape(-1,1)\n",
        "roh = reverse_one_hot(oh)\n",
        "print(\"One-hot:\\n\", oh)\n",
        "print(\"Reverse One-hot:\\n\", roh)"
      ],
      "metadata": {
        "id": "7Ck0wzIooeUk",
        "outputId": "515f8473-b336-4976-a694-8eb7f143411d",
        "colab": {
          "base_uri": "https://localhost:8080/"
        }
      },
      "execution_count": 19,
      "outputs": [
        {
          "output_type": "stream",
          "name": "stdout",
          "text": [
            "One-hot:\n",
            " [[1. 0. 0. 0.]\n",
            " [0. 1. 0. 0.]\n",
            " [0. 0. 1. 0.]\n",
            " [0. 0. 0. 1.]]\n",
            "Reverse One-hot:\n",
            " [[0]\n",
            " [1]\n",
            " [2]\n",
            " [3]]\n"
          ]
        }
      ]
    },
    {
      "cell_type": "markdown",
      "source": [
        "## Classification Report"
      ],
      "metadata": {
        "id": "fOURA_KGF7xA"
      }
    },
    {
      "cell_type": "code",
      "source": [
        "c_report = metrics.classification_report(y_test, y_pred)\n",
        "print(c_report)"
      ],
      "metadata": {
        "id": "SJPYqrFnGPNO",
        "outputId": "b18ecc1e-9a1e-4fd1-8876-f1b8b9ef4e7f",
        "colab": {
          "base_uri": "https://localhost:8080/"
        }
      },
      "execution_count": 21,
      "outputs": [
        {
          "output_type": "stream",
          "name": "stdout",
          "text": [
            "              precision    recall  f1-score   support\n",
            "\n",
            "           0       0.69      0.73      0.71        37\n",
            "           1       0.90      0.67      0.77        54\n",
            "           2       0.93      0.91      0.92        46\n",
            "           3       0.53      0.78      0.63        36\n",
            "           4       0.86      0.83      0.85        36\n",
            "           5       0.92      0.85      0.89        41\n",
            "\n",
            "    accuracy                           0.79       250\n",
            "   macro avg       0.81      0.80      0.79       250\n",
            "weighted avg       0.82      0.79      0.80       250\n",
            "\n"
          ]
        }
      ]
    },
    {
      "cell_type": "markdown",
      "source": [
        "## Digits Dataset "
      ],
      "metadata": {
        "id": "oFXvnknqMv8w"
      }
    },
    {
      "cell_type": "code",
      "source": [
        "digits = datasets.load_digits()\n",
        "print(\"Data:\", digits.data.shape)\n",
        "print(\"Target:\", digits.target.shape)\n",
        "print(\"Features:\", digits.feature_names)\n",
        "print(\"Description:\", digits.DESCR)\n",
        "print(\"Keys:\", digits.keys())"
      ],
      "metadata": {
        "id": "f2SLMs9NMuMp"
      },
      "execution_count": null,
      "outputs": []
    },
    {
      "cell_type": "code",
      "source": [
        "X = digits.data \n",
        "y = digits.target\n",
        "print(X.shape)\n",
        "print(y.shape)\n",
        "print(np.unique(y))"
      ],
      "metadata": {
        "id": "KIuqPD-QPC1Q",
        "outputId": "071a2ef7-8cdf-41ff-9b2b-9686c1dc79e1",
        "colab": {
          "base_uri": "https://localhost:8080/"
        }
      },
      "execution_count": 28,
      "outputs": [
        {
          "output_type": "stream",
          "name": "stdout",
          "text": [
            "(1797, 64)\n",
            "(1797,)\n",
            "[0 1 2 3 4 5 6 7 8 9]\n"
          ]
        }
      ]
    },
    {
      "cell_type": "code",
      "source": [
        "scaler = preprocessing.StandardScaler()\n",
        "X = scaler.fit_transform(X)\n",
        "X_train, X_test, y_train, y_test = \\\n",
        "model_selection.train_test_split(X, y,\n",
        "                                 train_size = .75,\n",
        "                                 random_state=0)\n",
        "print(\"X_train size:\", X_train.shape)\n",
        "print(\"y_train size:\", y_train.shape)\n",
        "print(\"y_train classes:\", np.unique(y))\n",
        "print(\"X_test size:\", X_test.shape)\n",
        "print(\"y_test size:\", y_test.shape)\n",
        "print(\"y_test classes:\", np.unique(y))"
      ],
      "metadata": {
        "id": "r8G2aiMaQQYw",
        "outputId": "100def65-13b4-451e-876d-138ef1c5e6c5",
        "colab": {
          "base_uri": "https://localhost:8080/"
        }
      },
      "execution_count": 42,
      "outputs": [
        {
          "output_type": "stream",
          "name": "stdout",
          "text": [
            "X_train size: (1347, 64)\n",
            "y_train size: (1347,)\n",
            "y_train classes: [0 1 2 3 4 5 6 7 8 9]\n",
            "X_test size: (450, 64)\n",
            "y_test size: (450,)\n",
            "y_test classes: [0 1 2 3 4 5 6 7 8 9]\n"
          ]
        }
      ]
    },
    {
      "cell_type": "code",
      "source": [
        "model = linear_model.LogisticRegression(\n",
        "               multi_class='multinomial')\n",
        "model.fit(X_train, y_train)\n",
        "y_pred = model.predict(X_test)"
      ],
      "metadata": {
        "id": "M_ycGsNrTPw7"
      },
      "execution_count": 43,
      "outputs": []
    },
    {
      "cell_type": "code",
      "source": [
        "a_score = metrics.accuracy_score(y_test, y_pred)\n",
        "c_matrix = metrics.confusion_matrix(y_test, y_pred)\n",
        "c_report = metrics.classification_report(y_test, y_pred)\n",
        "print(\"Accuracy Score:\", a_score)\n",
        "print(\"Confusion matrix:\\n\", c_matrix)\n",
        "print(\"Classification Report:\\n\", c_report)"
      ],
      "metadata": {
        "id": "ENKySxnZUuHM",
        "outputId": "adf0a5c5-b3a1-4e0d-813e-f9abd81a1a02",
        "colab": {
          "base_uri": "https://localhost:8080/"
        }
      },
      "execution_count": 44,
      "outputs": [
        {
          "output_type": "stream",
          "name": "stdout",
          "text": [
            "Accuracy Score: 0.9666666666666667\n",
            "Confusion matrix:\n",
            " [[37  0  0  0  0  0  0  0  0  0]\n",
            " [ 0 40  0  0  0  0  0  0  2  1]\n",
            " [ 0  0 43  1  0  0  0  0  0  0]\n",
            " [ 0  0  0 44  0  0  0  0  1  0]\n",
            " [ 0  0  0  0 37  0  0  1  0  0]\n",
            " [ 0  0  0  0  0 46  0  0  0  2]\n",
            " [ 0  1  0  0  0  0 51  0  0  0]\n",
            " [ 0  0  0  0  1  0  0 47  0  0]\n",
            " [ 0  3  1  0  0  0  0  0 44  0]\n",
            " [ 0  0  0  0  0  1  0  0  0 46]]\n",
            "classification Report:\n",
            "               precision    recall  f1-score   support\n",
            "\n",
            "           0       1.00      1.00      1.00        37\n",
            "           1       0.91      0.93      0.92        43\n",
            "           2       0.98      0.98      0.98        44\n",
            "           3       0.98      0.98      0.98        45\n",
            "           4       0.97      0.97      0.97        38\n",
            "           5       0.98      0.96      0.97        48\n",
            "           6       1.00      0.98      0.99        52\n",
            "           7       0.98      0.98      0.98        48\n",
            "           8       0.94      0.92      0.93        48\n",
            "           9       0.94      0.98      0.96        47\n",
            "\n",
            "    accuracy                           0.97       450\n",
            "   macro avg       0.97      0.97      0.97       450\n",
            "weighted avg       0.97      0.97      0.97       450\n",
            "\n"
          ]
        }
      ]
    }
  ]
}